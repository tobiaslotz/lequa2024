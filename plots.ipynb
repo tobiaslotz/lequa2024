{
 "cells": [
  {
   "cell_type": "code",
   "execution_count": 1,
   "id": "cca93f2d-29c1-41de-adde-51c9de2e7c97",
   "metadata": {},
   "outputs": [],
   "source": [
    "import argparse\n",
    "import numpy as np\n",
    "import os\n",
    "import pandas as pd\n",
    "import plotly.express as px\n",
    "from IPython.display import display\n",
    "\n",
    "pd.set_option('max_colwidth', None)\n",
    "pd.set_option('display.max_rows', None)"
   ]
  },
  {
   "cell_type": "code",
   "execution_count": 115,
   "id": "30eed508-0aca-4541-8c04-3afd3ae9689c",
   "metadata": {},
   "outputs": [
    {
     "data": {
      "text/html": [
       "<div>\n",
       "<style scoped>\n",
       "    .dataframe tbody tr th:only-of-type {\n",
       "        vertical-align: middle;\n",
       "    }\n",
       "\n",
       "    .dataframe tbody tr th {\n",
       "        vertical-align: top;\n",
       "    }\n",
       "\n",
       "    .dataframe thead th {\n",
       "        text-align: right;\n",
       "    }\n",
       "</style>\n",
       "<table border=\"1\" class=\"dataframe\">\n",
       "  <thead>\n",
       "    <tr style=\"text-align: right;\">\n",
       "      <th></th>\n",
       "      <th>data</th>\n",
       "      <th>method</th>\n",
       "      <th>params</th>\n",
       "      <th>mrae</th>\n",
       "    </tr>\n",
       "  </thead>\n",
       "  <tbody>\n",
       "    <tr>\n",
       "      <th>19</th>\n",
       "      <td>lequa2024_val</td>\n",
       "      <td>EMaxL</td>\n",
       "      <td>{'base_estimator__C': 0.31622776601683794}</td>\n",
       "      <td>1.147293</td>\n",
       "    </tr>\n",
       "    <tr>\n",
       "      <th>20</th>\n",
       "      <td>lequa2024_val</td>\n",
       "      <td>EMaxL</td>\n",
       "      <td>{'base_estimator__C': 1.0}</td>\n",
       "      <td>1.175605</td>\n",
       "    </tr>\n",
       "    <tr>\n",
       "      <th>10</th>\n",
       "      <td>lequa2024_val</td>\n",
       "      <td>SLD</td>\n",
       "      <td>{'classifier__C': 0.31622776601683794}</td>\n",
       "      <td>1.188196</td>\n",
       "    </tr>\n",
       "    <tr>\n",
       "      <th>11</th>\n",
       "      <td>lequa2024_val</td>\n",
       "      <td>SLD</td>\n",
       "      <td>{'classifier__C': 1.0}</td>\n",
       "      <td>1.214302</td>\n",
       "    </tr>\n",
       "    <tr>\n",
       "      <th>21</th>\n",
       "      <td>lequa2024_val</td>\n",
       "      <td>EMaxL</td>\n",
       "      <td>{'base_estimator__C': 3.1622776601683795}</td>\n",
       "      <td>1.304815</td>\n",
       "    </tr>\n",
       "    <tr>\n",
       "      <th>12</th>\n",
       "      <td>lequa2024_val</td>\n",
       "      <td>SLD</td>\n",
       "      <td>{'classifier__C': 3.1622776601683795}</td>\n",
       "      <td>1.342250</td>\n",
       "    </tr>\n",
       "    <tr>\n",
       "      <th>18</th>\n",
       "      <td>lequa2024_val</td>\n",
       "      <td>EMaxL</td>\n",
       "      <td>{'base_estimator__C': 0.1}</td>\n",
       "      <td>1.396897</td>\n",
       "    </tr>\n",
       "    <tr>\n",
       "      <th>2</th>\n",
       "      <td>lequa2024_val</td>\n",
       "      <td>PACC</td>\n",
       "      <td>{'transformer__classifier__estimator__C': 1.0}</td>\n",
       "      <td>1.408611</td>\n",
       "    </tr>\n",
       "    <tr>\n",
       "      <th>9</th>\n",
       "      <td>lequa2024_val</td>\n",
       "      <td>SLD</td>\n",
       "      <td>{'classifier__C': 0.1}</td>\n",
       "      <td>1.433657</td>\n",
       "    </tr>\n",
       "    <tr>\n",
       "      <th>1</th>\n",
       "      <td>lequa2024_val</td>\n",
       "      <td>PACC</td>\n",
       "      <td>{'transformer__classifier__estimator__C': 0.31622776601683794}</td>\n",
       "      <td>1.455602</td>\n",
       "    </tr>\n",
       "    <tr>\n",
       "      <th>24</th>\n",
       "      <td>lequa2024_val</td>\n",
       "      <td>EMaxL</td>\n",
       "      <td>{'base_estimator__C': 100.0}</td>\n",
       "      <td>1.474243</td>\n",
       "    </tr>\n",
       "    <tr>\n",
       "      <th>22</th>\n",
       "      <td>lequa2024_val</td>\n",
       "      <td>EMaxL</td>\n",
       "      <td>{'base_estimator__C': 10.0}</td>\n",
       "      <td>1.481884</td>\n",
       "    </tr>\n",
       "    <tr>\n",
       "      <th>23</th>\n",
       "      <td>lequa2024_val</td>\n",
       "      <td>EMaxL</td>\n",
       "      <td>{'base_estimator__C': 31.622776601683793}</td>\n",
       "      <td>1.489430</td>\n",
       "    </tr>\n",
       "    <tr>\n",
       "      <th>3</th>\n",
       "      <td>lequa2024_val</td>\n",
       "      <td>PACC</td>\n",
       "      <td>{'transformer__classifier__estimator__C': 3.1622776601683795}</td>\n",
       "      <td>1.510477</td>\n",
       "    </tr>\n",
       "    <tr>\n",
       "      <th>6</th>\n",
       "      <td>lequa2024_val</td>\n",
       "      <td>PACC</td>\n",
       "      <td>{'transformer__classifier__estimator__C': 100.0}</td>\n",
       "      <td>1.511216</td>\n",
       "    </tr>\n",
       "    <tr>\n",
       "      <th>15</th>\n",
       "      <td>lequa2024_val</td>\n",
       "      <td>SLD</td>\n",
       "      <td>{'classifier__C': 100.0}</td>\n",
       "      <td>1.511216</td>\n",
       "    </tr>\n",
       "    <tr>\n",
       "      <th>13</th>\n",
       "      <td>lequa2024_val</td>\n",
       "      <td>SLD</td>\n",
       "      <td>{'classifier__C': 10.0}</td>\n",
       "      <td>1.518364</td>\n",
       "    </tr>\n",
       "    <tr>\n",
       "      <th>4</th>\n",
       "      <td>lequa2024_val</td>\n",
       "      <td>PACC</td>\n",
       "      <td>{'transformer__classifier__estimator__C': 10.0}</td>\n",
       "      <td>1.525381</td>\n",
       "    </tr>\n",
       "    <tr>\n",
       "      <th>14</th>\n",
       "      <td>lequa2024_val</td>\n",
       "      <td>SLD</td>\n",
       "      <td>{'classifier__C': 31.622776601683793}</td>\n",
       "      <td>1.525886</td>\n",
       "    </tr>\n",
       "    <tr>\n",
       "      <th>7</th>\n",
       "      <td>lequa2024_val</td>\n",
       "      <td>PACC</td>\n",
       "      <td>{'transformer__classifier__estimator__C': 316.22776601683796}</td>\n",
       "      <td>1.534093</td>\n",
       "    </tr>\n",
       "    <tr>\n",
       "      <th>8</th>\n",
       "      <td>lequa2024_val</td>\n",
       "      <td>PACC</td>\n",
       "      <td>{'transformer__classifier__estimator__C': 1000.0}</td>\n",
       "      <td>1.538081</td>\n",
       "    </tr>\n",
       "    <tr>\n",
       "      <th>25</th>\n",
       "      <td>lequa2024_val</td>\n",
       "      <td>EMaxL</td>\n",
       "      <td>{'base_estimator__C': 316.22776601683796}</td>\n",
       "      <td>1.556559</td>\n",
       "    </tr>\n",
       "    <tr>\n",
       "      <th>5</th>\n",
       "      <td>lequa2024_val</td>\n",
       "      <td>PACC</td>\n",
       "      <td>{'transformer__classifier__estimator__C': 31.622776601683793}</td>\n",
       "      <td>1.563480</td>\n",
       "    </tr>\n",
       "    <tr>\n",
       "      <th>0</th>\n",
       "      <td>lequa2024_val</td>\n",
       "      <td>PACC</td>\n",
       "      <td>{'transformer__classifier__estimator__C': 0.1}</td>\n",
       "      <td>1.570044</td>\n",
       "    </tr>\n",
       "    <tr>\n",
       "      <th>26</th>\n",
       "      <td>lequa2024_val</td>\n",
       "      <td>EMaxL</td>\n",
       "      <td>{'base_estimator__C': 1000.0}</td>\n",
       "      <td>1.577521</td>\n",
       "    </tr>\n",
       "    <tr>\n",
       "      <th>16</th>\n",
       "      <td>lequa2024_val</td>\n",
       "      <td>SLD</td>\n",
       "      <td>{'classifier__C': 316.22776601683796}</td>\n",
       "      <td>1.592637</td>\n",
       "    </tr>\n",
       "    <tr>\n",
       "      <th>17</th>\n",
       "      <td>lequa2024_val</td>\n",
       "      <td>SLD</td>\n",
       "      <td>{'classifier__C': 1000.0}</td>\n",
       "      <td>1.611754</td>\n",
       "    </tr>\n",
       "  </tbody>\n",
       "</table>\n",
       "</div>"
      ],
      "text/plain": [
       "             data method                                                          params      mrae\n",
       "19  lequa2024_val  EMaxL                      {'base_estimator__C': 0.31622776601683794}  1.147293\n",
       "20  lequa2024_val  EMaxL                                      {'base_estimator__C': 1.0}  1.175605\n",
       "10  lequa2024_val    SLD                          {'classifier__C': 0.31622776601683794}  1.188196\n",
       "11  lequa2024_val    SLD                                          {'classifier__C': 1.0}  1.214302\n",
       "21  lequa2024_val  EMaxL                       {'base_estimator__C': 3.1622776601683795}  1.304815\n",
       "12  lequa2024_val    SLD                           {'classifier__C': 3.1622776601683795}  1.342250\n",
       "18  lequa2024_val  EMaxL                                      {'base_estimator__C': 0.1}  1.396897\n",
       "2   lequa2024_val   PACC                  {'transformer__classifier__estimator__C': 1.0}  1.408611\n",
       "9   lequa2024_val    SLD                                          {'classifier__C': 0.1}  1.433657\n",
       "1   lequa2024_val   PACC  {'transformer__classifier__estimator__C': 0.31622776601683794}  1.455602\n",
       "24  lequa2024_val  EMaxL                                    {'base_estimator__C': 100.0}  1.474243\n",
       "22  lequa2024_val  EMaxL                                     {'base_estimator__C': 10.0}  1.481884\n",
       "23  lequa2024_val  EMaxL                       {'base_estimator__C': 31.622776601683793}  1.489430\n",
       "3   lequa2024_val   PACC   {'transformer__classifier__estimator__C': 3.1622776601683795}  1.510477\n",
       "6   lequa2024_val   PACC                {'transformer__classifier__estimator__C': 100.0}  1.511216\n",
       "15  lequa2024_val    SLD                                        {'classifier__C': 100.0}  1.511216\n",
       "13  lequa2024_val    SLD                                         {'classifier__C': 10.0}  1.518364\n",
       "4   lequa2024_val   PACC                 {'transformer__classifier__estimator__C': 10.0}  1.525381\n",
       "14  lequa2024_val    SLD                           {'classifier__C': 31.622776601683793}  1.525886\n",
       "7   lequa2024_val   PACC   {'transformer__classifier__estimator__C': 316.22776601683796}  1.534093\n",
       "8   lequa2024_val   PACC               {'transformer__classifier__estimator__C': 1000.0}  1.538081\n",
       "25  lequa2024_val  EMaxL                       {'base_estimator__C': 316.22776601683796}  1.556559\n",
       "5   lequa2024_val   PACC   {'transformer__classifier__estimator__C': 31.622776601683793}  1.563480\n",
       "0   lequa2024_val   PACC                  {'transformer__classifier__estimator__C': 0.1}  1.570044\n",
       "26  lequa2024_val  EMaxL                                   {'base_estimator__C': 1000.0}  1.577521\n",
       "16  lequa2024_val    SLD                           {'classifier__C': 316.22776601683796}  1.592637\n",
       "17  lequa2024_val    SLD                                       {'classifier__C': 1000.0}  1.611754"
      ]
     },
     "metadata": {},
     "output_type": "display_data"
    },
    {
     "data": {
      "application/vnd.plotly.v1+json": {
       "config": {
        "plotlyServerURL": "https://plot.ly"
       },
       "data": [
        {
         "customdata": [
          [
           "PACC",
           "{'transformer__classifier__estimator__C': 0.1}"
          ],
          [
           "PACC",
           "{'transformer__classifier__estimator__C': 0.31622776601683794}"
          ],
          [
           "PACC",
           "{'transformer__classifier__estimator__C': 1.0}"
          ],
          [
           "PACC",
           "{'transformer__classifier__estimator__C': 3.1622776601683795}"
          ],
          [
           "PACC",
           "{'transformer__classifier__estimator__C': 10.0}"
          ],
          [
           "PACC",
           "{'transformer__classifier__estimator__C': 31.622776601683793}"
          ],
          [
           "PACC",
           "{'transformer__classifier__estimator__C': 100.0}"
          ],
          [
           "PACC",
           "{'transformer__classifier__estimator__C': 316.22776601683796}"
          ],
          [
           "PACC",
           "{'transformer__classifier__estimator__C': 1000.0}"
          ]
         ],
         "hovertemplate": "method=%{customdata[0]}<br>mean_probability_uniformness_ratio_score=%{x}<br>mrae=%{y}<br>params=%{customdata[1]}<extra></extra>",
         "legendgroup": "PACC",
         "line": {
          "color": "#636efa",
          "dash": "solid"
         },
         "marker": {
          "symbol": "circle"
         },
         "mode": "lines",
         "name": "PACC",
         "orientation": "v",
         "showlegend": true,
         "type": "scatter",
         "x": [
          1.3290166170098334,
          1.2924945216415782,
          1.249673224126404,
          1.3211075471212812,
          1.32537862047344,
          1.3321211357774496,
          1.2874862149994142,
          1.3077317005844409,
          1.3023058005956694
         ],
         "xaxis": "x",
         "y": [
          1.57004417580417,
          1.4556023662871302,
          1.408611061478198,
          1.510477219278335,
          1.5253808600274783,
          1.563479986156332,
          1.511215723408955,
          1.5340926097232042,
          1.5380811970997283
         ],
         "yaxis": "y"
        },
        {
         "customdata": [
          [
           "EMaxL",
           "{'base_estimator__C': 0.1}"
          ],
          [
           "EMaxL",
           "{'base_estimator__C': 0.31622776601683794}"
          ],
          [
           "EMaxL",
           "{'base_estimator__C': 1.0}"
          ],
          [
           "EMaxL",
           "{'base_estimator__C': 3.1622776601683795}"
          ],
          [
           "EMaxL",
           "{'base_estimator__C': 10.0}"
          ],
          [
           "EMaxL",
           "{'base_estimator__C': 31.622776601683793}"
          ],
          [
           "EMaxL",
           "{'base_estimator__C': 100.0}"
          ],
          [
           "EMaxL",
           "{'base_estimator__C': 316.22776601683796}"
          ],
          [
           "EMaxL",
           "{'base_estimator__C': 1000.0}"
          ]
         ],
         "hovertemplate": "method=%{customdata[0]}<br>mean_probability_uniformness_ratio_score=%{x}<br>mrae=%{y}<br>params=%{customdata[1]}<extra></extra>",
         "legendgroup": "EMaxL",
         "line": {
          "color": "#EF553B",
          "dash": "solid"
         },
         "marker": {
          "symbol": "circle"
         },
         "mode": "lines",
         "name": "EMaxL",
         "orientation": "v",
         "showlegend": true,
         "type": "scatter",
         "x": [
          2.4948832375813472,
          1.4876194979079898,
          1.1513155290818995,
          1.0402702510227673,
          0.9825758503723832,
          0.9833129905294103,
          0.9717065258854536,
          0.9717715761923992,
          0.9637952191108318
         ],
         "xaxis": "x",
         "y": [
          1.3968969128249895,
          1.1472928895647558,
          1.1756050797626558,
          1.3048148429604551,
          1.4818840133366302,
          1.48943029377558,
          1.4742430749526467,
          1.5565593454253326,
          1.5775213976787972
         ],
         "yaxis": "y"
        },
        {
         "customdata": [
          [
           "SLD",
           "{'classifier__C': 0.1}"
          ],
          [
           "SLD",
           "{'classifier__C': 0.31622776601683794}"
          ],
          [
           "SLD",
           "{'classifier__C': 1.0}"
          ],
          [
           "SLD",
           "{'classifier__C': 3.1622776601683795}"
          ],
          [
           "SLD",
           "{'classifier__C': 10.0}"
          ],
          [
           "SLD",
           "{'classifier__C': 31.622776601683793}"
          ],
          [
           "SLD",
           "{'classifier__C': 100.0}"
          ],
          [
           "SLD",
           "{'classifier__C': 316.22776601683796}"
          ],
          [
           "SLD",
           "{'classifier__C': 1000.0}"
          ]
         ],
         "hovertemplate": "method=%{customdata[0]}<br>mean_probability_uniformness_ratio_score=%{x}<br>mrae=%{y}<br>params=%{customdata[1]}<extra></extra>",
         "legendgroup": "SLD",
         "line": {
          "color": "#00cc96",
          "dash": "solid"
         },
         "marker": {
          "symbol": "circle"
         },
         "mode": "lines",
         "name": "SLD",
         "orientation": "v",
         "showlegend": true,
         "type": "scatter",
         "x": [
          2.394530053356018,
          1.4532815435761406,
          1.1392828930208705,
          1.0320292885546476,
          0.976131473291946,
          0.97666891332478,
          0.9652027799702808,
          0.9653449360197424,
          0.9584989917957306
         ],
         "xaxis": "x",
         "y": [
          1.43365749551751,
          1.1881961534703094,
          1.2143018966901669,
          1.3422504909087885,
          1.5183637274444008,
          1.5258860514211663,
          1.5112164086215267,
          1.5926372787118623,
          1.611753791847815
         ],
         "yaxis": "y"
        }
       ],
       "layout": {
        "autosize": true,
        "legend": {
         "title": {
          "text": "method"
         },
         "tracegroupgap": 0
        },
        "margin": {
         "t": 60
        },
        "template": {
         "data": {
          "bar": [
           {
            "error_x": {
             "color": "#2a3f5f"
            },
            "error_y": {
             "color": "#2a3f5f"
            },
            "marker": {
             "line": {
              "color": "#E5ECF6",
              "width": 0.5
             },
             "pattern": {
              "fillmode": "overlay",
              "size": 10,
              "solidity": 0.2
             }
            },
            "type": "bar"
           }
          ],
          "barpolar": [
           {
            "marker": {
             "line": {
              "color": "#E5ECF6",
              "width": 0.5
             },
             "pattern": {
              "fillmode": "overlay",
              "size": 10,
              "solidity": 0.2
             }
            },
            "type": "barpolar"
           }
          ],
          "carpet": [
           {
            "aaxis": {
             "endlinecolor": "#2a3f5f",
             "gridcolor": "white",
             "linecolor": "white",
             "minorgridcolor": "white",
             "startlinecolor": "#2a3f5f"
            },
            "baxis": {
             "endlinecolor": "#2a3f5f",
             "gridcolor": "white",
             "linecolor": "white",
             "minorgridcolor": "white",
             "startlinecolor": "#2a3f5f"
            },
            "type": "carpet"
           }
          ],
          "choropleth": [
           {
            "colorbar": {
             "outlinewidth": 0,
             "ticks": ""
            },
            "type": "choropleth"
           }
          ],
          "contour": [
           {
            "colorbar": {
             "outlinewidth": 0,
             "ticks": ""
            },
            "colorscale": [
             [
              0,
              "#0d0887"
             ],
             [
              0.1111111111111111,
              "#46039f"
             ],
             [
              0.2222222222222222,
              "#7201a8"
             ],
             [
              0.3333333333333333,
              "#9c179e"
             ],
             [
              0.4444444444444444,
              "#bd3786"
             ],
             [
              0.5555555555555556,
              "#d8576b"
             ],
             [
              0.6666666666666666,
              "#ed7953"
             ],
             [
              0.7777777777777778,
              "#fb9f3a"
             ],
             [
              0.8888888888888888,
              "#fdca26"
             ],
             [
              1,
              "#f0f921"
             ]
            ],
            "type": "contour"
           }
          ],
          "contourcarpet": [
           {
            "colorbar": {
             "outlinewidth": 0,
             "ticks": ""
            },
            "type": "contourcarpet"
           }
          ],
          "heatmap": [
           {
            "colorbar": {
             "outlinewidth": 0,
             "ticks": ""
            },
            "colorscale": [
             [
              0,
              "#0d0887"
             ],
             [
              0.1111111111111111,
              "#46039f"
             ],
             [
              0.2222222222222222,
              "#7201a8"
             ],
             [
              0.3333333333333333,
              "#9c179e"
             ],
             [
              0.4444444444444444,
              "#bd3786"
             ],
             [
              0.5555555555555556,
              "#d8576b"
             ],
             [
              0.6666666666666666,
              "#ed7953"
             ],
             [
              0.7777777777777778,
              "#fb9f3a"
             ],
             [
              0.8888888888888888,
              "#fdca26"
             ],
             [
              1,
              "#f0f921"
             ]
            ],
            "type": "heatmap"
           }
          ],
          "heatmapgl": [
           {
            "colorbar": {
             "outlinewidth": 0,
             "ticks": ""
            },
            "colorscale": [
             [
              0,
              "#0d0887"
             ],
             [
              0.1111111111111111,
              "#46039f"
             ],
             [
              0.2222222222222222,
              "#7201a8"
             ],
             [
              0.3333333333333333,
              "#9c179e"
             ],
             [
              0.4444444444444444,
              "#bd3786"
             ],
             [
              0.5555555555555556,
              "#d8576b"
             ],
             [
              0.6666666666666666,
              "#ed7953"
             ],
             [
              0.7777777777777778,
              "#fb9f3a"
             ],
             [
              0.8888888888888888,
              "#fdca26"
             ],
             [
              1,
              "#f0f921"
             ]
            ],
            "type": "heatmapgl"
           }
          ],
          "histogram": [
           {
            "marker": {
             "pattern": {
              "fillmode": "overlay",
              "size": 10,
              "solidity": 0.2
             }
            },
            "type": "histogram"
           }
          ],
          "histogram2d": [
           {
            "colorbar": {
             "outlinewidth": 0,
             "ticks": ""
            },
            "colorscale": [
             [
              0,
              "#0d0887"
             ],
             [
              0.1111111111111111,
              "#46039f"
             ],
             [
              0.2222222222222222,
              "#7201a8"
             ],
             [
              0.3333333333333333,
              "#9c179e"
             ],
             [
              0.4444444444444444,
              "#bd3786"
             ],
             [
              0.5555555555555556,
              "#d8576b"
             ],
             [
              0.6666666666666666,
              "#ed7953"
             ],
             [
              0.7777777777777778,
              "#fb9f3a"
             ],
             [
              0.8888888888888888,
              "#fdca26"
             ],
             [
              1,
              "#f0f921"
             ]
            ],
            "type": "histogram2d"
           }
          ],
          "histogram2dcontour": [
           {
            "colorbar": {
             "outlinewidth": 0,
             "ticks": ""
            },
            "colorscale": [
             [
              0,
              "#0d0887"
             ],
             [
              0.1111111111111111,
              "#46039f"
             ],
             [
              0.2222222222222222,
              "#7201a8"
             ],
             [
              0.3333333333333333,
              "#9c179e"
             ],
             [
              0.4444444444444444,
              "#bd3786"
             ],
             [
              0.5555555555555556,
              "#d8576b"
             ],
             [
              0.6666666666666666,
              "#ed7953"
             ],
             [
              0.7777777777777778,
              "#fb9f3a"
             ],
             [
              0.8888888888888888,
              "#fdca26"
             ],
             [
              1,
              "#f0f921"
             ]
            ],
            "type": "histogram2dcontour"
           }
          ],
          "mesh3d": [
           {
            "colorbar": {
             "outlinewidth": 0,
             "ticks": ""
            },
            "type": "mesh3d"
           }
          ],
          "parcoords": [
           {
            "line": {
             "colorbar": {
              "outlinewidth": 0,
              "ticks": ""
             }
            },
            "type": "parcoords"
           }
          ],
          "pie": [
           {
            "automargin": true,
            "type": "pie"
           }
          ],
          "scatter": [
           {
            "fillpattern": {
             "fillmode": "overlay",
             "size": 10,
             "solidity": 0.2
            },
            "type": "scatter"
           }
          ],
          "scatter3d": [
           {
            "line": {
             "colorbar": {
              "outlinewidth": 0,
              "ticks": ""
             }
            },
            "marker": {
             "colorbar": {
              "outlinewidth": 0,
              "ticks": ""
             }
            },
            "type": "scatter3d"
           }
          ],
          "scattercarpet": [
           {
            "marker": {
             "colorbar": {
              "outlinewidth": 0,
              "ticks": ""
             }
            },
            "type": "scattercarpet"
           }
          ],
          "scattergeo": [
           {
            "marker": {
             "colorbar": {
              "outlinewidth": 0,
              "ticks": ""
             }
            },
            "type": "scattergeo"
           }
          ],
          "scattergl": [
           {
            "marker": {
             "colorbar": {
              "outlinewidth": 0,
              "ticks": ""
             }
            },
            "type": "scattergl"
           }
          ],
          "scattermapbox": [
           {
            "marker": {
             "colorbar": {
              "outlinewidth": 0,
              "ticks": ""
             }
            },
            "type": "scattermapbox"
           }
          ],
          "scatterpolar": [
           {
            "marker": {
             "colorbar": {
              "outlinewidth": 0,
              "ticks": ""
             }
            },
            "type": "scatterpolar"
           }
          ],
          "scatterpolargl": [
           {
            "marker": {
             "colorbar": {
              "outlinewidth": 0,
              "ticks": ""
             }
            },
            "type": "scatterpolargl"
           }
          ],
          "scatterternary": [
           {
            "marker": {
             "colorbar": {
              "outlinewidth": 0,
              "ticks": ""
             }
            },
            "type": "scatterternary"
           }
          ],
          "surface": [
           {
            "colorbar": {
             "outlinewidth": 0,
             "ticks": ""
            },
            "colorscale": [
             [
              0,
              "#0d0887"
             ],
             [
              0.1111111111111111,
              "#46039f"
             ],
             [
              0.2222222222222222,
              "#7201a8"
             ],
             [
              0.3333333333333333,
              "#9c179e"
             ],
             [
              0.4444444444444444,
              "#bd3786"
             ],
             [
              0.5555555555555556,
              "#d8576b"
             ],
             [
              0.6666666666666666,
              "#ed7953"
             ],
             [
              0.7777777777777778,
              "#fb9f3a"
             ],
             [
              0.8888888888888888,
              "#fdca26"
             ],
             [
              1,
              "#f0f921"
             ]
            ],
            "type": "surface"
           }
          ],
          "table": [
           {
            "cells": {
             "fill": {
              "color": "#EBF0F8"
             },
             "line": {
              "color": "white"
             }
            },
            "header": {
             "fill": {
              "color": "#C8D4E3"
             },
             "line": {
              "color": "white"
             }
            },
            "type": "table"
           }
          ]
         },
         "layout": {
          "annotationdefaults": {
           "arrowcolor": "#2a3f5f",
           "arrowhead": 0,
           "arrowwidth": 1
          },
          "autotypenumbers": "strict",
          "coloraxis": {
           "colorbar": {
            "outlinewidth": 0,
            "ticks": ""
           }
          },
          "colorscale": {
           "diverging": [
            [
             0,
             "#8e0152"
            ],
            [
             0.1,
             "#c51b7d"
            ],
            [
             0.2,
             "#de77ae"
            ],
            [
             0.3,
             "#f1b6da"
            ],
            [
             0.4,
             "#fde0ef"
            ],
            [
             0.5,
             "#f7f7f7"
            ],
            [
             0.6,
             "#e6f5d0"
            ],
            [
             0.7,
             "#b8e186"
            ],
            [
             0.8,
             "#7fbc41"
            ],
            [
             0.9,
             "#4d9221"
            ],
            [
             1,
             "#276419"
            ]
           ],
           "sequential": [
            [
             0,
             "#0d0887"
            ],
            [
             0.1111111111111111,
             "#46039f"
            ],
            [
             0.2222222222222222,
             "#7201a8"
            ],
            [
             0.3333333333333333,
             "#9c179e"
            ],
            [
             0.4444444444444444,
             "#bd3786"
            ],
            [
             0.5555555555555556,
             "#d8576b"
            ],
            [
             0.6666666666666666,
             "#ed7953"
            ],
            [
             0.7777777777777778,
             "#fb9f3a"
            ],
            [
             0.8888888888888888,
             "#fdca26"
            ],
            [
             1,
             "#f0f921"
            ]
           ],
           "sequentialminus": [
            [
             0,
             "#0d0887"
            ],
            [
             0.1111111111111111,
             "#46039f"
            ],
            [
             0.2222222222222222,
             "#7201a8"
            ],
            [
             0.3333333333333333,
             "#9c179e"
            ],
            [
             0.4444444444444444,
             "#bd3786"
            ],
            [
             0.5555555555555556,
             "#d8576b"
            ],
            [
             0.6666666666666666,
             "#ed7953"
            ],
            [
             0.7777777777777778,
             "#fb9f3a"
            ],
            [
             0.8888888888888888,
             "#fdca26"
            ],
            [
             1,
             "#f0f921"
            ]
           ]
          },
          "colorway": [
           "#636efa",
           "#EF553B",
           "#00cc96",
           "#ab63fa",
           "#FFA15A",
           "#19d3f3",
           "#FF6692",
           "#B6E880",
           "#FF97FF",
           "#FECB52"
          ],
          "font": {
           "color": "#2a3f5f"
          },
          "geo": {
           "bgcolor": "white",
           "lakecolor": "white",
           "landcolor": "#E5ECF6",
           "showlakes": true,
           "showland": true,
           "subunitcolor": "white"
          },
          "hoverlabel": {
           "align": "left"
          },
          "hovermode": "closest",
          "mapbox": {
           "style": "light"
          },
          "paper_bgcolor": "white",
          "plot_bgcolor": "#E5ECF6",
          "polar": {
           "angularaxis": {
            "gridcolor": "white",
            "linecolor": "white",
            "ticks": ""
           },
           "bgcolor": "#E5ECF6",
           "radialaxis": {
            "gridcolor": "white",
            "linecolor": "white",
            "ticks": ""
           }
          },
          "scene": {
           "xaxis": {
            "backgroundcolor": "#E5ECF6",
            "gridcolor": "white",
            "gridwidth": 2,
            "linecolor": "white",
            "showbackground": true,
            "ticks": "",
            "zerolinecolor": "white"
           },
           "yaxis": {
            "backgroundcolor": "#E5ECF6",
            "gridcolor": "white",
            "gridwidth": 2,
            "linecolor": "white",
            "showbackground": true,
            "ticks": "",
            "zerolinecolor": "white"
           },
           "zaxis": {
            "backgroundcolor": "#E5ECF6",
            "gridcolor": "white",
            "gridwidth": 2,
            "linecolor": "white",
            "showbackground": true,
            "ticks": "",
            "zerolinecolor": "white"
           }
          },
          "shapedefaults": {
           "line": {
            "color": "#2a3f5f"
           }
          },
          "ternary": {
           "aaxis": {
            "gridcolor": "white",
            "linecolor": "white",
            "ticks": ""
           },
           "baxis": {
            "gridcolor": "white",
            "linecolor": "white",
            "ticks": ""
           },
           "bgcolor": "#E5ECF6",
           "caxis": {
            "gridcolor": "white",
            "linecolor": "white",
            "ticks": ""
           }
          },
          "title": {
           "x": 0.05
          },
          "xaxis": {
           "automargin": true,
           "gridcolor": "white",
           "linecolor": "white",
           "ticks": "",
           "title": {
            "standoff": 15
           },
           "zerolinecolor": "white",
           "zerolinewidth": 2
          },
          "yaxis": {
           "automargin": true,
           "gridcolor": "white",
           "linecolor": "white",
           "ticks": "",
           "title": {
            "standoff": 15
           },
           "zerolinecolor": "white",
           "zerolinewidth": 2
          }
         }
        },
        "xaxis": {
         "anchor": "y",
         "autorange": true,
         "domain": [
          0,
          1
         ],
         "range": [
          -0.018408339601548335,
          0.3970502251254559
         ],
         "title": {
          "text": "mean_probability_uniformness_ratio_score"
         },
         "type": "log"
        },
        "yaxis": {
         "anchor": "x",
         "autorange": true,
         "domain": [
          0,
          1
         ],
         "range": [
          0.05147294654238287,
          0.21550005609271858
         ],
         "title": {
          "text": "mrae"
         },
         "type": "log"
        }
       }
      },
      "image/png": "[encoded data removed]",
      "text/html": [
       "<div>                            <div id=\"7816362c-6d96-40cf-9df6-13f82b6f9739\" class=\"plotly-graph-div\" style=\"height:525px; width:100%;\"></div>            <script type=\"text/javascript\">                require([\"plotly\"], function(Plotly) {                    window.PLOTLYENV=window.PLOTLYENV || {};                                    if (document.getElementById(\"7816362c-6d96-40cf-9df6-13f82b6f9739\")) {                    Plotly.newPlot(                        \"7816362c-6d96-40cf-9df6-13f82b6f9739\",                        [{\"customdata\":[[\"PACC\",\"{'transformer__classifier__estimator__C': 0.1}\"],[\"PACC\",\"{'transformer__classifier__estimator__C': 0.31622776601683794}\"],[\"PACC\",\"{'transformer__classifier__estimator__C': 1.0}\"],[\"PACC\",\"{'transformer__classifier__estimator__C': 3.1622776601683795}\"],[\"PACC\",\"{'transformer__classifier__estimator__C': 10.0}\"],[\"PACC\",\"{'transformer__classifier__estimator__C': 31.622776601683793}\"],[\"PACC\",\"{'transformer__classifier__estimator__C': 100.0}\"],[\"PACC\",\"{'transformer__classifier__estimator__C': 316.22776601683796}\"],[\"PACC\",\"{'transformer__classifier__estimator__C': 1000.0}\"]],\"hovertemplate\":\"method=%{customdata[0]}\\u003cbr\\u003emean_probability_uniformness_ratio_score=%{x}\\u003cbr\\u003emrae=%{y}\\u003cbr\\u003eparams=%{customdata[1]}\\u003cextra\\u003e\\u003c\\u002fextra\\u003e\",\"legendgroup\":\"PACC\",\"line\":{\"color\":\"#636efa\",\"dash\":\"solid\"},\"marker\":{\"symbol\":\"circle\"},\"mode\":\"lines\",\"name\":\"PACC\",\"orientation\":\"v\",\"showlegend\":true,\"x\":[1.3290166170098334,1.2924945216415782,1.249673224126404,1.3211075471212812,1.32537862047344,1.3321211357774496,1.2874862149994142,1.3077317005844409,1.3023058005956694],\"xaxis\":\"x\",\"y\":[1.57004417580417,1.4556023662871302,1.408611061478198,1.510477219278335,1.5253808600274783,1.563479986156332,1.511215723408955,1.5340926097232042,1.5380811970997283],\"yaxis\":\"y\",\"type\":\"scatter\"},{\"customdata\":[[\"EMaxL\",\"{'base_estimator__C': 0.1}\"],[\"EMaxL\",\"{'base_estimator__C': 0.31622776601683794}\"],[\"EMaxL\",\"{'base_estimator__C': 1.0}\"],[\"EMaxL\",\"{'base_estimator__C': 3.1622776601683795}\"],[\"EMaxL\",\"{'base_estimator__C': 10.0}\"],[\"EMaxL\",\"{'base_estimator__C': 31.622776601683793}\"],[\"EMaxL\",\"{'base_estimator__C': 100.0}\"],[\"EMaxL\",\"{'base_estimator__C': 316.22776601683796}\"],[\"EMaxL\",\"{'base_estimator__C': 1000.0}\"]],\"hovertemplate\":\"method=%{customdata[0]}\\u003cbr\\u003emean_probability_uniformness_ratio_score=%{x}\\u003cbr\\u003emrae=%{y}\\u003cbr\\u003eparams=%{customdata[1]}\\u003cextra\\u003e\\u003c\\u002fextra\\u003e\",\"legendgroup\":\"EMaxL\",\"line\":{\"color\":\"#EF553B\",\"dash\":\"solid\"},\"marker\":{\"symbol\":\"circle\"},\"mode\":\"lines\",\"name\":\"EMaxL\",\"orientation\":\"v\",\"showlegend\":true,\"x\":[2.4948832375813472,1.4876194979079898,1.1513155290818995,1.0402702510227673,0.9825758503723832,0.9833129905294103,0.9717065258854536,0.9717715761923992,0.9637952191108318],\"xaxis\":\"x\",\"y\":[1.3968969128249895,1.1472928895647558,1.1756050797626558,1.3048148429604551,1.4818840133366302,1.48943029377558,1.4742430749526467,1.5565593454253326,1.5775213976787972],\"yaxis\":\"y\",\"type\":\"scatter\"},{\"customdata\":[[\"SLD\",\"{'classifier__C': 0.1}\"],[\"SLD\",\"{'classifier__C': 0.31622776601683794}\"],[\"SLD\",\"{'classifier__C': 1.0}\"],[\"SLD\",\"{'classifier__C': 3.1622776601683795}\"],[\"SLD\",\"{'classifier__C': 10.0}\"],[\"SLD\",\"{'classifier__C': 31.622776601683793}\"],[\"SLD\",\"{'classifier__C': 100.0}\"],[\"SLD\",\"{'classifier__C': 316.22776601683796}\"],[\"SLD\",\"{'classifier__C': 1000.0}\"]],\"hovertemplate\":\"method=%{customdata[0]}\\u003cbr\\u003emean_probability_uniformness_ratio_score=%{x}\\u003cbr\\u003emrae=%{y}\\u003cbr\\u003eparams=%{customdata[1]}\\u003cextra\\u003e\\u003c\\u002fextra\\u003e\",\"legendgroup\":\"SLD\",\"line\":{\"color\":\"#00cc96\",\"dash\":\"solid\"},\"marker\":{\"symbol\":\"circle\"},\"mode\":\"lines\",\"name\":\"SLD\",\"orientation\":\"v\",\"showlegend\":true,\"x\":[2.394530053356018,1.4532815435761406,1.1392828930208705,1.0320292885546476,0.976131473291946,0.97666891332478,0.9652027799702808,0.9653449360197424,0.9584989917957306],\"xaxis\":\"x\",\"y\":[1.43365749551751,1.1881961534703094,1.2143018966901669,1.3422504909087885,1.5183637274444008,1.5258860514211663,1.5112164086215267,1.5926372787118623,1.611753791847815],\"yaxis\":\"y\",\"type\":\"scatter\"}],                        {\"template\":{\"data\":{\"histogram2dcontour\":[{\"type\":\"histogram2dcontour\",\"colorbar\":{\"outlinewidth\":0,\"ticks\":\"\"},\"colorscale\":[[0.0,\"#0d0887\"],[0.1111111111111111,\"#46039f\"],[0.2222222222222222,\"#7201a8\"],[0.3333333333333333,\"#9c179e\"],[0.4444444444444444,\"#bd3786\"],[0.5555555555555556,\"#d8576b\"],[0.6666666666666666,\"#ed7953\"],[0.7777777777777778,\"#fb9f3a\"],[0.8888888888888888,\"#fdca26\"],[1.0,\"#f0f921\"]]}],\"choropleth\":[{\"type\":\"choropleth\",\"colorbar\":{\"outlinewidth\":0,\"ticks\":\"\"}}],\"histogram2d\":[{\"type\":\"histogram2d\",\"colorbar\":{\"outlinewidth\":0,\"ticks\":\"\"},\"colorscale\":[[0.0,\"#0d0887\"],[0.1111111111111111,\"#46039f\"],[0.2222222222222222,\"#7201a8\"],[0.3333333333333333,\"#9c179e\"],[0.4444444444444444,\"#bd3786\"],[0.5555555555555556,\"#d8576b\"],[0.6666666666666666,\"#ed7953\"],[0.7777777777777778,\"#fb9f3a\"],[0.8888888888888888,\"#fdca26\"],[1.0,\"#f0f921\"]]}],\"heatmap\":[{\"type\":\"heatmap\",\"colorbar\":{\"outlinewidth\":0,\"ticks\":\"\"},\"colorscale\":[[0.0,\"#0d0887\"],[0.1111111111111111,\"#46039f\"],[0.2222222222222222,\"#7201a8\"],[0.3333333333333333,\"#9c179e\"],[0.4444444444444444,\"#bd3786\"],[0.5555555555555556,\"#d8576b\"],[0.6666666666666666,\"#ed7953\"],[0.7777777777777778,\"#fb9f3a\"],[0.8888888888888888,\"#fdca26\"],[1.0,\"#f0f921\"]]}],\"heatmapgl\":[{\"type\":\"heatmapgl\",\"colorbar\":{\"outlinewidth\":0,\"ticks\":\"\"},\"colorscale\":[[0.0,\"#0d0887\"],[0.1111111111111111,\"#46039f\"],[0.2222222222222222,\"#7201a8\"],[0.3333333333333333,\"#9c179e\"],[0.4444444444444444,\"#bd3786\"],[0.5555555555555556,\"#d8576b\"],[0.6666666666666666,\"#ed7953\"],[0.7777777777777778,\"#fb9f3a\"],[0.8888888888888888,\"#fdca26\"],[1.0,\"#f0f921\"]]}],\"contourcarpet\":[{\"type\":\"contourcarpet\",\"colorbar\":{\"outlinewidth\":0,\"ticks\":\"\"}}],\"contour\":[{\"type\":\"contour\",\"colorbar\":{\"outlinewidth\":0,\"ticks\":\"\"},\"colorscale\":[[0.0,\"#0d0887\"],[0.1111111111111111,\"#46039f\"],[0.2222222222222222,\"#7201a8\"],[0.3333333333333333,\"#9c179e\"],[0.4444444444444444,\"#bd3786\"],[0.5555555555555556,\"#d8576b\"],[0.6666666666666666,\"#ed7953\"],[0.7777777777777778,\"#fb9f3a\"],[0.8888888888888888,\"#fdca26\"],[1.0,\"#f0f921\"]]}],\"surface\":[{\"type\":\"surface\",\"colorbar\":{\"outlinewidth\":0,\"ticks\":\"\"},\"colorscale\":[[0.0,\"#0d0887\"],[0.1111111111111111,\"#46039f\"],[0.2222222222222222,\"#7201a8\"],[0.3333333333333333,\"#9c179e\"],[0.4444444444444444,\"#bd3786\"],[0.5555555555555556,\"#d8576b\"],[0.6666666666666666,\"#ed7953\"],[0.7777777777777778,\"#fb9f3a\"],[0.8888888888888888,\"#fdca26\"],[1.0,\"#f0f921\"]]}],\"mesh3d\":[{\"type\":\"mesh3d\",\"colorbar\":{\"outlinewidth\":0,\"ticks\":\"\"}}],\"scatter\":[{\"fillpattern\":{\"fillmode\":\"overlay\",\"size\":10,\"solidity\":0.2},\"type\":\"scatter\"}],\"parcoords\":[{\"type\":\"parcoords\",\"line\":{\"colorbar\":{\"outlinewidth\":0,\"ticks\":\"\"}}}],\"scatterpolargl\":[{\"type\":\"scatterpolargl\",\"marker\":{\"colorbar\":{\"outlinewidth\":0,\"ticks\":\"\"}}}],\"bar\":[{\"error_x\":{\"color\":\"#2a3f5f\"},\"error_y\":{\"color\":\"#2a3f5f\"},\"marker\":{\"line\":{\"color\":\"#E5ECF6\",\"width\":0.5},\"pattern\":{\"fillmode\":\"overlay\",\"size\":10,\"solidity\":0.2}},\"type\":\"bar\"}],\"scattergeo\":[{\"type\":\"scattergeo\",\"marker\":{\"colorbar\":{\"outlinewidth\":0,\"ticks\":\"\"}}}],\"scatterpolar\":[{\"type\":\"scatterpolar\",\"marker\":{\"colorbar\":{\"outlinewidth\":0,\"ticks\":\"\"}}}],\"histogram\":[{\"marker\":{\"pattern\":{\"fillmode\":\"overlay\",\"size\":10,\"solidity\":0.2}},\"type\":\"histogram\"}],\"scattergl\":[{\"type\":\"scattergl\",\"marker\":{\"colorbar\":{\"outlinewidth\":0,\"ticks\":\"\"}}}],\"scatter3d\":[{\"type\":\"scatter3d\",\"line\":{\"colorbar\":{\"outlinewidth\":0,\"ticks\":\"\"}},\"marker\":{\"colorbar\":{\"outlinewidth\":0,\"ticks\":\"\"}}}],\"scattermapbox\":[{\"type\":\"scattermapbox\",\"marker\":{\"colorbar\":{\"outlinewidth\":0,\"ticks\":\"\"}}}],\"scatterternary\":[{\"type\":\"scatterternary\",\"marker\":{\"colorbar\":{\"outlinewidth\":0,\"ticks\":\"\"}}}],\"scattercarpet\":[{\"type\":\"scattercarpet\",\"marker\":{\"colorbar\":{\"outlinewidth\":0,\"ticks\":\"\"}}}],\"carpet\":[{\"aaxis\":{\"endlinecolor\":\"#2a3f5f\",\"gridcolor\":\"white\",\"linecolor\":\"white\",\"minorgridcolor\":\"white\",\"startlinecolor\":\"#2a3f5f\"},\"baxis\":{\"endlinecolor\":\"#2a3f5f\",\"gridcolor\":\"white\",\"linecolor\":\"white\",\"minorgridcolor\":\"white\",\"startlinecolor\":\"#2a3f5f\"},\"type\":\"carpet\"}],\"table\":[{\"cells\":{\"fill\":{\"color\":\"#EBF0F8\"},\"line\":{\"color\":\"white\"}},\"header\":{\"fill\":{\"color\":\"#C8D4E3\"},\"line\":{\"color\":\"white\"}},\"type\":\"table\"}],\"barpolar\":[{\"marker\":{\"line\":{\"color\":\"#E5ECF6\",\"width\":0.5},\"pattern\":{\"fillmode\":\"overlay\",\"size\":10,\"solidity\":0.2}},\"type\":\"barpolar\"}],\"pie\":[{\"automargin\":true,\"type\":\"pie\"}]},\"layout\":{\"autotypenumbers\":\"strict\",\"colorway\":[\"#636efa\",\"#EF553B\",\"#00cc96\",\"#ab63fa\",\"#FFA15A\",\"#19d3f3\",\"#FF6692\",\"#B6E880\",\"#FF97FF\",\"#FECB52\"],\"font\":{\"color\":\"#2a3f5f\"},\"hovermode\":\"closest\",\"hoverlabel\":{\"align\":\"left\"},\"paper_bgcolor\":\"white\",\"plot_bgcolor\":\"#E5ECF6\",\"polar\":{\"bgcolor\":\"#E5ECF6\",\"angularaxis\":{\"gridcolor\":\"white\",\"linecolor\":\"white\",\"ticks\":\"\"},\"radialaxis\":{\"gridcolor\":\"white\",\"linecolor\":\"white\",\"ticks\":\"\"}},\"ternary\":{\"bgcolor\":\"#E5ECF6\",\"aaxis\":{\"gridcolor\":\"white\",\"linecolor\":\"white\",\"ticks\":\"\"},\"baxis\":{\"gridcolor\":\"white\",\"linecolor\":\"white\",\"ticks\":\"\"},\"caxis\":{\"gridcolor\":\"white\",\"linecolor\":\"white\",\"ticks\":\"\"}},\"coloraxis\":{\"colorbar\":{\"outlinewidth\":0,\"ticks\":\"\"}},\"colorscale\":{\"sequential\":[[0.0,\"#0d0887\"],[0.1111111111111111,\"#46039f\"],[0.2222222222222222,\"#7201a8\"],[0.3333333333333333,\"#9c179e\"],[0.4444444444444444,\"#bd3786\"],[0.5555555555555556,\"#d8576b\"],[0.6666666666666666,\"#ed7953\"],[0.7777777777777778,\"#fb9f3a\"],[0.8888888888888888,\"#fdca26\"],[1.0,\"#f0f921\"]],\"sequentialminus\":[[0.0,\"#0d0887\"],[0.1111111111111111,\"#46039f\"],[0.2222222222222222,\"#7201a8\"],[0.3333333333333333,\"#9c179e\"],[0.4444444444444444,\"#bd3786\"],[0.5555555555555556,\"#d8576b\"],[0.6666666666666666,\"#ed7953\"],[0.7777777777777778,\"#fb9f3a\"],[0.8888888888888888,\"#fdca26\"],[1.0,\"#f0f921\"]],\"diverging\":[[0,\"#8e0152\"],[0.1,\"#c51b7d\"],[0.2,\"#de77ae\"],[0.3,\"#f1b6da\"],[0.4,\"#fde0ef\"],[0.5,\"#f7f7f7\"],[0.6,\"#e6f5d0\"],[0.7,\"#b8e186\"],[0.8,\"#7fbc41\"],[0.9,\"#4d9221\"],[1,\"#276419\"]]},\"xaxis\":{\"gridcolor\":\"white\",\"linecolor\":\"white\",\"ticks\":\"\",\"title\":{\"standoff\":15},\"zerolinecolor\":\"white\",\"automargin\":true,\"zerolinewidth\":2},\"yaxis\":{\"gridcolor\":\"white\",\"linecolor\":\"white\",\"ticks\":\"\",\"title\":{\"standoff\":15},\"zerolinecolor\":\"white\",\"automargin\":true,\"zerolinewidth\":2},\"scene\":{\"xaxis\":{\"backgroundcolor\":\"#E5ECF6\",\"gridcolor\":\"white\",\"linecolor\":\"white\",\"showbackground\":true,\"ticks\":\"\",\"zerolinecolor\":\"white\",\"gridwidth\":2},\"yaxis\":{\"backgroundcolor\":\"#E5ECF6\",\"gridcolor\":\"white\",\"linecolor\":\"white\",\"showbackground\":true,\"ticks\":\"\",\"zerolinecolor\":\"white\",\"gridwidth\":2},\"zaxis\":{\"backgroundcolor\":\"#E5ECF6\",\"gridcolor\":\"white\",\"linecolor\":\"white\",\"showbackground\":true,\"ticks\":\"\",\"zerolinecolor\":\"white\",\"gridwidth\":2}},\"shapedefaults\":{\"line\":{\"color\":\"#2a3f5f\"}},\"annotationdefaults\":{\"arrowcolor\":\"#2a3f5f\",\"arrowhead\":0,\"arrowwidth\":1},\"geo\":{\"bgcolor\":\"white\",\"landcolor\":\"#E5ECF6\",\"subunitcolor\":\"white\",\"showland\":true,\"showlakes\":true,\"lakecolor\":\"white\"},\"title\":{\"x\":0.05},\"mapbox\":{\"style\":\"light\"}}},\"xaxis\":{\"anchor\":\"y\",\"domain\":[0.0,1.0],\"title\":{\"text\":\"mean_probability_uniformness_ratio_score\"},\"type\":\"log\"},\"yaxis\":{\"anchor\":\"x\",\"domain\":[0.0,1.0],\"title\":{\"text\":\"mrae\"},\"type\":\"log\"},\"legend\":{\"title\":{\"text\":\"method\"},\"tracegroupgap\":0},\"margin\":{\"t\":60}},                        {\"responsive\": true}                    ).then(function(){\n",
       "                            \n",
       "var gd = document.getElementById('7816362c-6d96-40cf-9df6-13f82b6f9739');\n",
       "var x = new MutationObserver(function (mutations, observer) {{\n",
       "        var display = window.getComputedStyle(gd).display;\n",
       "        if (!display || display === 'none') {{\n",
       "            console.log([gd, 'removed!']);\n",
       "            Plotly.purge(gd);\n",
       "            observer.disconnect();\n",
       "        }}\n",
       "}});\n",
       "\n",
       "// Listen for the removal of the full notebook cells\n",
       "var notebookContainer = gd.closest('#notebook-container');\n",
       "if (notebookContainer) {{\n",
       "    x.observe(notebookContainer, {childList: true});\n",
       "}}\n",
       "\n",
       "// Listen for the clearing of the current output cell\n",
       "var outputEl = gd.closest('.output');\n",
       "if (outputEl) {{\n",
       "    x.observe(outputEl, {childList: true});\n",
       "}}\n",
       "\n",
       "                        })                };                });            </script>        </div>"
      ]
     },
     "metadata": {},
     "output_type": "display_data"
    }
   ],
   "source": [
    "def join_C(df):\n",
    "    C = df[\"transformer__classifier__estimator__C\"][:]\n",
    "    C[np.isnan(C)] = df[\"classifier__C\"]\n",
    "    C[np.isnan(C)] = df[\"base_estimator__C\"]\n",
    "    return C\n",
    "\n",
    "def plot_proper(val_path):\n",
    "    df = pd.read_csv(val_path, index_col=0) # read the results\n",
    "    display(df[[\"data\", \"method\", \"params\", \"mrae\"]].sort_values(\"mrae\"))\n",
    "    df[\"C\"] = join_C(df) # for sorting\n",
    "    fig = px.line(\n",
    "        df.sort_values(\"C\"),\n",
    "        x = \"mean_probability_uniformness_ratio_score\",\n",
    "        y = \"mrae\",\n",
    "        color = \"method\",\n",
    "        hover_data = [\"method\", \"params\"],\n",
    "        log_x = True,\n",
    "        log_y = True,\n",
    "    )\n",
    "    fig.show()\n",
    "\n",
    "plot_proper(\"results/results_lequa2022_proper.csv\")"
   ]
  },
  {
   "cell_type": "code",
   "execution_count": 116,
   "id": "68447486-d48a-454b-a085-1d041206b33a",
   "metadata": {},
   "outputs": [
    {
     "data": {
      "text/html": [
       "<div>\n",
       "<style scoped>\n",
       "    .dataframe tbody tr th:only-of-type {\n",
       "        vertical-align: middle;\n",
       "    }\n",
       "\n",
       "    .dataframe tbody tr th {\n",
       "        vertical-align: top;\n",
       "    }\n",
       "\n",
       "    .dataframe thead th {\n",
       "        text-align: right;\n",
       "    }\n",
       "</style>\n",
       "<table border=\"1\" class=\"dataframe\">\n",
       "  <thead>\n",
       "    <tr style=\"text-align: right;\">\n",
       "      <th></th>\n",
       "      <th>data</th>\n",
       "      <th>method</th>\n",
       "      <th>params</th>\n",
       "      <th>mrae</th>\n",
       "    </tr>\n",
       "  </thead>\n",
       "  <tbody>\n",
       "    <tr>\n",
       "      <th>22</th>\n",
       "      <td>lequa2024_val</td>\n",
       "      <td>EMaxL</td>\n",
       "      <td>{'tau': 1e-05, 'base_estimator__C': 0.46415888336127786}</td>\n",
       "      <td>1.136742</td>\n",
       "    </tr>\n",
       "    <tr>\n",
       "      <th>12</th>\n",
       "      <td>lequa2024_val</td>\n",
       "      <td>EMaxL</td>\n",
       "      <td>{'tau': 0.001, 'base_estimator__C': 0.46415888336127786}</td>\n",
       "      <td>1.137000</td>\n",
       "    </tr>\n",
       "    <tr>\n",
       "      <th>2</th>\n",
       "      <td>lequa2024_val</td>\n",
       "      <td>EMaxL</td>\n",
       "      <td>{'tau': 0.1, 'base_estimator__C': 0.46415888336127786}</td>\n",
       "      <td>1.163584</td>\n",
       "    </tr>\n",
       "    <tr>\n",
       "      <th>23</th>\n",
       "      <td>lequa2024_val</td>\n",
       "      <td>EMaxL</td>\n",
       "      <td>{'tau': 1e-05, 'base_estimator__C': 1.0}</td>\n",
       "      <td>1.175628</td>\n",
       "    </tr>\n",
       "    <tr>\n",
       "      <th>13</th>\n",
       "      <td>lequa2024_val</td>\n",
       "      <td>EMaxL</td>\n",
       "      <td>{'tau': 0.001, 'base_estimator__C': 1.0}</td>\n",
       "      <td>1.175854</td>\n",
       "    </tr>\n",
       "    <tr>\n",
       "      <th>21</th>\n",
       "      <td>lequa2024_val</td>\n",
       "      <td>EMaxL</td>\n",
       "      <td>{'tau': 1e-05, 'base_estimator__C': 0.21544346900318834}</td>\n",
       "      <td>1.193278</td>\n",
       "    </tr>\n",
       "    <tr>\n",
       "      <th>11</th>\n",
       "      <td>lequa2024_val</td>\n",
       "      <td>EMaxL</td>\n",
       "      <td>{'tau': 0.001, 'base_estimator__C': 0.21544346900318834}</td>\n",
       "      <td>1.193459</td>\n",
       "    </tr>\n",
       "    <tr>\n",
       "      <th>3</th>\n",
       "      <td>lequa2024_val</td>\n",
       "      <td>EMaxL</td>\n",
       "      <td>{'tau': 0.1, 'base_estimator__C': 1.0}</td>\n",
       "      <td>1.201247</td>\n",
       "    </tr>\n",
       "    <tr>\n",
       "      <th>1</th>\n",
       "      <td>lequa2024_val</td>\n",
       "      <td>EMaxL</td>\n",
       "      <td>{'tau': 0.1, 'base_estimator__C': 0.21544346900318834}</td>\n",
       "      <td>1.217557</td>\n",
       "    </tr>\n",
       "    <tr>\n",
       "      <th>24</th>\n",
       "      <td>lequa2024_val</td>\n",
       "      <td>EMaxL</td>\n",
       "      <td>{'tau': 1e-05, 'base_estimator__C': 2.1544346900318834}</td>\n",
       "      <td>1.255667</td>\n",
       "    </tr>\n",
       "    <tr>\n",
       "      <th>14</th>\n",
       "      <td>lequa2024_val</td>\n",
       "      <td>EMaxL</td>\n",
       "      <td>{'tau': 0.001, 'base_estimator__C': 2.1544346900318834}</td>\n",
       "      <td>1.255932</td>\n",
       "    </tr>\n",
       "    <tr>\n",
       "      <th>4</th>\n",
       "      <td>lequa2024_val</td>\n",
       "      <td>EMaxL</td>\n",
       "      <td>{'tau': 0.1, 'base_estimator__C': 2.1544346900318834}</td>\n",
       "      <td>1.280726</td>\n",
       "    </tr>\n",
       "    <tr>\n",
       "      <th>25</th>\n",
       "      <td>lequa2024_val</td>\n",
       "      <td>EMaxL</td>\n",
       "      <td>{'tau': 1e-05, 'base_estimator__C': 4.6415888336127775}</td>\n",
       "      <td>1.340142</td>\n",
       "    </tr>\n",
       "    <tr>\n",
       "      <th>15</th>\n",
       "      <td>lequa2024_val</td>\n",
       "      <td>EMaxL</td>\n",
       "      <td>{'tau': 0.001, 'base_estimator__C': 4.6415888336127775}</td>\n",
       "      <td>1.340367</td>\n",
       "    </tr>\n",
       "    <tr>\n",
       "      <th>5</th>\n",
       "      <td>lequa2024_val</td>\n",
       "      <td>EMaxL</td>\n",
       "      <td>{'tau': 0.1, 'base_estimator__C': 4.6415888336127775}</td>\n",
       "      <td>1.364709</td>\n",
       "    </tr>\n",
       "    <tr>\n",
       "      <th>0</th>\n",
       "      <td>lequa2024_val</td>\n",
       "      <td>EMaxL</td>\n",
       "      <td>{'tau': 0.1, 'base_estimator__C': 0.1}</td>\n",
       "      <td>1.393338</td>\n",
       "    </tr>\n",
       "    <tr>\n",
       "      <th>10</th>\n",
       "      <td>lequa2024_val</td>\n",
       "      <td>EMaxL</td>\n",
       "      <td>{'tau': 0.001, 'base_estimator__C': 0.1}</td>\n",
       "      <td>1.396834</td>\n",
       "    </tr>\n",
       "    <tr>\n",
       "      <th>20</th>\n",
       "      <td>lequa2024_val</td>\n",
       "      <td>EMaxL</td>\n",
       "      <td>{'tau': 1e-05, 'base_estimator__C': 0.1}</td>\n",
       "      <td>1.397005</td>\n",
       "    </tr>\n",
       "    <tr>\n",
       "      <th>27</th>\n",
       "      <td>lequa2024_val</td>\n",
       "      <td>EMaxL</td>\n",
       "      <td>{'tau': 1e-05, 'base_estimator__C': 21.54434690031882}</td>\n",
       "      <td>1.460367</td>\n",
       "    </tr>\n",
       "    <tr>\n",
       "      <th>17</th>\n",
       "      <td>lequa2024_val</td>\n",
       "      <td>EMaxL</td>\n",
       "      <td>{'tau': 0.001, 'base_estimator__C': 21.54434690031882}</td>\n",
       "      <td>1.460632</td>\n",
       "    </tr>\n",
       "    <tr>\n",
       "      <th>29</th>\n",
       "      <td>lequa2024_val</td>\n",
       "      <td>EMaxL</td>\n",
       "      <td>{'tau': 1e-05, 'base_estimator__C': 100.0}</td>\n",
       "      <td>1.474265</td>\n",
       "    </tr>\n",
       "    <tr>\n",
       "      <th>19</th>\n",
       "      <td>lequa2024_val</td>\n",
       "      <td>EMaxL</td>\n",
       "      <td>{'tau': 0.001, 'base_estimator__C': 100.0}</td>\n",
       "      <td>1.474495</td>\n",
       "    </tr>\n",
       "    <tr>\n",
       "      <th>26</th>\n",
       "      <td>lequa2024_val</td>\n",
       "      <td>EMaxL</td>\n",
       "      <td>{'tau': 1e-05, 'base_estimator__C': 10.0}</td>\n",
       "      <td>1.481887</td>\n",
       "    </tr>\n",
       "    <tr>\n",
       "      <th>16</th>\n",
       "      <td>lequa2024_val</td>\n",
       "      <td>EMaxL</td>\n",
       "      <td>{'tau': 0.001, 'base_estimator__C': 10.0}</td>\n",
       "      <td>1.482141</td>\n",
       "    </tr>\n",
       "    <tr>\n",
       "      <th>28</th>\n",
       "      <td>lequa2024_val</td>\n",
       "      <td>EMaxL</td>\n",
       "      <td>{'tau': 1e-05, 'base_estimator__C': 46.41588833612777}</td>\n",
       "      <td>1.482994</td>\n",
       "    </tr>\n",
       "    <tr>\n",
       "      <th>18</th>\n",
       "      <td>lequa2024_val</td>\n",
       "      <td>EMaxL</td>\n",
       "      <td>{'tau': 0.001, 'base_estimator__C': 46.41588833612777}</td>\n",
       "      <td>1.483240</td>\n",
       "    </tr>\n",
       "    <tr>\n",
       "      <th>7</th>\n",
       "      <td>lequa2024_val</td>\n",
       "      <td>EMaxL</td>\n",
       "      <td>{'tau': 0.1, 'base_estimator__C': 21.54434690031882}</td>\n",
       "      <td>1.484738</td>\n",
       "    </tr>\n",
       "    <tr>\n",
       "      <th>9</th>\n",
       "      <td>lequa2024_val</td>\n",
       "      <td>EMaxL</td>\n",
       "      <td>{'tau': 0.1, 'base_estimator__C': 100.0}</td>\n",
       "      <td>1.498537</td>\n",
       "    </tr>\n",
       "    <tr>\n",
       "      <th>6</th>\n",
       "      <td>lequa2024_val</td>\n",
       "      <td>EMaxL</td>\n",
       "      <td>{'tau': 0.1, 'base_estimator__C': 10.0}</td>\n",
       "      <td>1.506299</td>\n",
       "    </tr>\n",
       "    <tr>\n",
       "      <th>8</th>\n",
       "      <td>lequa2024_val</td>\n",
       "      <td>EMaxL</td>\n",
       "      <td>{'tau': 0.1, 'base_estimator__C': 46.41588833612777}</td>\n",
       "      <td>1.507277</td>\n",
       "    </tr>\n",
       "  </tbody>\n",
       "</table>\n",
       "</div>"
      ],
      "text/plain": [
       "             data method                                                    params      mrae\n",
       "22  lequa2024_val  EMaxL  {'tau': 1e-05, 'base_estimator__C': 0.46415888336127786}  1.136742\n",
       "12  lequa2024_val  EMaxL  {'tau': 0.001, 'base_estimator__C': 0.46415888336127786}  1.137000\n",
       "2   lequa2024_val  EMaxL    {'tau': 0.1, 'base_estimator__C': 0.46415888336127786}  1.163584\n",
       "23  lequa2024_val  EMaxL                  {'tau': 1e-05, 'base_estimator__C': 1.0}  1.175628\n",
       "13  lequa2024_val  EMaxL                  {'tau': 0.001, 'base_estimator__C': 1.0}  1.175854\n",
       "21  lequa2024_val  EMaxL  {'tau': 1e-05, 'base_estimator__C': 0.21544346900318834}  1.193278\n",
       "11  lequa2024_val  EMaxL  {'tau': 0.001, 'base_estimator__C': 0.21544346900318834}  1.193459\n",
       "3   lequa2024_val  EMaxL                    {'tau': 0.1, 'base_estimator__C': 1.0}  1.201247\n",
       "1   lequa2024_val  EMaxL    {'tau': 0.1, 'base_estimator__C': 0.21544346900318834}  1.217557\n",
       "24  lequa2024_val  EMaxL   {'tau': 1e-05, 'base_estimator__C': 2.1544346900318834}  1.255667\n",
       "14  lequa2024_val  EMaxL   {'tau': 0.001, 'base_estimator__C': 2.1544346900318834}  1.255932\n",
       "4   lequa2024_val  EMaxL     {'tau': 0.1, 'base_estimator__C': 2.1544346900318834}  1.280726\n",
       "25  lequa2024_val  EMaxL   {'tau': 1e-05, 'base_estimator__C': 4.6415888336127775}  1.340142\n",
       "15  lequa2024_val  EMaxL   {'tau': 0.001, 'base_estimator__C': 4.6415888336127775}  1.340367\n",
       "5   lequa2024_val  EMaxL     {'tau': 0.1, 'base_estimator__C': 4.6415888336127775}  1.364709\n",
       "0   lequa2024_val  EMaxL                    {'tau': 0.1, 'base_estimator__C': 0.1}  1.393338\n",
       "10  lequa2024_val  EMaxL                  {'tau': 0.001, 'base_estimator__C': 0.1}  1.396834\n",
       "20  lequa2024_val  EMaxL                  {'tau': 1e-05, 'base_estimator__C': 0.1}  1.397005\n",
       "27  lequa2024_val  EMaxL    {'tau': 1e-05, 'base_estimator__C': 21.54434690031882}  1.460367\n",
       "17  lequa2024_val  EMaxL    {'tau': 0.001, 'base_estimator__C': 21.54434690031882}  1.460632\n",
       "29  lequa2024_val  EMaxL                {'tau': 1e-05, 'base_estimator__C': 100.0}  1.474265\n",
       "19  lequa2024_val  EMaxL                {'tau': 0.001, 'base_estimator__C': 100.0}  1.474495\n",
       "26  lequa2024_val  EMaxL                 {'tau': 1e-05, 'base_estimator__C': 10.0}  1.481887\n",
       "16  lequa2024_val  EMaxL                 {'tau': 0.001, 'base_estimator__C': 10.0}  1.482141\n",
       "28  lequa2024_val  EMaxL    {'tau': 1e-05, 'base_estimator__C': 46.41588833612777}  1.482994\n",
       "18  lequa2024_val  EMaxL    {'tau': 0.001, 'base_estimator__C': 46.41588833612777}  1.483240\n",
       "7   lequa2024_val  EMaxL      {'tau': 0.1, 'base_estimator__C': 21.54434690031882}  1.484738\n",
       "9   lequa2024_val  EMaxL                  {'tau': 0.1, 'base_estimator__C': 100.0}  1.498537\n",
       "6   lequa2024_val  EMaxL                   {'tau': 0.1, 'base_estimator__C': 10.0}  1.506299\n",
       "8   lequa2024_val  EMaxL      {'tau': 0.1, 'base_estimator__C': 46.41588833612777}  1.507277"
      ]
     },
     "metadata": {},
     "output_type": "display_data"
    },
    {
     "ename": "KeyError",
     "evalue": "'transformer__classifier__estimator__C'",
     "output_type": "error",
     "traceback": [
      "\u001b[0;31m---------------------------------------------------------------------------\u001b[0m",
      "\u001b[0;31mKeyError\u001b[0m                                  Traceback (most recent call last)",
      "File \u001b[0;32m~/Repos/tobiaslotz-lequa2024/venv/lib/python3.11/site-packages/pandas/core/indexes/base.py:3805\u001b[0m, in \u001b[0;36mIndex.get_loc\u001b[0;34m(self, key)\u001b[0m\n\u001b[1;32m   3804\u001b[0m \u001b[38;5;28;01mtry\u001b[39;00m:\n\u001b[0;32m-> 3805\u001b[0m     \u001b[38;5;28;01mreturn\u001b[39;00m \u001b[38;5;28;43mself\u001b[39;49m\u001b[38;5;241;43m.\u001b[39;49m\u001b[43m_engine\u001b[49m\u001b[38;5;241;43m.\u001b[39;49m\u001b[43mget_loc\u001b[49m\u001b[43m(\u001b[49m\u001b[43mcasted_key\u001b[49m\u001b[43m)\u001b[49m\n\u001b[1;32m   3806\u001b[0m \u001b[38;5;28;01mexcept\u001b[39;00m \u001b[38;5;167;01mKeyError\u001b[39;00m \u001b[38;5;28;01mas\u001b[39;00m err:\n",
      "File \u001b[0;32mindex.pyx:167\u001b[0m, in \u001b[0;36mpandas._libs.index.IndexEngine.get_loc\u001b[0;34m()\u001b[0m\n",
      "File \u001b[0;32mindex.pyx:196\u001b[0m, in \u001b[0;36mpandas._libs.index.IndexEngine.get_loc\u001b[0;34m()\u001b[0m\n",
      "File \u001b[0;32mpandas/_libs/hashtable_class_helper.pxi:7081\u001b[0m, in \u001b[0;36mpandas._libs.hashtable.PyObjectHashTable.get_item\u001b[0;34m()\u001b[0m\n",
      "File \u001b[0;32mpandas/_libs/hashtable_class_helper.pxi:7089\u001b[0m, in \u001b[0;36mpandas._libs.hashtable.PyObjectHashTable.get_item\u001b[0;34m()\u001b[0m\n",
      "\u001b[0;31mKeyError\u001b[0m: 'transformer__classifier__estimator__C'",
      "\nThe above exception was the direct cause of the following exception:\n",
      "\u001b[0;31mKeyError\u001b[0m                                  Traceback (most recent call last)",
      "Cell \u001b[0;32mIn[116], line 1\u001b[0m\n\u001b[0;32m----> 1\u001b[0m \u001b[43mplot_proper\u001b[49m\u001b[43m(\u001b[49m\u001b[38;5;124;43m\"\u001b[39;49m\u001b[38;5;124;43mresults/results_lequa2022_reg.csv\u001b[39;49m\u001b[38;5;124;43m\"\u001b[39;49m\u001b[43m)\u001b[49m\n",
      "Cell \u001b[0;32mIn[115], line 10\u001b[0m, in \u001b[0;36mplot_proper\u001b[0;34m(val_path)\u001b[0m\n\u001b[1;32m      8\u001b[0m df \u001b[38;5;241m=\u001b[39m pd\u001b[38;5;241m.\u001b[39mread_csv(val_path, index_col\u001b[38;5;241m=\u001b[39m\u001b[38;5;241m0\u001b[39m) \u001b[38;5;66;03m# read the results\u001b[39;00m\n\u001b[1;32m      9\u001b[0m display(df[[\u001b[38;5;124m\"\u001b[39m\u001b[38;5;124mdata\u001b[39m\u001b[38;5;124m\"\u001b[39m, \u001b[38;5;124m\"\u001b[39m\u001b[38;5;124mmethod\u001b[39m\u001b[38;5;124m\"\u001b[39m, \u001b[38;5;124m\"\u001b[39m\u001b[38;5;124mparams\u001b[39m\u001b[38;5;124m\"\u001b[39m, \u001b[38;5;124m\"\u001b[39m\u001b[38;5;124mmrae\u001b[39m\u001b[38;5;124m\"\u001b[39m]]\u001b[38;5;241m.\u001b[39msort_values(\u001b[38;5;124m\"\u001b[39m\u001b[38;5;124mmrae\u001b[39m\u001b[38;5;124m\"\u001b[39m))\n\u001b[0;32m---> 10\u001b[0m df[\u001b[38;5;124m\"\u001b[39m\u001b[38;5;124mC\u001b[39m\u001b[38;5;124m\"\u001b[39m] \u001b[38;5;241m=\u001b[39m \u001b[43mjoin_C\u001b[49m\u001b[43m(\u001b[49m\u001b[43mdf\u001b[49m\u001b[43m)\u001b[49m \u001b[38;5;66;03m# for sorting\u001b[39;00m\n\u001b[1;32m     11\u001b[0m fig \u001b[38;5;241m=\u001b[39m px\u001b[38;5;241m.\u001b[39mline(\n\u001b[1;32m     12\u001b[0m     df\u001b[38;5;241m.\u001b[39msort_values(\u001b[38;5;124m\"\u001b[39m\u001b[38;5;124mC\u001b[39m\u001b[38;5;124m\"\u001b[39m),\n\u001b[1;32m     13\u001b[0m     x \u001b[38;5;241m=\u001b[39m \u001b[38;5;124m\"\u001b[39m\u001b[38;5;124mmean_probability_uniformness_ratio_score\u001b[39m\u001b[38;5;124m\"\u001b[39m,\n\u001b[0;32m   (...)\u001b[0m\n\u001b[1;32m     18\u001b[0m     log_y \u001b[38;5;241m=\u001b[39m \u001b[38;5;28;01mTrue\u001b[39;00m,\n\u001b[1;32m     19\u001b[0m )\n\u001b[1;32m     20\u001b[0m fig\u001b[38;5;241m.\u001b[39mshow()\n",
      "Cell \u001b[0;32mIn[115], line 2\u001b[0m, in \u001b[0;36mjoin_C\u001b[0;34m(df)\u001b[0m\n\u001b[1;32m      1\u001b[0m \u001b[38;5;28;01mdef\u001b[39;00m \u001b[38;5;21mjoin_C\u001b[39m(df):\n\u001b[0;32m----> 2\u001b[0m     C \u001b[38;5;241m=\u001b[39m \u001b[43mdf\u001b[49m\u001b[43m[\u001b[49m\u001b[38;5;124;43m\"\u001b[39;49m\u001b[38;5;124;43mtransformer__classifier__estimator__C\u001b[39;49m\u001b[38;5;124;43m\"\u001b[39;49m\u001b[43m]\u001b[49m[:]\n\u001b[1;32m      3\u001b[0m     C[np\u001b[38;5;241m.\u001b[39misnan(C)] \u001b[38;5;241m=\u001b[39m df[\u001b[38;5;124m\"\u001b[39m\u001b[38;5;124mclassifier__C\u001b[39m\u001b[38;5;124m\"\u001b[39m]\n\u001b[1;32m      4\u001b[0m     C[np\u001b[38;5;241m.\u001b[39misnan(C)] \u001b[38;5;241m=\u001b[39m df[\u001b[38;5;124m\"\u001b[39m\u001b[38;5;124mbase_estimator__C\u001b[39m\u001b[38;5;124m\"\u001b[39m]\n",
      "File \u001b[0;32m~/Repos/tobiaslotz-lequa2024/venv/lib/python3.11/site-packages/pandas/core/frame.py:4102\u001b[0m, in \u001b[0;36mDataFrame.__getitem__\u001b[0;34m(self, key)\u001b[0m\n\u001b[1;32m   4100\u001b[0m \u001b[38;5;28;01mif\u001b[39;00m \u001b[38;5;28mself\u001b[39m\u001b[38;5;241m.\u001b[39mcolumns\u001b[38;5;241m.\u001b[39mnlevels \u001b[38;5;241m>\u001b[39m \u001b[38;5;241m1\u001b[39m:\n\u001b[1;32m   4101\u001b[0m     \u001b[38;5;28;01mreturn\u001b[39;00m \u001b[38;5;28mself\u001b[39m\u001b[38;5;241m.\u001b[39m_getitem_multilevel(key)\n\u001b[0;32m-> 4102\u001b[0m indexer \u001b[38;5;241m=\u001b[39m \u001b[38;5;28;43mself\u001b[39;49m\u001b[38;5;241;43m.\u001b[39;49m\u001b[43mcolumns\u001b[49m\u001b[38;5;241;43m.\u001b[39;49m\u001b[43mget_loc\u001b[49m\u001b[43m(\u001b[49m\u001b[43mkey\u001b[49m\u001b[43m)\u001b[49m\n\u001b[1;32m   4103\u001b[0m \u001b[38;5;28;01mif\u001b[39;00m is_integer(indexer):\n\u001b[1;32m   4104\u001b[0m     indexer \u001b[38;5;241m=\u001b[39m [indexer]\n",
      "File \u001b[0;32m~/Repos/tobiaslotz-lequa2024/venv/lib/python3.11/site-packages/pandas/core/indexes/base.py:3812\u001b[0m, in \u001b[0;36mIndex.get_loc\u001b[0;34m(self, key)\u001b[0m\n\u001b[1;32m   3807\u001b[0m     \u001b[38;5;28;01mif\u001b[39;00m \u001b[38;5;28misinstance\u001b[39m(casted_key, \u001b[38;5;28mslice\u001b[39m) \u001b[38;5;129;01mor\u001b[39;00m (\n\u001b[1;32m   3808\u001b[0m         \u001b[38;5;28misinstance\u001b[39m(casted_key, abc\u001b[38;5;241m.\u001b[39mIterable)\n\u001b[1;32m   3809\u001b[0m         \u001b[38;5;129;01mand\u001b[39;00m \u001b[38;5;28many\u001b[39m(\u001b[38;5;28misinstance\u001b[39m(x, \u001b[38;5;28mslice\u001b[39m) \u001b[38;5;28;01mfor\u001b[39;00m x \u001b[38;5;129;01min\u001b[39;00m casted_key)\n\u001b[1;32m   3810\u001b[0m     ):\n\u001b[1;32m   3811\u001b[0m         \u001b[38;5;28;01mraise\u001b[39;00m InvalidIndexError(key)\n\u001b[0;32m-> 3812\u001b[0m     \u001b[38;5;28;01mraise\u001b[39;00m \u001b[38;5;167;01mKeyError\u001b[39;00m(key) \u001b[38;5;28;01mfrom\u001b[39;00m \u001b[38;5;21;01merr\u001b[39;00m\n\u001b[1;32m   3813\u001b[0m \u001b[38;5;28;01mexcept\u001b[39;00m \u001b[38;5;167;01mTypeError\u001b[39;00m:\n\u001b[1;32m   3814\u001b[0m     \u001b[38;5;66;03m# If we have a listlike key, _check_indexing_error will raise\u001b[39;00m\n\u001b[1;32m   3815\u001b[0m     \u001b[38;5;66;03m#  InvalidIndexError. Otherwise we fall through and re-raise\u001b[39;00m\n\u001b[1;32m   3816\u001b[0m     \u001b[38;5;66;03m#  the TypeError.\u001b[39;00m\n\u001b[1;32m   3817\u001b[0m     \u001b[38;5;28mself\u001b[39m\u001b[38;5;241m.\u001b[39m_check_indexing_error(key)\n",
      "\u001b[0;31mKeyError\u001b[0m: 'transformer__classifier__estimator__C'"
     ]
    }
   ],
   "source": [
    "plot_proper(\"results/results_lequa2022_reg.csv\")"
   ]
  },
  {
   "cell_type": "code",
   "execution_count": 85,
   "id": "c672831c-d6f5-4158-aabd-d55c4e8e9bc3",
   "metadata": {},
   "outputs": [
    {
     "data": {
      "text/html": [
       "<div>\n",
       "<style scoped>\n",
       "    .dataframe tbody tr th:only-of-type {\n",
       "        vertical-align: middle;\n",
       "    }\n",
       "\n",
       "    .dataframe tbody tr th {\n",
       "        vertical-align: top;\n",
       "    }\n",
       "\n",
       "    .dataframe thead th {\n",
       "        text-align: right;\n",
       "    }\n",
       "</style>\n",
       "<table border=\"1\" class=\"dataframe\">\n",
       "  <thead>\n",
       "    <tr style=\"text-align: right;\">\n",
       "      <th></th>\n",
       "      <th>data</th>\n",
       "      <th>method</th>\n",
       "      <th>params</th>\n",
       "      <th>mrae</th>\n",
       "    </tr>\n",
       "  </thead>\n",
       "  <tbody>\n",
       "    <tr>\n",
       "      <th>30</th>\n",
       "      <td>lequa2024_val</td>\n",
       "      <td>SLD</td>\n",
       "      <td>{'classifier__n_features': (256,), 'classifier__lr_init': 0.01, 'classifier__batch_size': 128, 'classifier__activation': 'tanh'}</td>\n",
       "      <td>1.386952</td>\n",
       "    </tr>\n",
       "    <tr>\n",
       "      <th>21</th>\n",
       "      <td>lequa2024_val</td>\n",
       "      <td>SLD</td>\n",
       "      <td>{'classifier__n_features': (512,), 'classifier__lr_init': 0.01, 'classifier__batch_size': 128, 'classifier__activation': 'tanh'}</td>\n",
       "      <td>1.410730</td>\n",
       "    </tr>\n",
       "    <tr>\n",
       "      <th>8</th>\n",
       "      <td>lequa2024_val</td>\n",
       "      <td>SLD</td>\n",
       "      <td>{'classifier__n_features': (256, 256), 'classifier__lr_init': 0.001, 'classifier__batch_size': 128, 'classifier__activation': 'relu'}</td>\n",
       "      <td>1.439963</td>\n",
       "    </tr>\n",
       "    <tr>\n",
       "      <th>22</th>\n",
       "      <td>lequa2024_val</td>\n",
       "      <td>SLD</td>\n",
       "      <td>{'classifier__n_features': (512,), 'classifier__lr_init': 0.01, 'classifier__batch_size': 128, 'classifier__activation': 'sigmoid'}</td>\n",
       "      <td>1.441163</td>\n",
       "    </tr>\n",
       "    <tr>\n",
       "      <th>6</th>\n",
       "      <td>lequa2024_val</td>\n",
       "      <td>SLD</td>\n",
       "      <td>{'classifier__n_features': (256, 256), 'classifier__lr_init': 0.001, 'classifier__batch_size': 128, 'classifier__activation': 'tanh'}</td>\n",
       "      <td>1.441248</td>\n",
       "    </tr>\n",
       "    <tr>\n",
       "      <th>41</th>\n",
       "      <td>lequa2024_val</td>\n",
       "      <td>SLD</td>\n",
       "      <td>{'classifier__n_features': (128,), 'classifier__lr_init': 0.01, 'classifier__batch_size': 128, 'classifier__activation': 'relu'}</td>\n",
       "      <td>1.448366</td>\n",
       "    </tr>\n",
       "    <tr>\n",
       "      <th>31</th>\n",
       "      <td>lequa2024_val</td>\n",
       "      <td>SLD</td>\n",
       "      <td>{'classifier__n_features': (256,), 'classifier__lr_init': 0.01, 'classifier__batch_size': 128, 'classifier__activation': 'sigmoid'}</td>\n",
       "      <td>1.449271</td>\n",
       "    </tr>\n",
       "    <tr>\n",
       "      <th>32</th>\n",
       "      <td>lequa2024_val</td>\n",
       "      <td>SLD</td>\n",
       "      <td>{'classifier__n_features': (256,), 'classifier__lr_init': 0.01, 'classifier__batch_size': 128, 'classifier__activation': 'relu'}</td>\n",
       "      <td>1.473905</td>\n",
       "    </tr>\n",
       "    <tr>\n",
       "      <th>40</th>\n",
       "      <td>lequa2024_val</td>\n",
       "      <td>SLD</td>\n",
       "      <td>{'classifier__n_features': (128,), 'classifier__lr_init': 0.01, 'classifier__batch_size': 128, 'classifier__activation': 'sigmoid'}</td>\n",
       "      <td>1.474009</td>\n",
       "    </tr>\n",
       "    <tr>\n",
       "      <th>39</th>\n",
       "      <td>lequa2024_val</td>\n",
       "      <td>SLD</td>\n",
       "      <td>{'classifier__n_features': (128,), 'classifier__lr_init': 0.01, 'classifier__batch_size': 128, 'classifier__activation': 'tanh'}</td>\n",
       "      <td>1.530518</td>\n",
       "    </tr>\n",
       "    <tr>\n",
       "      <th>17</th>\n",
       "      <td>lequa2024_val</td>\n",
       "      <td>SLD</td>\n",
       "      <td>{'classifier__n_features': (128, 128), 'classifier__lr_init': 0.001, 'classifier__batch_size': 128, 'classifier__activation': 'relu'}</td>\n",
       "      <td>1.533499</td>\n",
       "    </tr>\n",
       "    <tr>\n",
       "      <th>23</th>\n",
       "      <td>lequa2024_val</td>\n",
       "      <td>SLD</td>\n",
       "      <td>{'classifier__n_features': (512,), 'classifier__lr_init': 0.01, 'classifier__batch_size': 128, 'classifier__activation': 'relu'}</td>\n",
       "      <td>1.589324</td>\n",
       "    </tr>\n",
       "    <tr>\n",
       "      <th>4</th>\n",
       "      <td>lequa2024_val</td>\n",
       "      <td>SLD</td>\n",
       "      <td>{'classifier__n_features': (256, 256), 'classifier__lr_init': 0.01, 'classifier__batch_size': 128, 'classifier__activation': 'sigmoid'}</td>\n",
       "      <td>1.599530</td>\n",
       "    </tr>\n",
       "    <tr>\n",
       "      <th>13</th>\n",
       "      <td>lequa2024_val</td>\n",
       "      <td>SLD</td>\n",
       "      <td>{'classifier__n_features': (128, 128), 'classifier__lr_init': 0.01, 'classifier__batch_size': 128, 'classifier__activation': 'sigmoid'}</td>\n",
       "      <td>1.622583</td>\n",
       "    </tr>\n",
       "    <tr>\n",
       "      <th>24</th>\n",
       "      <td>lequa2024_val</td>\n",
       "      <td>SLD</td>\n",
       "      <td>{'classifier__n_features': (512,), 'classifier__lr_init': 0.001, 'classifier__batch_size': 128, 'classifier__activation': 'tanh'}</td>\n",
       "      <td>1.661297</td>\n",
       "    </tr>\n",
       "    <tr>\n",
       "      <th>14</th>\n",
       "      <td>lequa2024_val</td>\n",
       "      <td>SLD</td>\n",
       "      <td>{'classifier__n_features': (128, 128), 'classifier__lr_init': 0.01, 'classifier__batch_size': 128, 'classifier__activation': 'relu'}</td>\n",
       "      <td>1.662017</td>\n",
       "    </tr>\n",
       "    <tr>\n",
       "      <th>26</th>\n",
       "      <td>lequa2024_val</td>\n",
       "      <td>SLD</td>\n",
       "      <td>{'classifier__n_features': (512,), 'classifier__lr_init': 0.001, 'classifier__batch_size': 128, 'classifier__activation': 'relu'}</td>\n",
       "      <td>1.667965</td>\n",
       "    </tr>\n",
       "    <tr>\n",
       "      <th>44</th>\n",
       "      <td>lequa2024_val</td>\n",
       "      <td>SLD</td>\n",
       "      <td>{'classifier__n_features': (128,), 'classifier__lr_init': 0.001, 'classifier__batch_size': 128, 'classifier__activation': 'relu'}</td>\n",
       "      <td>1.700219</td>\n",
       "    </tr>\n",
       "    <tr>\n",
       "      <th>35</th>\n",
       "      <td>lequa2024_val</td>\n",
       "      <td>SLD</td>\n",
       "      <td>{'classifier__n_features': (256,), 'classifier__lr_init': 0.001, 'classifier__batch_size': 128, 'classifier__activation': 'relu'}</td>\n",
       "      <td>1.709728</td>\n",
       "    </tr>\n",
       "    <tr>\n",
       "      <th>15</th>\n",
       "      <td>lequa2024_val</td>\n",
       "      <td>SLD</td>\n",
       "      <td>{'classifier__n_features': (128, 128), 'classifier__lr_init': 0.001, 'classifier__batch_size': 128, 'classifier__activation': 'tanh'}</td>\n",
       "      <td>1.710139</td>\n",
       "    </tr>\n",
       "    <tr>\n",
       "      <th>33</th>\n",
       "      <td>lequa2024_val</td>\n",
       "      <td>SLD</td>\n",
       "      <td>{'classifier__n_features': (256,), 'classifier__lr_init': 0.001, 'classifier__batch_size': 128, 'classifier__activation': 'tanh'}</td>\n",
       "      <td>1.719689</td>\n",
       "    </tr>\n",
       "    <tr>\n",
       "      <th>42</th>\n",
       "      <td>lequa2024_val</td>\n",
       "      <td>SLD</td>\n",
       "      <td>{'classifier__n_features': (128,), 'classifier__lr_init': 0.001, 'classifier__batch_size': 128, 'classifier__activation': 'tanh'}</td>\n",
       "      <td>1.758981</td>\n",
       "    </tr>\n",
       "    <tr>\n",
       "      <th>5</th>\n",
       "      <td>lequa2024_val</td>\n",
       "      <td>SLD</td>\n",
       "      <td>{'classifier__n_features': (256, 256), 'classifier__lr_init': 0.01, 'classifier__batch_size': 128, 'classifier__activation': 'relu'}</td>\n",
       "      <td>1.835419</td>\n",
       "    </tr>\n",
       "    <tr>\n",
       "      <th>25</th>\n",
       "      <td>lequa2024_val</td>\n",
       "      <td>SLD</td>\n",
       "      <td>{'classifier__n_features': (512,), 'classifier__lr_init': 0.001, 'classifier__batch_size': 128, 'classifier__activation': 'sigmoid'}</td>\n",
       "      <td>1.994646</td>\n",
       "    </tr>\n",
       "    <tr>\n",
       "      <th>34</th>\n",
       "      <td>lequa2024_val</td>\n",
       "      <td>SLD</td>\n",
       "      <td>{'classifier__n_features': (256,), 'classifier__lr_init': 0.001, 'classifier__batch_size': 128, 'classifier__activation': 'sigmoid'}</td>\n",
       "      <td>2.163518</td>\n",
       "    </tr>\n",
       "    <tr>\n",
       "      <th>43</th>\n",
       "      <td>lequa2024_val</td>\n",
       "      <td>SLD</td>\n",
       "      <td>{'classifier__n_features': (128,), 'classifier__lr_init': 0.001, 'classifier__batch_size': 128, 'classifier__activation': 'sigmoid'}</td>\n",
       "      <td>2.196546</td>\n",
       "    </tr>\n",
       "    <tr>\n",
       "      <th>3</th>\n",
       "      <td>lequa2024_val</td>\n",
       "      <td>SLD</td>\n",
       "      <td>{'classifier__n_features': (256, 256), 'classifier__lr_init': 0.01, 'classifier__batch_size': 128, 'classifier__activation': 'tanh'}</td>\n",
       "      <td>2.352702</td>\n",
       "    </tr>\n",
       "    <tr>\n",
       "      <th>7</th>\n",
       "      <td>lequa2024_val</td>\n",
       "      <td>SLD</td>\n",
       "      <td>{'classifier__n_features': (256, 256), 'classifier__lr_init': 0.001, 'classifier__batch_size': 128, 'classifier__activation': 'sigmoid'}</td>\n",
       "      <td>2.988019</td>\n",
       "    </tr>\n",
       "    <tr>\n",
       "      <th>12</th>\n",
       "      <td>lequa2024_val</td>\n",
       "      <td>SLD</td>\n",
       "      <td>{'classifier__n_features': (128, 128), 'classifier__lr_init': 0.01, 'classifier__batch_size': 128, 'classifier__activation': 'tanh'}</td>\n",
       "      <td>3.210532</td>\n",
       "    </tr>\n",
       "    <tr>\n",
       "      <th>16</th>\n",
       "      <td>lequa2024_val</td>\n",
       "      <td>SLD</td>\n",
       "      <td>{'classifier__n_features': (128, 128), 'classifier__lr_init': 0.001, 'classifier__batch_size': 128, 'classifier__activation': 'sigmoid'}</td>\n",
       "      <td>3.299705</td>\n",
       "    </tr>\n",
       "    <tr>\n",
       "      <th>1</th>\n",
       "      <td>lequa2024_val</td>\n",
       "      <td>SLD</td>\n",
       "      <td>{'classifier__n_features': (256, 256), 'classifier__lr_init': 0.1, 'classifier__batch_size': 128, 'classifier__activation': 'sigmoid'}</td>\n",
       "      <td>4.041840</td>\n",
       "    </tr>\n",
       "    <tr>\n",
       "      <th>28</th>\n",
       "      <td>lequa2024_val</td>\n",
       "      <td>SLD</td>\n",
       "      <td>{'classifier__n_features': (256,), 'classifier__lr_init': 0.1, 'classifier__batch_size': 128, 'classifier__activation': 'sigmoid'}</td>\n",
       "      <td>4.827876</td>\n",
       "    </tr>\n",
       "    <tr>\n",
       "      <th>11</th>\n",
       "      <td>lequa2024_val</td>\n",
       "      <td>SLD</td>\n",
       "      <td>{'classifier__n_features': (128, 128), 'classifier__lr_init': 0.1, 'classifier__batch_size': 128, 'classifier__activation': 'relu'}</td>\n",
       "      <td>4.837469</td>\n",
       "    </tr>\n",
       "    <tr>\n",
       "      <th>38</th>\n",
       "      <td>lequa2024_val</td>\n",
       "      <td>SLD</td>\n",
       "      <td>{'classifier__n_features': (128,), 'classifier__lr_init': 0.1, 'classifier__batch_size': 128, 'classifier__activation': 'relu'}</td>\n",
       "      <td>4.840782</td>\n",
       "    </tr>\n",
       "    <tr>\n",
       "      <th>2</th>\n",
       "      <td>lequa2024_val</td>\n",
       "      <td>SLD</td>\n",
       "      <td>{'classifier__n_features': (256, 256), 'classifier__lr_init': 0.1, 'classifier__batch_size': 128, 'classifier__activation': 'relu'}</td>\n",
       "      <td>4.840790</td>\n",
       "    </tr>\n",
       "    <tr>\n",
       "      <th>29</th>\n",
       "      <td>lequa2024_val</td>\n",
       "      <td>SLD</td>\n",
       "      <td>{'classifier__n_features': (256,), 'classifier__lr_init': 0.1, 'classifier__batch_size': 128, 'classifier__activation': 'relu'}</td>\n",
       "      <td>4.840790</td>\n",
       "    </tr>\n",
       "    <tr>\n",
       "      <th>20</th>\n",
       "      <td>lequa2024_val</td>\n",
       "      <td>SLD</td>\n",
       "      <td>{'classifier__n_features': (512,), 'classifier__lr_init': 0.1, 'classifier__batch_size': 128, 'classifier__activation': 'relu'}</td>\n",
       "      <td>4.840791</td>\n",
       "    </tr>\n",
       "    <tr>\n",
       "      <th>19</th>\n",
       "      <td>lequa2024_val</td>\n",
       "      <td>SLD</td>\n",
       "      <td>{'classifier__n_features': (512,), 'classifier__lr_init': 0.1, 'classifier__batch_size': 128, 'classifier__activation': 'sigmoid'}</td>\n",
       "      <td>4.896314</td>\n",
       "    </tr>\n",
       "    <tr>\n",
       "      <th>18</th>\n",
       "      <td>lequa2024_val</td>\n",
       "      <td>SLD</td>\n",
       "      <td>{'classifier__n_features': (512,), 'classifier__lr_init': 0.1, 'classifier__batch_size': 128, 'classifier__activation': 'tanh'}</td>\n",
       "      <td>5.199496</td>\n",
       "    </tr>\n",
       "    <tr>\n",
       "      <th>10</th>\n",
       "      <td>lequa2024_val</td>\n",
       "      <td>SLD</td>\n",
       "      <td>{'classifier__n_features': (128, 128), 'classifier__lr_init': 0.1, 'classifier__batch_size': 128, 'classifier__activation': 'sigmoid'}</td>\n",
       "      <td>5.342817</td>\n",
       "    </tr>\n",
       "    <tr>\n",
       "      <th>36</th>\n",
       "      <td>lequa2024_val</td>\n",
       "      <td>SLD</td>\n",
       "      <td>{'classifier__n_features': (128,), 'classifier__lr_init': 0.1, 'classifier__batch_size': 128, 'classifier__activation': 'tanh'}</td>\n",
       "      <td>5.546644</td>\n",
       "    </tr>\n",
       "    <tr>\n",
       "      <th>9</th>\n",
       "      <td>lequa2024_val</td>\n",
       "      <td>SLD</td>\n",
       "      <td>{'classifier__n_features': (128, 128), 'classifier__lr_init': 0.1, 'classifier__batch_size': 128, 'classifier__activation': 'tanh'}</td>\n",
       "      <td>5.568824</td>\n",
       "    </tr>\n",
       "    <tr>\n",
       "      <th>37</th>\n",
       "      <td>lequa2024_val</td>\n",
       "      <td>SLD</td>\n",
       "      <td>{'classifier__n_features': (128,), 'classifier__lr_init': 0.1, 'classifier__batch_size': 128, 'classifier__activation': 'sigmoid'}</td>\n",
       "      <td>5.637961</td>\n",
       "    </tr>\n",
       "    <tr>\n",
       "      <th>0</th>\n",
       "      <td>lequa2024_val</td>\n",
       "      <td>SLD</td>\n",
       "      <td>{'classifier__n_features': (256, 256), 'classifier__lr_init': 0.1, 'classifier__batch_size': 128, 'classifier__activation': 'tanh'}</td>\n",
       "      <td>6.118379</td>\n",
       "    </tr>\n",
       "    <tr>\n",
       "      <th>27</th>\n",
       "      <td>lequa2024_val</td>\n",
       "      <td>SLD</td>\n",
       "      <td>{'classifier__n_features': (256,), 'classifier__lr_init': 0.1, 'classifier__batch_size': 128, 'classifier__activation': 'tanh'}</td>\n",
       "      <td>6.119792</td>\n",
       "    </tr>\n",
       "  </tbody>\n",
       "</table>\n",
       "</div>"
      ],
      "text/plain": [
       "             data method                                                                                                                                    params      mrae\n",
       "30  lequa2024_val    SLD          {'classifier__n_features': (256,), 'classifier__lr_init': 0.01, 'classifier__batch_size': 128, 'classifier__activation': 'tanh'}  1.386952\n",
       "21  lequa2024_val    SLD          {'classifier__n_features': (512,), 'classifier__lr_init': 0.01, 'classifier__batch_size': 128, 'classifier__activation': 'tanh'}  1.410730\n",
       "8   lequa2024_val    SLD     {'classifier__n_features': (256, 256), 'classifier__lr_init': 0.001, 'classifier__batch_size': 128, 'classifier__activation': 'relu'}  1.439963\n",
       "22  lequa2024_val    SLD       {'classifier__n_features': (512,), 'classifier__lr_init': 0.01, 'classifier__batch_size': 128, 'classifier__activation': 'sigmoid'}  1.441163\n",
       "6   lequa2024_val    SLD     {'classifier__n_features': (256, 256), 'classifier__lr_init': 0.001, 'classifier__batch_size': 128, 'classifier__activation': 'tanh'}  1.441248\n",
       "41  lequa2024_val    SLD          {'classifier__n_features': (128,), 'classifier__lr_init': 0.01, 'classifier__batch_size': 128, 'classifier__activation': 'relu'}  1.448366\n",
       "31  lequa2024_val    SLD       {'classifier__n_features': (256,), 'classifier__lr_init': 0.01, 'classifier__batch_size': 128, 'classifier__activation': 'sigmoid'}  1.449271\n",
       "32  lequa2024_val    SLD          {'classifier__n_features': (256,), 'classifier__lr_init': 0.01, 'classifier__batch_size': 128, 'classifier__activation': 'relu'}  1.473905\n",
       "40  lequa2024_val    SLD       {'classifier__n_features': (128,), 'classifier__lr_init': 0.01, 'classifier__batch_size': 128, 'classifier__activation': 'sigmoid'}  1.474009\n",
       "39  lequa2024_val    SLD          {'classifier__n_features': (128,), 'classifier__lr_init': 0.01, 'classifier__batch_size': 128, 'classifier__activation': 'tanh'}  1.530518\n",
       "17  lequa2024_val    SLD     {'classifier__n_features': (128, 128), 'classifier__lr_init': 0.001, 'classifier__batch_size': 128, 'classifier__activation': 'relu'}  1.533499\n",
       "23  lequa2024_val    SLD          {'classifier__n_features': (512,), 'classifier__lr_init': 0.01, 'classifier__batch_size': 128, 'classifier__activation': 'relu'}  1.589324\n",
       "4   lequa2024_val    SLD   {'classifier__n_features': (256, 256), 'classifier__lr_init': 0.01, 'classifier__batch_size': 128, 'classifier__activation': 'sigmoid'}  1.599530\n",
       "13  lequa2024_val    SLD   {'classifier__n_features': (128, 128), 'classifier__lr_init': 0.01, 'classifier__batch_size': 128, 'classifier__activation': 'sigmoid'}  1.622583\n",
       "24  lequa2024_val    SLD         {'classifier__n_features': (512,), 'classifier__lr_init': 0.001, 'classifier__batch_size': 128, 'classifier__activation': 'tanh'}  1.661297\n",
       "14  lequa2024_val    SLD      {'classifier__n_features': (128, 128), 'classifier__lr_init': 0.01, 'classifier__batch_size': 128, 'classifier__activation': 'relu'}  1.662017\n",
       "26  lequa2024_val    SLD         {'classifier__n_features': (512,), 'classifier__lr_init': 0.001, 'classifier__batch_size': 128, 'classifier__activation': 'relu'}  1.667965\n",
       "44  lequa2024_val    SLD         {'classifier__n_features': (128,), 'classifier__lr_init': 0.001, 'classifier__batch_size': 128, 'classifier__activation': 'relu'}  1.700219\n",
       "35  lequa2024_val    SLD         {'classifier__n_features': (256,), 'classifier__lr_init': 0.001, 'classifier__batch_size': 128, 'classifier__activation': 'relu'}  1.709728\n",
       "15  lequa2024_val    SLD     {'classifier__n_features': (128, 128), 'classifier__lr_init': 0.001, 'classifier__batch_size': 128, 'classifier__activation': 'tanh'}  1.710139\n",
       "33  lequa2024_val    SLD         {'classifier__n_features': (256,), 'classifier__lr_init': 0.001, 'classifier__batch_size': 128, 'classifier__activation': 'tanh'}  1.719689\n",
       "42  lequa2024_val    SLD         {'classifier__n_features': (128,), 'classifier__lr_init': 0.001, 'classifier__batch_size': 128, 'classifier__activation': 'tanh'}  1.758981\n",
       "5   lequa2024_val    SLD      {'classifier__n_features': (256, 256), 'classifier__lr_init': 0.01, 'classifier__batch_size': 128, 'classifier__activation': 'relu'}  1.835419\n",
       "25  lequa2024_val    SLD      {'classifier__n_features': (512,), 'classifier__lr_init': 0.001, 'classifier__batch_size': 128, 'classifier__activation': 'sigmoid'}  1.994646\n",
       "34  lequa2024_val    SLD      {'classifier__n_features': (256,), 'classifier__lr_init': 0.001, 'classifier__batch_size': 128, 'classifier__activation': 'sigmoid'}  2.163518\n",
       "43  lequa2024_val    SLD      {'classifier__n_features': (128,), 'classifier__lr_init': 0.001, 'classifier__batch_size': 128, 'classifier__activation': 'sigmoid'}  2.196546\n",
       "3   lequa2024_val    SLD      {'classifier__n_features': (256, 256), 'classifier__lr_init': 0.01, 'classifier__batch_size': 128, 'classifier__activation': 'tanh'}  2.352702\n",
       "7   lequa2024_val    SLD  {'classifier__n_features': (256, 256), 'classifier__lr_init': 0.001, 'classifier__batch_size': 128, 'classifier__activation': 'sigmoid'}  2.988019\n",
       "12  lequa2024_val    SLD      {'classifier__n_features': (128, 128), 'classifier__lr_init': 0.01, 'classifier__batch_size': 128, 'classifier__activation': 'tanh'}  3.210532\n",
       "16  lequa2024_val    SLD  {'classifier__n_features': (128, 128), 'classifier__lr_init': 0.001, 'classifier__batch_size': 128, 'classifier__activation': 'sigmoid'}  3.299705\n",
       "1   lequa2024_val    SLD    {'classifier__n_features': (256, 256), 'classifier__lr_init': 0.1, 'classifier__batch_size': 128, 'classifier__activation': 'sigmoid'}  4.041840\n",
       "28  lequa2024_val    SLD        {'classifier__n_features': (256,), 'classifier__lr_init': 0.1, 'classifier__batch_size': 128, 'classifier__activation': 'sigmoid'}  4.827876\n",
       "11  lequa2024_val    SLD       {'classifier__n_features': (128, 128), 'classifier__lr_init': 0.1, 'classifier__batch_size': 128, 'classifier__activation': 'relu'}  4.837469\n",
       "38  lequa2024_val    SLD           {'classifier__n_features': (128,), 'classifier__lr_init': 0.1, 'classifier__batch_size': 128, 'classifier__activation': 'relu'}  4.840782\n",
       "2   lequa2024_val    SLD       {'classifier__n_features': (256, 256), 'classifier__lr_init': 0.1, 'classifier__batch_size': 128, 'classifier__activation': 'relu'}  4.840790\n",
       "29  lequa2024_val    SLD           {'classifier__n_features': (256,), 'classifier__lr_init': 0.1, 'classifier__batch_size': 128, 'classifier__activation': 'relu'}  4.840790\n",
       "20  lequa2024_val    SLD           {'classifier__n_features': (512,), 'classifier__lr_init': 0.1, 'classifier__batch_size': 128, 'classifier__activation': 'relu'}  4.840791\n",
       "19  lequa2024_val    SLD        {'classifier__n_features': (512,), 'classifier__lr_init': 0.1, 'classifier__batch_size': 128, 'classifier__activation': 'sigmoid'}  4.896314\n",
       "18  lequa2024_val    SLD           {'classifier__n_features': (512,), 'classifier__lr_init': 0.1, 'classifier__batch_size': 128, 'classifier__activation': 'tanh'}  5.199496\n",
       "10  lequa2024_val    SLD    {'classifier__n_features': (128, 128), 'classifier__lr_init': 0.1, 'classifier__batch_size': 128, 'classifier__activation': 'sigmoid'}  5.342817\n",
       "36  lequa2024_val    SLD           {'classifier__n_features': (128,), 'classifier__lr_init': 0.1, 'classifier__batch_size': 128, 'classifier__activation': 'tanh'}  5.546644\n",
       "9   lequa2024_val    SLD       {'classifier__n_features': (128, 128), 'classifier__lr_init': 0.1, 'classifier__batch_size': 128, 'classifier__activation': 'tanh'}  5.568824\n",
       "37  lequa2024_val    SLD        {'classifier__n_features': (128,), 'classifier__lr_init': 0.1, 'classifier__batch_size': 128, 'classifier__activation': 'sigmoid'}  5.637961\n",
       "0   lequa2024_val    SLD       {'classifier__n_features': (256, 256), 'classifier__lr_init': 0.1, 'classifier__batch_size': 128, 'classifier__activation': 'tanh'}  6.118379\n",
       "27  lequa2024_val    SLD           {'classifier__n_features': (256,), 'classifier__lr_init': 0.1, 'classifier__batch_size': 128, 'classifier__activation': 'tanh'}  6.119792"
      ]
     },
     "metadata": {},
     "output_type": "display_data"
    },
    {
     "data": {
      "application/vnd.plotly.v1+json": {
       "config": {
        "plotlyServerURL": "https://plot.ly"
       },
       "data": [
        {
         "customdata": [
          [
           "SLD",
           "{'classifier__n_features': (256, 256), 'classifier__lr_init': 0.1, 'classifier__batch_size': 128, 'classifier__activation': 'tanh'}"
          ],
          [
           "SLD",
           "{'classifier__n_features': (256, 256), 'classifier__lr_init': 0.1, 'classifier__batch_size': 128, 'classifier__activation': 'sigmoid'}"
          ],
          [
           "SLD",
           "{'classifier__n_features': (256, 256), 'classifier__lr_init': 0.1, 'classifier__batch_size': 128, 'classifier__activation': 'relu'}"
          ],
          [
           "SLD",
           "{'classifier__n_features': (256, 256), 'classifier__lr_init': 0.01, 'classifier__batch_size': 128, 'classifier__activation': 'tanh'}"
          ],
          [
           "SLD",
           "{'classifier__n_features': (256, 256), 'classifier__lr_init': 0.01, 'classifier__batch_size': 128, 'classifier__activation': 'sigmoid'}"
          ],
          [
           "SLD",
           "{'classifier__n_features': (256, 256), 'classifier__lr_init': 0.01, 'classifier__batch_size': 128, 'classifier__activation': 'relu'}"
          ],
          [
           "SLD",
           "{'classifier__n_features': (256, 256), 'classifier__lr_init': 0.001, 'classifier__batch_size': 128, 'classifier__activation': 'tanh'}"
          ],
          [
           "SLD",
           "{'classifier__n_features': (256, 256), 'classifier__lr_init': 0.001, 'classifier__batch_size': 128, 'classifier__activation': 'sigmoid'}"
          ],
          [
           "SLD",
           "{'classifier__n_features': (256, 256), 'classifier__lr_init': 0.001, 'classifier__batch_size': 128, 'classifier__activation': 'relu'}"
          ],
          [
           "SLD",
           "{'classifier__n_features': (128, 128), 'classifier__lr_init': 0.1, 'classifier__batch_size': 128, 'classifier__activation': 'tanh'}"
          ],
          [
           "SLD",
           "{'classifier__n_features': (128, 128), 'classifier__lr_init': 0.1, 'classifier__batch_size': 128, 'classifier__activation': 'sigmoid'}"
          ],
          [
           "SLD",
           "{'classifier__n_features': (128, 128), 'classifier__lr_init': 0.1, 'classifier__batch_size': 128, 'classifier__activation': 'relu'}"
          ],
          [
           "SLD",
           "{'classifier__n_features': (128, 128), 'classifier__lr_init': 0.01, 'classifier__batch_size': 128, 'classifier__activation': 'tanh'}"
          ],
          [
           "SLD",
           "{'classifier__n_features': (128, 128), 'classifier__lr_init': 0.01, 'classifier__batch_size': 128, 'classifier__activation': 'sigmoid'}"
          ],
          [
           "SLD",
           "{'classifier__n_features': (128, 128), 'classifier__lr_init': 0.01, 'classifier__batch_size': 128, 'classifier__activation': 'relu'}"
          ],
          [
           "SLD",
           "{'classifier__n_features': (128, 128), 'classifier__lr_init': 0.001, 'classifier__batch_size': 128, 'classifier__activation': 'tanh'}"
          ],
          [
           "SLD",
           "{'classifier__n_features': (128, 128), 'classifier__lr_init': 0.001, 'classifier__batch_size': 128, 'classifier__activation': 'sigmoid'}"
          ],
          [
           "SLD",
           "{'classifier__n_features': (128, 128), 'classifier__lr_init': 0.001, 'classifier__batch_size': 128, 'classifier__activation': 'relu'}"
          ],
          [
           "SLD",
           "{'classifier__n_features': (512,), 'classifier__lr_init': 0.1, 'classifier__batch_size': 128, 'classifier__activation': 'tanh'}"
          ],
          [
           "SLD",
           "{'classifier__n_features': (512,), 'classifier__lr_init': 0.1, 'classifier__batch_size': 128, 'classifier__activation': 'sigmoid'}"
          ],
          [
           "SLD",
           "{'classifier__n_features': (512,), 'classifier__lr_init': 0.1, 'classifier__batch_size': 128, 'classifier__activation': 'relu'}"
          ],
          [
           "SLD",
           "{'classifier__n_features': (512,), 'classifier__lr_init': 0.01, 'classifier__batch_size': 128, 'classifier__activation': 'tanh'}"
          ],
          [
           "SLD",
           "{'classifier__n_features': (512,), 'classifier__lr_init': 0.01, 'classifier__batch_size': 128, 'classifier__activation': 'sigmoid'}"
          ],
          [
           "SLD",
           "{'classifier__n_features': (512,), 'classifier__lr_init': 0.01, 'classifier__batch_size': 128, 'classifier__activation': 'relu'}"
          ],
          [
           "SLD",
           "{'classifier__n_features': (512,), 'classifier__lr_init': 0.001, 'classifier__batch_size': 128, 'classifier__activation': 'tanh'}"
          ],
          [
           "SLD",
           "{'classifier__n_features': (512,), 'classifier__lr_init': 0.001, 'classifier__batch_size': 128, 'classifier__activation': 'sigmoid'}"
          ],
          [
           "SLD",
           "{'classifier__n_features': (512,), 'classifier__lr_init': 0.001, 'classifier__batch_size': 128, 'classifier__activation': 'relu'}"
          ],
          [
           "SLD",
           "{'classifier__n_features': (256,), 'classifier__lr_init': 0.1, 'classifier__batch_size': 128, 'classifier__activation': 'tanh'}"
          ],
          [
           "SLD",
           "{'classifier__n_features': (256,), 'classifier__lr_init': 0.1, 'classifier__batch_size': 128, 'classifier__activation': 'sigmoid'}"
          ],
          [
           "SLD",
           "{'classifier__n_features': (256,), 'classifier__lr_init': 0.1, 'classifier__batch_size': 128, 'classifier__activation': 'relu'}"
          ],
          [
           "SLD",
           "{'classifier__n_features': (256,), 'classifier__lr_init': 0.01, 'classifier__batch_size': 128, 'classifier__activation': 'tanh'}"
          ],
          [
           "SLD",
           "{'classifier__n_features': (256,), 'classifier__lr_init': 0.01, 'classifier__batch_size': 128, 'classifier__activation': 'sigmoid'}"
          ],
          [
           "SLD",
           "{'classifier__n_features': (256,), 'classifier__lr_init': 0.01, 'classifier__batch_size': 128, 'classifier__activation': 'relu'}"
          ],
          [
           "SLD",
           "{'classifier__n_features': (256,), 'classifier__lr_init': 0.001, 'classifier__batch_size': 128, 'classifier__activation': 'tanh'}"
          ],
          [
           "SLD",
           "{'classifier__n_features': (256,), 'classifier__lr_init': 0.001, 'classifier__batch_size': 128, 'classifier__activation': 'sigmoid'}"
          ],
          [
           "SLD",
           "{'classifier__n_features': (256,), 'classifier__lr_init': 0.001, 'classifier__batch_size': 128, 'classifier__activation': 'relu'}"
          ],
          [
           "SLD",
           "{'classifier__n_features': (128,), 'classifier__lr_init': 0.1, 'classifier__batch_size': 128, 'classifier__activation': 'tanh'}"
          ],
          [
           "SLD",
           "{'classifier__n_features': (128,), 'classifier__lr_init': 0.1, 'classifier__batch_size': 128, 'classifier__activation': 'sigmoid'}"
          ],
          [
           "SLD",
           "{'classifier__n_features': (128,), 'classifier__lr_init': 0.1, 'classifier__batch_size': 128, 'classifier__activation': 'relu'}"
          ],
          [
           "SLD",
           "{'classifier__n_features': (128,), 'classifier__lr_init': 0.01, 'classifier__batch_size': 128, 'classifier__activation': 'tanh'}"
          ],
          [
           "SLD",
           "{'classifier__n_features': (128,), 'classifier__lr_init': 0.01, 'classifier__batch_size': 128, 'classifier__activation': 'sigmoid'}"
          ],
          [
           "SLD",
           "{'classifier__n_features': (128,), 'classifier__lr_init': 0.01, 'classifier__batch_size': 128, 'classifier__activation': 'relu'}"
          ],
          [
           "SLD",
           "{'classifier__n_features': (128,), 'classifier__lr_init': 0.001, 'classifier__batch_size': 128, 'classifier__activation': 'tanh'}"
          ],
          [
           "SLD",
           "{'classifier__n_features': (128,), 'classifier__lr_init': 0.001, 'classifier__batch_size': 128, 'classifier__activation': 'sigmoid'}"
          ],
          [
           "SLD",
           "{'classifier__n_features': (128,), 'classifier__lr_init': 0.001, 'classifier__batch_size': 128, 'classifier__activation': 'relu'}"
          ]
         ],
         "hovertemplate": "data=lequa2024_val<br>mean_probability_uniformness_ratio_score=%{x}<br>mrae=%{y}<br>method=%{customdata[0]}<br>params=%{customdata[1]}<extra></extra>",
         "legendgroup": "lequa2024_val",
         "marker": {
          "color": "#636efa",
          "symbol": "circle"
         },
         "mode": "markers",
         "name": "lequa2024_val",
         "orientation": "v",
         "showlegend": true,
         "type": "scatter",
         "x": [
          32.90241619380372,
          5.528223635220176,
          4.770634550746576,
          1.9980436145268223,
          1.4824478419904876,
          1.023891409854763,
          1.5909549362415656,
          3.2183896753870025,
          1.518450743690791,
          20.607954748868483,
          19.774486945482277,
          4.773793773573179,
          3.369240673545575,
          1.6453822396580002,
          0.9794330637548968,
          2.403235419053176,
          2.943770767983082,
          1.6789179314374785,
          16.35464297086099,
          10.28650390476377,
          4.770583190039122,
          0.9892671145984684,
          1.466574528354971,
          1.2105565001072969,
          2.279675479666488,
          3.4066301445459217,
          2.212886992190908,
          32.91219295669206,
          10.554275448185235,
          4.770702879560431,
          0.9744004626939744,
          1.5661179173910933,
          1.1840762099599187,
          2.395542024724094,
          3.5771617178897364,
          2.3029936357533414,
          31.75316176314925,
          14.804111840015604,
          4.770653507866384,
          1.488273504931009,
          1.6858611410001336,
          1.1434881774259944,
          2.6125020240204995,
          3.5853869919212302,
          2.189923830917382
         ],
         "xaxis": "x",
         "y": [
          6.118378671079703,
          4.041839560202254,
          4.840789864467295,
          2.352702042335822,
          1.5995302041666235,
          1.835419421451784,
          1.44124820665281,
          2.988018725754203,
          1.4399632121415409,
          5.568824327991835,
          5.342817328251311,
          4.837469412345454,
          3.2105323532970145,
          1.6225825878153266,
          1.662017461290362,
          1.7101394372506662,
          3.299704739293348,
          1.5334986844549083,
          5.199495983490349,
          4.896313566601315,
          4.840791104629114,
          1.4107302910485706,
          1.4411630764198362,
          1.5893243900337068,
          1.6612973704337133,
          1.994646457784548,
          1.6679649577336009,
          6.119792162199798,
          4.827875725076703,
          4.840790076881444,
          1.386951982305145,
          1.449270919870371,
          1.4739051426896612,
          1.7196890128550504,
          2.163518181045237,
          1.7097278527271798,
          5.54664413255553,
          5.6379611514617975,
          4.840782116018477,
          1.5305184831459058,
          1.4740094507885693,
          1.448366114666685,
          1.7589812927147477,
          2.196546121052258,
          1.7002188433139422
         ],
         "yaxis": "y"
        }
       ],
       "layout": {
        "autosize": true,
        "legend": {
         "title": {
          "text": "data"
         },
         "tracegroupgap": 0
        },
        "margin": {
         "t": 60
        },
        "template": {
         "data": {
          "bar": [
           {
            "error_x": {
             "color": "#2a3f5f"
            },
            "error_y": {
             "color": "#2a3f5f"
            },
            "marker": {
             "line": {
              "color": "#E5ECF6",
              "width": 0.5
             },
             "pattern": {
              "fillmode": "overlay",
              "size": 10,
              "solidity": 0.2
             }
            },
            "type": "bar"
           }
          ],
          "barpolar": [
           {
            "marker": {
             "line": {
              "color": "#E5ECF6",
              "width": 0.5
             },
             "pattern": {
              "fillmode": "overlay",
              "size": 10,
              "solidity": 0.2
             }
            },
            "type": "barpolar"
           }
          ],
          "carpet": [
           {
            "aaxis": {
             "endlinecolor": "#2a3f5f",
             "gridcolor": "white",
             "linecolor": "white",
             "minorgridcolor": "white",
             "startlinecolor": "#2a3f5f"
            },
            "baxis": {
             "endlinecolor": "#2a3f5f",
             "gridcolor": "white",
             "linecolor": "white",
             "minorgridcolor": "white",
             "startlinecolor": "#2a3f5f"
            },
            "type": "carpet"
           }
          ],
          "choropleth": [
           {
            "colorbar": {
             "outlinewidth": 0,
             "ticks": ""
            },
            "type": "choropleth"
           }
          ],
          "contour": [
           {
            "colorbar": {
             "outlinewidth": 0,
             "ticks": ""
            },
            "colorscale": [
             [
              0,
              "#0d0887"
             ],
             [
              0.1111111111111111,
              "#46039f"
             ],
             [
              0.2222222222222222,
              "#7201a8"
             ],
             [
              0.3333333333333333,
              "#9c179e"
             ],
             [
              0.4444444444444444,
              "#bd3786"
             ],
             [
              0.5555555555555556,
              "#d8576b"
             ],
             [
              0.6666666666666666,
              "#ed7953"
             ],
             [
              0.7777777777777778,
              "#fb9f3a"
             ],
             [
              0.8888888888888888,
              "#fdca26"
             ],
             [
              1,
              "#f0f921"
             ]
            ],
            "type": "contour"
           }
          ],
          "contourcarpet": [
           {
            "colorbar": {
             "outlinewidth": 0,
             "ticks": ""
            },
            "type": "contourcarpet"
           }
          ],
          "heatmap": [
           {
            "colorbar": {
             "outlinewidth": 0,
             "ticks": ""
            },
            "colorscale": [
             [
              0,
              "#0d0887"
             ],
             [
              0.1111111111111111,
              "#46039f"
             ],
             [
              0.2222222222222222,
              "#7201a8"
             ],
             [
              0.3333333333333333,
              "#9c179e"
             ],
             [
              0.4444444444444444,
              "#bd3786"
             ],
             [
              0.5555555555555556,
              "#d8576b"
             ],
             [
              0.6666666666666666,
              "#ed7953"
             ],
             [
              0.7777777777777778,
              "#fb9f3a"
             ],
             [
              0.8888888888888888,
              "#fdca26"
             ],
             [
              1,
              "#f0f921"
             ]
            ],
            "type": "heatmap"
           }
          ],
          "heatmapgl": [
           {
            "colorbar": {
             "outlinewidth": 0,
             "ticks": ""
            },
            "colorscale": [
             [
              0,
              "#0d0887"
             ],
             [
              0.1111111111111111,
              "#46039f"
             ],
             [
              0.2222222222222222,
              "#7201a8"
             ],
             [
              0.3333333333333333,
              "#9c179e"
             ],
             [
              0.4444444444444444,
              "#bd3786"
             ],
             [
              0.5555555555555556,
              "#d8576b"
             ],
             [
              0.6666666666666666,
              "#ed7953"
             ],
             [
              0.7777777777777778,
              "#fb9f3a"
             ],
             [
              0.8888888888888888,
              "#fdca26"
             ],
             [
              1,
              "#f0f921"
             ]
            ],
            "type": "heatmapgl"
           }
          ],
          "histogram": [
           {
            "marker": {
             "pattern": {
              "fillmode": "overlay",
              "size": 10,
              "solidity": 0.2
             }
            },
            "type": "histogram"
           }
          ],
          "histogram2d": [
           {
            "colorbar": {
             "outlinewidth": 0,
             "ticks": ""
            },
            "colorscale": [
             [
              0,
              "#0d0887"
             ],
             [
              0.1111111111111111,
              "#46039f"
             ],
             [
              0.2222222222222222,
              "#7201a8"
             ],
             [
              0.3333333333333333,
              "#9c179e"
             ],
             [
              0.4444444444444444,
              "#bd3786"
             ],
             [
              0.5555555555555556,
              "#d8576b"
             ],
             [
              0.6666666666666666,
              "#ed7953"
             ],
             [
              0.7777777777777778,
              "#fb9f3a"
             ],
             [
              0.8888888888888888,
              "#fdca26"
             ],
             [
              1,
              "#f0f921"
             ]
            ],
            "type": "histogram2d"
           }
          ],
          "histogram2dcontour": [
           {
            "colorbar": {
             "outlinewidth": 0,
             "ticks": ""
            },
            "colorscale": [
             [
              0,
              "#0d0887"
             ],
             [
              0.1111111111111111,
              "#46039f"
             ],
             [
              0.2222222222222222,
              "#7201a8"
             ],
             [
              0.3333333333333333,
              "#9c179e"
             ],
             [
              0.4444444444444444,
              "#bd3786"
             ],
             [
              0.5555555555555556,
              "#d8576b"
             ],
             [
              0.6666666666666666,
              "#ed7953"
             ],
             [
              0.7777777777777778,
              "#fb9f3a"
             ],
             [
              0.8888888888888888,
              "#fdca26"
             ],
             [
              1,
              "#f0f921"
             ]
            ],
            "type": "histogram2dcontour"
           }
          ],
          "mesh3d": [
           {
            "colorbar": {
             "outlinewidth": 0,
             "ticks": ""
            },
            "type": "mesh3d"
           }
          ],
          "parcoords": [
           {
            "line": {
             "colorbar": {
              "outlinewidth": 0,
              "ticks": ""
             }
            },
            "type": "parcoords"
           }
          ],
          "pie": [
           {
            "automargin": true,
            "type": "pie"
           }
          ],
          "scatter": [
           {
            "fillpattern": {
             "fillmode": "overlay",
             "size": 10,
             "solidity": 0.2
            },
            "type": "scatter"
           }
          ],
          "scatter3d": [
           {
            "line": {
             "colorbar": {
              "outlinewidth": 0,
              "ticks": ""
             }
            },
            "marker": {
             "colorbar": {
              "outlinewidth": 0,
              "ticks": ""
             }
            },
            "type": "scatter3d"
           }
          ],
          "scattercarpet": [
           {
            "marker": {
             "colorbar": {
              "outlinewidth": 0,
              "ticks": ""
             }
            },
            "type": "scattercarpet"
           }
          ],
          "scattergeo": [
           {
            "marker": {
             "colorbar": {
              "outlinewidth": 0,
              "ticks": ""
             }
            },
            "type": "scattergeo"
           }
          ],
          "scattergl": [
           {
            "marker": {
             "colorbar": {
              "outlinewidth": 0,
              "ticks": ""
             }
            },
            "type": "scattergl"
           }
          ],
          "scattermapbox": [
           {
            "marker": {
             "colorbar": {
              "outlinewidth": 0,
              "ticks": ""
             }
            },
            "type": "scattermapbox"
           }
          ],
          "scatterpolar": [
           {
            "marker": {
             "colorbar": {
              "outlinewidth": 0,
              "ticks": ""
             }
            },
            "type": "scatterpolar"
           }
          ],
          "scatterpolargl": [
           {
            "marker": {
             "colorbar": {
              "outlinewidth": 0,
              "ticks": ""
             }
            },
            "type": "scatterpolargl"
           }
          ],
          "scatterternary": [
           {
            "marker": {
             "colorbar": {
              "outlinewidth": 0,
              "ticks": ""
             }
            },
            "type": "scatterternary"
           }
          ],
          "surface": [
           {
            "colorbar": {
             "outlinewidth": 0,
             "ticks": ""
            },
            "colorscale": [
             [
              0,
              "#0d0887"
             ],
             [
              0.1111111111111111,
              "#46039f"
             ],
             [
              0.2222222222222222,
              "#7201a8"
             ],
             [
              0.3333333333333333,
              "#9c179e"
             ],
             [
              0.4444444444444444,
              "#bd3786"
             ],
             [
              0.5555555555555556,
              "#d8576b"
             ],
             [
              0.6666666666666666,
              "#ed7953"
             ],
             [
              0.7777777777777778,
              "#fb9f3a"
             ],
             [
              0.8888888888888888,
              "#fdca26"
             ],
             [
              1,
              "#f0f921"
             ]
            ],
            "type": "surface"
           }
          ],
          "table": [
           {
            "cells": {
             "fill": {
              "color": "#EBF0F8"
             },
             "line": {
              "color": "white"
             }
            },
            "header": {
             "fill": {
              "color": "#C8D4E3"
             },
             "line": {
              "color": "white"
             }
            },
            "type": "table"
           }
          ]
         },
         "layout": {
          "annotationdefaults": {
           "arrowcolor": "#2a3f5f",
           "arrowhead": 0,
           "arrowwidth": 1
          },
          "autotypenumbers": "strict",
          "coloraxis": {
           "colorbar": {
            "outlinewidth": 0,
            "ticks": ""
           }
          },
          "colorscale": {
           "diverging": [
            [
             0,
             "#8e0152"
            ],
            [
             0.1,
             "#c51b7d"
            ],
            [
             0.2,
             "#de77ae"
            ],
            [
             0.3,
             "#f1b6da"
            ],
            [
             0.4,
             "#fde0ef"
            ],
            [
             0.5,
             "#f7f7f7"
            ],
            [
             0.6,
             "#e6f5d0"
            ],
            [
             0.7,
             "#b8e186"
            ],
            [
             0.8,
             "#7fbc41"
            ],
            [
             0.9,
             "#4d9221"
            ],
            [
             1,
             "#276419"
            ]
           ],
           "sequential": [
            [
             0,
             "#0d0887"
            ],
            [
             0.1111111111111111,
             "#46039f"
            ],
            [
             0.2222222222222222,
             "#7201a8"
            ],
            [
             0.3333333333333333,
             "#9c179e"
            ],
            [
             0.4444444444444444,
             "#bd3786"
            ],
            [
             0.5555555555555556,
             "#d8576b"
            ],
            [
             0.6666666666666666,
             "#ed7953"
            ],
            [
             0.7777777777777778,
             "#fb9f3a"
            ],
            [
             0.8888888888888888,
             "#fdca26"
            ],
            [
             1,
             "#f0f921"
            ]
           ],
           "sequentialminus": [
            [
             0,
             "#0d0887"
            ],
            [
             0.1111111111111111,
             "#46039f"
            ],
            [
             0.2222222222222222,
             "#7201a8"
            ],
            [
             0.3333333333333333,
             "#9c179e"
            ],
            [
             0.4444444444444444,
             "#bd3786"
            ],
            [
             0.5555555555555556,
             "#d8576b"
            ],
            [
             0.6666666666666666,
             "#ed7953"
            ],
            [
             0.7777777777777778,
             "#fb9f3a"
            ],
            [
             0.8888888888888888,
             "#fdca26"
            ],
            [
             1,
             "#f0f921"
            ]
           ]
          },
          "colorway": [
           "#636efa",
           "#EF553B",
           "#00cc96",
           "#ab63fa",
           "#FFA15A",
           "#19d3f3",
           "#FF6692",
           "#B6E880",
           "#FF97FF",
           "#FECB52"
          ],
          "font": {
           "color": "#2a3f5f"
          },
          "geo": {
           "bgcolor": "white",
           "lakecolor": "white",
           "landcolor": "#E5ECF6",
           "showlakes": true,
           "showland": true,
           "subunitcolor": "white"
          },
          "hoverlabel": {
           "align": "left"
          },
          "hovermode": "closest",
          "mapbox": {
           "style": "light"
          },
          "paper_bgcolor": "white",
          "plot_bgcolor": "#E5ECF6",
          "polar": {
           "angularaxis": {
            "gridcolor": "white",
            "linecolor": "white",
            "ticks": ""
           },
           "bgcolor": "#E5ECF6",
           "radialaxis": {
            "gridcolor": "white",
            "linecolor": "white",
            "ticks": ""
           }
          },
          "scene": {
           "xaxis": {
            "backgroundcolor": "#E5ECF6",
            "gridcolor": "white",
            "gridwidth": 2,
            "linecolor": "white",
            "showbackground": true,
            "ticks": "",
            "zerolinecolor": "white"
           },
           "yaxis": {
            "backgroundcolor": "#E5ECF6",
            "gridcolor": "white",
            "gridwidth": 2,
            "linecolor": "white",
            "showbackground": true,
            "ticks": "",
            "zerolinecolor": "white"
           },
           "zaxis": {
            "backgroundcolor": "#E5ECF6",
            "gridcolor": "white",
            "gridwidth": 2,
            "linecolor": "white",
            "showbackground": true,
            "ticks": "",
            "zerolinecolor": "white"
           }
          },
          "shapedefaults": {
           "line": {
            "color": "#2a3f5f"
           }
          },
          "ternary": {
           "aaxis": {
            "gridcolor": "white",
            "linecolor": "white",
            "ticks": ""
           },
           "baxis": {
            "gridcolor": "white",
            "linecolor": "white",
            "ticks": ""
           },
           "bgcolor": "#E5ECF6",
           "caxis": {
            "gridcolor": "white",
            "linecolor": "white",
            "ticks": ""
           }
          },
          "title": {
           "x": 0.05
          },
          "xaxis": {
           "automargin": true,
           "gridcolor": "white",
           "linecolor": "white",
           "ticks": "",
           "title": {
            "standoff": 15
           },
           "zerolinecolor": "white",
           "zerolinewidth": 2
          },
          "yaxis": {
           "automargin": true,
           "gridcolor": "white",
           "linecolor": "white",
           "ticks": "",
           "title": {
            "standoff": 15
           },
           "zerolinecolor": "white",
           "zerolinewidth": 2
          }
         }
        },
        "xaxis": {
         "anchor": "y",
         "autorange": false,
         "domain": [
          0,
          1
         ],
         "range": [
          -0.06342319875839311,
          0.27328567016121263
         ],
         "title": {
          "text": "mean_probability_uniformness_ratio_score"
         },
         "type": "log"
        },
        "yaxis": {
         "anchor": "x",
         "autorange": false,
         "domain": [
          0,
          1
         ],
         "range": [
          0.11245035781831908,
          0.318881801885331
         ],
         "title": {
          "text": "mrae"
         },
         "type": "log"
        }
       }
      },
      "image/png": "[encoded data removed]",
      "text/html": [
       "<div>                            <div id=\"3e4072d4-5485-46a2-adec-1e357610df92\" class=\"plotly-graph-div\" style=\"height:525px; width:100%;\"></div>            <script type=\"text/javascript\">                require([\"plotly\"], function(Plotly) {                    window.PLOTLYENV=window.PLOTLYENV || {};                                    if (document.getElementById(\"3e4072d4-5485-46a2-adec-1e357610df92\")) {                    Plotly.newPlot(                        \"3e4072d4-5485-46a2-adec-1e357610df92\",                        [{\"customdata\":[[\"SLD\",\"{'classifier__n_features': (256, 256), 'classifier__lr_init': 0.1, 'classifier__batch_size': 128, 'classifier__activation': 'tanh'}\"],[\"SLD\",\"{'classifier__n_features': (256, 256), 'classifier__lr_init': 0.1, 'classifier__batch_size': 128, 'classifier__activation': 'sigmoid'}\"],[\"SLD\",\"{'classifier__n_features': (256, 256), 'classifier__lr_init': 0.1, 'classifier__batch_size': 128, 'classifier__activation': 'relu'}\"],[\"SLD\",\"{'classifier__n_features': (256, 256), 'classifier__lr_init': 0.01, 'classifier__batch_size': 128, 'classifier__activation': 'tanh'}\"],[\"SLD\",\"{'classifier__n_features': (256, 256), 'classifier__lr_init': 0.01, 'classifier__batch_size': 128, 'classifier__activation': 'sigmoid'}\"],[\"SLD\",\"{'classifier__n_features': (256, 256), 'classifier__lr_init': 0.01, 'classifier__batch_size': 128, 'classifier__activation': 'relu'}\"],[\"SLD\",\"{'classifier__n_features': (256, 256), 'classifier__lr_init': 0.001, 'classifier__batch_size': 128, 'classifier__activation': 'tanh'}\"],[\"SLD\",\"{'classifier__n_features': (256, 256), 'classifier__lr_init': 0.001, 'classifier__batch_size': 128, 'classifier__activation': 'sigmoid'}\"],[\"SLD\",\"{'classifier__n_features': (256, 256), 'classifier__lr_init': 0.001, 'classifier__batch_size': 128, 'classifier__activation': 'relu'}\"],[\"SLD\",\"{'classifier__n_features': (128, 128), 'classifier__lr_init': 0.1, 'classifier__batch_size': 128, 'classifier__activation': 'tanh'}\"],[\"SLD\",\"{'classifier__n_features': (128, 128), 'classifier__lr_init': 0.1, 'classifier__batch_size': 128, 'classifier__activation': 'sigmoid'}\"],[\"SLD\",\"{'classifier__n_features': (128, 128), 'classifier__lr_init': 0.1, 'classifier__batch_size': 128, 'classifier__activation': 'relu'}\"],[\"SLD\",\"{'classifier__n_features': (128, 128), 'classifier__lr_init': 0.01, 'classifier__batch_size': 128, 'classifier__activation': 'tanh'}\"],[\"SLD\",\"{'classifier__n_features': (128, 128), 'classifier__lr_init': 0.01, 'classifier__batch_size': 128, 'classifier__activation': 'sigmoid'}\"],[\"SLD\",\"{'classifier__n_features': (128, 128), 'classifier__lr_init': 0.01, 'classifier__batch_size': 128, 'classifier__activation': 'relu'}\"],[\"SLD\",\"{'classifier__n_features': (128, 128), 'classifier__lr_init': 0.001, 'classifier__batch_size': 128, 'classifier__activation': 'tanh'}\"],[\"SLD\",\"{'classifier__n_features': (128, 128), 'classifier__lr_init': 0.001, 'classifier__batch_size': 128, 'classifier__activation': 'sigmoid'}\"],[\"SLD\",\"{'classifier__n_features': (128, 128), 'classifier__lr_init': 0.001, 'classifier__batch_size': 128, 'classifier__activation': 'relu'}\"],[\"SLD\",\"{'classifier__n_features': (512,), 'classifier__lr_init': 0.1, 'classifier__batch_size': 128, 'classifier__activation': 'tanh'}\"],[\"SLD\",\"{'classifier__n_features': (512,), 'classifier__lr_init': 0.1, 'classifier__batch_size': 128, 'classifier__activation': 'sigmoid'}\"],[\"SLD\",\"{'classifier__n_features': (512,), 'classifier__lr_init': 0.1, 'classifier__batch_size': 128, 'classifier__activation': 'relu'}\"],[\"SLD\",\"{'classifier__n_features': (512,), 'classifier__lr_init': 0.01, 'classifier__batch_size': 128, 'classifier__activation': 'tanh'}\"],[\"SLD\",\"{'classifier__n_features': (512,), 'classifier__lr_init': 0.01, 'classifier__batch_size': 128, 'classifier__activation': 'sigmoid'}\"],[\"SLD\",\"{'classifier__n_features': (512,), 'classifier__lr_init': 0.01, 'classifier__batch_size': 128, 'classifier__activation': 'relu'}\"],[\"SLD\",\"{'classifier__n_features': (512,), 'classifier__lr_init': 0.001, 'classifier__batch_size': 128, 'classifier__activation': 'tanh'}\"],[\"SLD\",\"{'classifier__n_features': (512,), 'classifier__lr_init': 0.001, 'classifier__batch_size': 128, 'classifier__activation': 'sigmoid'}\"],[\"SLD\",\"{'classifier__n_features': (512,), 'classifier__lr_init': 0.001, 'classifier__batch_size': 128, 'classifier__activation': 'relu'}\"],[\"SLD\",\"{'classifier__n_features': (256,), 'classifier__lr_init': 0.1, 'classifier__batch_size': 128, 'classifier__activation': 'tanh'}\"],[\"SLD\",\"{'classifier__n_features': (256,), 'classifier__lr_init': 0.1, 'classifier__batch_size': 128, 'classifier__activation': 'sigmoid'}\"],[\"SLD\",\"{'classifier__n_features': (256,), 'classifier__lr_init': 0.1, 'classifier__batch_size': 128, 'classifier__activation': 'relu'}\"],[\"SLD\",\"{'classifier__n_features': (256,), 'classifier__lr_init': 0.01, 'classifier__batch_size': 128, 'classifier__activation': 'tanh'}\"],[\"SLD\",\"{'classifier__n_features': (256,), 'classifier__lr_init': 0.01, 'classifier__batch_size': 128, 'classifier__activation': 'sigmoid'}\"],[\"SLD\",\"{'classifier__n_features': (256,), 'classifier__lr_init': 0.01, 'classifier__batch_size': 128, 'classifier__activation': 'relu'}\"],[\"SLD\",\"{'classifier__n_features': (256,), 'classifier__lr_init': 0.001, 'classifier__batch_size': 128, 'classifier__activation': 'tanh'}\"],[\"SLD\",\"{'classifier__n_features': (256,), 'classifier__lr_init': 0.001, 'classifier__batch_size': 128, 'classifier__activation': 'sigmoid'}\"],[\"SLD\",\"{'classifier__n_features': (256,), 'classifier__lr_init': 0.001, 'classifier__batch_size': 128, 'classifier__activation': 'relu'}\"],[\"SLD\",\"{'classifier__n_features': (128,), 'classifier__lr_init': 0.1, 'classifier__batch_size': 128, 'classifier__activation': 'tanh'}\"],[\"SLD\",\"{'classifier__n_features': (128,), 'classifier__lr_init': 0.1, 'classifier__batch_size': 128, 'classifier__activation': 'sigmoid'}\"],[\"SLD\",\"{'classifier__n_features': (128,), 'classifier__lr_init': 0.1, 'classifier__batch_size': 128, 'classifier__activation': 'relu'}\"],[\"SLD\",\"{'classifier__n_features': (128,), 'classifier__lr_init': 0.01, 'classifier__batch_size': 128, 'classifier__activation': 'tanh'}\"],[\"SLD\",\"{'classifier__n_features': (128,), 'classifier__lr_init': 0.01, 'classifier__batch_size': 128, 'classifier__activation': 'sigmoid'}\"],[\"SLD\",\"{'classifier__n_features': (128,), 'classifier__lr_init': 0.01, 'classifier__batch_size': 128, 'classifier__activation': 'relu'}\"],[\"SLD\",\"{'classifier__n_features': (128,), 'classifier__lr_init': 0.001, 'classifier__batch_size': 128, 'classifier__activation': 'tanh'}\"],[\"SLD\",\"{'classifier__n_features': (128,), 'classifier__lr_init': 0.001, 'classifier__batch_size': 128, 'classifier__activation': 'sigmoid'}\"],[\"SLD\",\"{'classifier__n_features': (128,), 'classifier__lr_init': 0.001, 'classifier__batch_size': 128, 'classifier__activation': 'relu'}\"]],\"hovertemplate\":\"data=lequa2024_val\\u003cbr\\u003emean_probability_uniformness_ratio_score=%{x}\\u003cbr\\u003emrae=%{y}\\u003cbr\\u003emethod=%{customdata[0]}\\u003cbr\\u003eparams=%{customdata[1]}\\u003cextra\\u003e\\u003c\\u002fextra\\u003e\",\"legendgroup\":\"lequa2024_val\",\"marker\":{\"color\":\"#636efa\",\"symbol\":\"circle\"},\"mode\":\"markers\",\"name\":\"lequa2024_val\",\"orientation\":\"v\",\"showlegend\":true,\"x\":[32.90241619380372,5.528223635220176,4.770634550746576,1.9980436145268223,1.4824478419904876,1.023891409854763,1.5909549362415656,3.2183896753870025,1.518450743690791,20.607954748868483,19.774486945482277,4.773793773573179,3.369240673545575,1.6453822396580002,0.9794330637548968,2.403235419053176,2.943770767983082,1.6789179314374785,16.35464297086099,10.28650390476377,4.770583190039122,0.9892671145984684,1.466574528354971,1.2105565001072969,2.279675479666488,3.4066301445459217,2.212886992190908,32.91219295669206,10.554275448185235,4.770702879560431,0.9744004626939744,1.5661179173910933,1.1840762099599187,2.395542024724094,3.5771617178897364,2.3029936357533414,31.75316176314925,14.804111840015604,4.770653507866384,1.488273504931009,1.6858611410001336,1.1434881774259944,2.6125020240204995,3.5853869919212302,2.189923830917382],\"xaxis\":\"x\",\"y\":[6.118378671079703,4.041839560202254,4.840789864467295,2.352702042335822,1.5995302041666235,1.835419421451784,1.44124820665281,2.988018725754203,1.4399632121415409,5.568824327991835,5.342817328251311,4.837469412345454,3.2105323532970145,1.6225825878153266,1.662017461290362,1.7101394372506662,3.299704739293348,1.5334986844549083,5.199495983490349,4.896313566601315,4.840791104629114,1.4107302910485706,1.4411630764198362,1.5893243900337068,1.6612973704337133,1.994646457784548,1.6679649577336009,6.119792162199798,4.827875725076703,4.840790076881444,1.386951982305145,1.449270919870371,1.4739051426896612,1.7196890128550504,2.163518181045237,1.7097278527271798,5.54664413255553,5.6379611514617975,4.840782116018477,1.5305184831459058,1.4740094507885693,1.448366114666685,1.7589812927147477,2.196546121052258,1.7002188433139422],\"yaxis\":\"y\",\"type\":\"scatter\"}],                        {\"template\":{\"data\":{\"histogram2dcontour\":[{\"type\":\"histogram2dcontour\",\"colorbar\":{\"outlinewidth\":0,\"ticks\":\"\"},\"colorscale\":[[0.0,\"#0d0887\"],[0.1111111111111111,\"#46039f\"],[0.2222222222222222,\"#7201a8\"],[0.3333333333333333,\"#9c179e\"],[0.4444444444444444,\"#bd3786\"],[0.5555555555555556,\"#d8576b\"],[0.6666666666666666,\"#ed7953\"],[0.7777777777777778,\"#fb9f3a\"],[0.8888888888888888,\"#fdca26\"],[1.0,\"#f0f921\"]]}],\"choropleth\":[{\"type\":\"choropleth\",\"colorbar\":{\"outlinewidth\":0,\"ticks\":\"\"}}],\"histogram2d\":[{\"type\":\"histogram2d\",\"colorbar\":{\"outlinewidth\":0,\"ticks\":\"\"},\"colorscale\":[[0.0,\"#0d0887\"],[0.1111111111111111,\"#46039f\"],[0.2222222222222222,\"#7201a8\"],[0.3333333333333333,\"#9c179e\"],[0.4444444444444444,\"#bd3786\"],[0.5555555555555556,\"#d8576b\"],[0.6666666666666666,\"#ed7953\"],[0.7777777777777778,\"#fb9f3a\"],[0.8888888888888888,\"#fdca26\"],[1.0,\"#f0f921\"]]}],\"heatmap\":[{\"type\":\"heatmap\",\"colorbar\":{\"outlinewidth\":0,\"ticks\":\"\"},\"colorscale\":[[0.0,\"#0d0887\"],[0.1111111111111111,\"#46039f\"],[0.2222222222222222,\"#7201a8\"],[0.3333333333333333,\"#9c179e\"],[0.4444444444444444,\"#bd3786\"],[0.5555555555555556,\"#d8576b\"],[0.6666666666666666,\"#ed7953\"],[0.7777777777777778,\"#fb9f3a\"],[0.8888888888888888,\"#fdca26\"],[1.0,\"#f0f921\"]]}],\"heatmapgl\":[{\"type\":\"heatmapgl\",\"colorbar\":{\"outlinewidth\":0,\"ticks\":\"\"},\"colorscale\":[[0.0,\"#0d0887\"],[0.1111111111111111,\"#46039f\"],[0.2222222222222222,\"#7201a8\"],[0.3333333333333333,\"#9c179e\"],[0.4444444444444444,\"#bd3786\"],[0.5555555555555556,\"#d8576b\"],[0.6666666666666666,\"#ed7953\"],[0.7777777777777778,\"#fb9f3a\"],[0.8888888888888888,\"#fdca26\"],[1.0,\"#f0f921\"]]}],\"contourcarpet\":[{\"type\":\"contourcarpet\",\"colorbar\":{\"outlinewidth\":0,\"ticks\":\"\"}}],\"contour\":[{\"type\":\"contour\",\"colorbar\":{\"outlinewidth\":0,\"ticks\":\"\"},\"colorscale\":[[0.0,\"#0d0887\"],[0.1111111111111111,\"#46039f\"],[0.2222222222222222,\"#7201a8\"],[0.3333333333333333,\"#9c179e\"],[0.4444444444444444,\"#bd3786\"],[0.5555555555555556,\"#d8576b\"],[0.6666666666666666,\"#ed7953\"],[0.7777777777777778,\"#fb9f3a\"],[0.8888888888888888,\"#fdca26\"],[1.0,\"#f0f921\"]]}],\"surface\":[{\"type\":\"surface\",\"colorbar\":{\"outlinewidth\":0,\"ticks\":\"\"},\"colorscale\":[[0.0,\"#0d0887\"],[0.1111111111111111,\"#46039f\"],[0.2222222222222222,\"#7201a8\"],[0.3333333333333333,\"#9c179e\"],[0.4444444444444444,\"#bd3786\"],[0.5555555555555556,\"#d8576b\"],[0.6666666666666666,\"#ed7953\"],[0.7777777777777778,\"#fb9f3a\"],[0.8888888888888888,\"#fdca26\"],[1.0,\"#f0f921\"]]}],\"mesh3d\":[{\"type\":\"mesh3d\",\"colorbar\":{\"outlinewidth\":0,\"ticks\":\"\"}}],\"scatter\":[{\"fillpattern\":{\"fillmode\":\"overlay\",\"size\":10,\"solidity\":0.2},\"type\":\"scatter\"}],\"parcoords\":[{\"type\":\"parcoords\",\"line\":{\"colorbar\":{\"outlinewidth\":0,\"ticks\":\"\"}}}],\"scatterpolargl\":[{\"type\":\"scatterpolargl\",\"marker\":{\"colorbar\":{\"outlinewidth\":0,\"ticks\":\"\"}}}],\"bar\":[{\"error_x\":{\"color\":\"#2a3f5f\"},\"error_y\":{\"color\":\"#2a3f5f\"},\"marker\":{\"line\":{\"color\":\"#E5ECF6\",\"width\":0.5},\"pattern\":{\"fillmode\":\"overlay\",\"size\":10,\"solidity\":0.2}},\"type\":\"bar\"}],\"scattergeo\":[{\"type\":\"scattergeo\",\"marker\":{\"colorbar\":{\"outlinewidth\":0,\"ticks\":\"\"}}}],\"scatterpolar\":[{\"type\":\"scatterpolar\",\"marker\":{\"colorbar\":{\"outlinewidth\":0,\"ticks\":\"\"}}}],\"histogram\":[{\"marker\":{\"pattern\":{\"fillmode\":\"overlay\",\"size\":10,\"solidity\":0.2}},\"type\":\"histogram\"}],\"scattergl\":[{\"type\":\"scattergl\",\"marker\":{\"colorbar\":{\"outlinewidth\":0,\"ticks\":\"\"}}}],\"scatter3d\":[{\"type\":\"scatter3d\",\"line\":{\"colorbar\":{\"outlinewidth\":0,\"ticks\":\"\"}},\"marker\":{\"colorbar\":{\"outlinewidth\":0,\"ticks\":\"\"}}}],\"scattermapbox\":[{\"type\":\"scattermapbox\",\"marker\":{\"colorbar\":{\"outlinewidth\":0,\"ticks\":\"\"}}}],\"scatterternary\":[{\"type\":\"scatterternary\",\"marker\":{\"colorbar\":{\"outlinewidth\":0,\"ticks\":\"\"}}}],\"scattercarpet\":[{\"type\":\"scattercarpet\",\"marker\":{\"colorbar\":{\"outlinewidth\":0,\"ticks\":\"\"}}}],\"carpet\":[{\"aaxis\":{\"endlinecolor\":\"#2a3f5f\",\"gridcolor\":\"white\",\"linecolor\":\"white\",\"minorgridcolor\":\"white\",\"startlinecolor\":\"#2a3f5f\"},\"baxis\":{\"endlinecolor\":\"#2a3f5f\",\"gridcolor\":\"white\",\"linecolor\":\"white\",\"minorgridcolor\":\"white\",\"startlinecolor\":\"#2a3f5f\"},\"type\":\"carpet\"}],\"table\":[{\"cells\":{\"fill\":{\"color\":\"#EBF0F8\"},\"line\":{\"color\":\"white\"}},\"header\":{\"fill\":{\"color\":\"#C8D4E3\"},\"line\":{\"color\":\"white\"}},\"type\":\"table\"}],\"barpolar\":[{\"marker\":{\"line\":{\"color\":\"#E5ECF6\",\"width\":0.5},\"pattern\":{\"fillmode\":\"overlay\",\"size\":10,\"solidity\":0.2}},\"type\":\"barpolar\"}],\"pie\":[{\"automargin\":true,\"type\":\"pie\"}]},\"layout\":{\"autotypenumbers\":\"strict\",\"colorway\":[\"#636efa\",\"#EF553B\",\"#00cc96\",\"#ab63fa\",\"#FFA15A\",\"#19d3f3\",\"#FF6692\",\"#B6E880\",\"#FF97FF\",\"#FECB52\"],\"font\":{\"color\":\"#2a3f5f\"},\"hovermode\":\"closest\",\"hoverlabel\":{\"align\":\"left\"},\"paper_bgcolor\":\"white\",\"plot_bgcolor\":\"#E5ECF6\",\"polar\":{\"bgcolor\":\"#E5ECF6\",\"angularaxis\":{\"gridcolor\":\"white\",\"linecolor\":\"white\",\"ticks\":\"\"},\"radialaxis\":{\"gridcolor\":\"white\",\"linecolor\":\"white\",\"ticks\":\"\"}},\"ternary\":{\"bgcolor\":\"#E5ECF6\",\"aaxis\":{\"gridcolor\":\"white\",\"linecolor\":\"white\",\"ticks\":\"\"},\"baxis\":{\"gridcolor\":\"white\",\"linecolor\":\"white\",\"ticks\":\"\"},\"caxis\":{\"gridcolor\":\"white\",\"linecolor\":\"white\",\"ticks\":\"\"}},\"coloraxis\":{\"colorbar\":{\"outlinewidth\":0,\"ticks\":\"\"}},\"colorscale\":{\"sequential\":[[0.0,\"#0d0887\"],[0.1111111111111111,\"#46039f\"],[0.2222222222222222,\"#7201a8\"],[0.3333333333333333,\"#9c179e\"],[0.4444444444444444,\"#bd3786\"],[0.5555555555555556,\"#d8576b\"],[0.6666666666666666,\"#ed7953\"],[0.7777777777777778,\"#fb9f3a\"],[0.8888888888888888,\"#fdca26\"],[1.0,\"#f0f921\"]],\"sequentialminus\":[[0.0,\"#0d0887\"],[0.1111111111111111,\"#46039f\"],[0.2222222222222222,\"#7201a8\"],[0.3333333333333333,\"#9c179e\"],[0.4444444444444444,\"#bd3786\"],[0.5555555555555556,\"#d8576b\"],[0.6666666666666666,\"#ed7953\"],[0.7777777777777778,\"#fb9f3a\"],[0.8888888888888888,\"#fdca26\"],[1.0,\"#f0f921\"]],\"diverging\":[[0,\"#8e0152\"],[0.1,\"#c51b7d\"],[0.2,\"#de77ae\"],[0.3,\"#f1b6da\"],[0.4,\"#fde0ef\"],[0.5,\"#f7f7f7\"],[0.6,\"#e6f5d0\"],[0.7,\"#b8e186\"],[0.8,\"#7fbc41\"],[0.9,\"#4d9221\"],[1,\"#276419\"]]},\"xaxis\":{\"gridcolor\":\"white\",\"linecolor\":\"white\",\"ticks\":\"\",\"title\":{\"standoff\":15},\"zerolinecolor\":\"white\",\"automargin\":true,\"zerolinewidth\":2},\"yaxis\":{\"gridcolor\":\"white\",\"linecolor\":\"white\",\"ticks\":\"\",\"title\":{\"standoff\":15},\"zerolinecolor\":\"white\",\"automargin\":true,\"zerolinewidth\":2},\"scene\":{\"xaxis\":{\"backgroundcolor\":\"#E5ECF6\",\"gridcolor\":\"white\",\"linecolor\":\"white\",\"showbackground\":true,\"ticks\":\"\",\"zerolinecolor\":\"white\",\"gridwidth\":2},\"yaxis\":{\"backgroundcolor\":\"#E5ECF6\",\"gridcolor\":\"white\",\"linecolor\":\"white\",\"showbackground\":true,\"ticks\":\"\",\"zerolinecolor\":\"white\",\"gridwidth\":2},\"zaxis\":{\"backgroundcolor\":\"#E5ECF6\",\"gridcolor\":\"white\",\"linecolor\":\"white\",\"showbackground\":true,\"ticks\":\"\",\"zerolinecolor\":\"white\",\"gridwidth\":2}},\"shapedefaults\":{\"line\":{\"color\":\"#2a3f5f\"}},\"annotationdefaults\":{\"arrowcolor\":\"#2a3f5f\",\"arrowhead\":0,\"arrowwidth\":1},\"geo\":{\"bgcolor\":\"white\",\"landcolor\":\"#E5ECF6\",\"subunitcolor\":\"white\",\"showland\":true,\"showlakes\":true,\"lakecolor\":\"white\"},\"title\":{\"x\":0.05},\"mapbox\":{\"style\":\"light\"}}},\"xaxis\":{\"anchor\":\"y\",\"domain\":[0.0,1.0],\"title\":{\"text\":\"mean_probability_uniformness_ratio_score\"},\"type\":\"log\"},\"yaxis\":{\"anchor\":\"x\",\"domain\":[0.0,1.0],\"title\":{\"text\":\"mrae\"},\"type\":\"log\"},\"legend\":{\"title\":{\"text\":\"data\"},\"tracegroupgap\":0},\"margin\":{\"t\":60}},                        {\"responsive\": true}                    ).then(function(){\n",
       "                            \n",
       "var gd = document.getElementById('3e4072d4-5485-46a2-adec-1e357610df92');\n",
       "var x = new MutationObserver(function (mutations, observer) {{\n",
       "        var display = window.getComputedStyle(gd).display;\n",
       "        if (!display || display === 'none') {{\n",
       "            console.log([gd, 'removed!']);\n",
       "            Plotly.purge(gd);\n",
       "            observer.disconnect();\n",
       "        }}\n",
       "}});\n",
       "\n",
       "// Listen for the removal of the full notebook cells\n",
       "var notebookContainer = gd.closest('#notebook-container');\n",
       "if (notebookContainer) {{\n",
       "    x.observe(notebookContainer, {childList: true});\n",
       "}}\n",
       "\n",
       "// Listen for the clearing of the current output cell\n",
       "var outputEl = gd.closest('.output');\n",
       "if (outputEl) {{\n",
       "    x.observe(outputEl, {childList: true});\n",
       "}}\n",
       "\n",
       "                        })                };                });            </script>        </div>"
      ]
     },
     "metadata": {},
     "output_type": "display_data"
    }
   ],
   "source": [
    "def plot_neural(val_path):\n",
    "    df = pd.read_csv(val_path, index_col=0) # read the results\n",
    "    display(df[[\"data\", \"method\", \"params\", \"mrae\"]].sort_values(\"mrae\"))\n",
    "    # display(df)\n",
    "    fig = px.scatter(\n",
    "        df,\n",
    "        x = \"mean_probability_uniformness_ratio_score\",\n",
    "        y = \"mrae\",\n",
    "        color = \"data\",\n",
    "        hover_data = [\"method\", \"params\"],\n",
    "        log_x = True,\n",
    "        log_y = True,\n",
    "    )\n",
    "    fig.show()\n",
    "\n",
    "plot_neural(\"results/val_lequa2022_01.csv\")"
   ]
  },
  {
   "cell_type": "code",
   "execution_count": 92,
   "id": "326df080-9654-4e2d-84a4-fe1a8e2d9418",
   "metadata": {},
   "outputs": [
    {
     "data": {
      "text/plain": [
       "loss_trn                                                                                                                            0.722895\n",
       "loss_val                                                                                                                            0.899342\n",
       "acc_val                                                                                                                                0.735\n",
       "time                                                                                                                               35.452909\n",
       "params      {'classifier__n_features': (256,), 'classifier__lr_init': 0.01, 'classifier__batch_size': 128, 'classifier__activation': 'tanh'}\n",
       "method                                                                                                                                   SLD\n",
       "data                                                                                                                           lequa2024_val\n",
       "Name: 500, dtype: object"
      ]
     },
     "metadata": {},
     "output_type": "display_data"
    },
    {
     "data": {
      "application/vnd.plotly.v1+json": {
       "config": {
        "plotlyServerURL": "https://plot.ly"
       },
       "data": [
        {
         "hovertemplate": "type=loss_trn<br>epoch=%{x}<br>error=%{y}<extra></extra>",
         "legendgroup": "loss_trn",
         "marker": {
          "color": "#636efa",
          "symbol": "circle"
         },
         "mode": "markers",
         "name": "loss_trn",
         "orientation": "v",
         "showlegend": true,
         "type": "scatter",
         "x": [
          10,
          20,
          30,
          40,
          50,
          60,
          70,
          80,
          90,
          100,
          110,
          120,
          130,
          140,
          150,
          160,
          170,
          180,
          190,
          200,
          210,
          220,
          230,
          240,
          250,
          260,
          270,
          280,
          290,
          300,
          310,
          320,
          330,
          340,
          350,
          360,
          370,
          380,
          390,
          400,
          410,
          420,
          430,
          440,
          450,
          460,
          470,
          480,
          490,
          500
         ],
         "xaxis": "x",
         "y": [
          1.2958366,
          1.1350435,
          1.0907166,
          1.0486084,
          1.0439116,
          1.0004536,
          0.9746683,
          0.97087204,
          0.9462346,
          0.9498038,
          0.8767207,
          0.88172346,
          0.8666919,
          0.8547833,
          0.8493388,
          0.8532994,
          0.8372576,
          0.8390335,
          0.83858687,
          0.8300562,
          0.793876,
          0.788847,
          0.7842498,
          0.7835326,
          0.78966296,
          0.78428745,
          0.775651,
          0.7766197,
          0.7706459,
          0.77571434,
          0.7534211,
          0.75153565,
          0.7507225,
          0.7471662,
          0.745058,
          0.7470611,
          0.74150205,
          0.7396697,
          0.74005455,
          0.7411565,
          0.7295043,
          0.7282747,
          0.7273533,
          0.7275116,
          0.72353905,
          0.7235069,
          0.7246391,
          0.7236473,
          0.72201395,
          0.7228954
         ],
         "yaxis": "y"
        },
        {
         "hovertemplate": "type=loss_val<br>epoch=%{x}<br>error=%{y}<extra></extra>",
         "legendgroup": "loss_val",
         "marker": {
          "color": "#EF553B",
          "symbol": "circle"
         },
         "mode": "markers",
         "name": "loss_val",
         "orientation": "v",
         "showlegend": true,
         "type": "scatter",
         "x": [
          10,
          20,
          30,
          40,
          50,
          60,
          70,
          80,
          90,
          100,
          110,
          120,
          130,
          140,
          150,
          160,
          170,
          180,
          190,
          200,
          210,
          220,
          230,
          240,
          250,
          260,
          270,
          280,
          290,
          300,
          310,
          320,
          330,
          340,
          350,
          360,
          370,
          380,
          390,
          400,
          410,
          420,
          430,
          440,
          450,
          460,
          470,
          480,
          490,
          500
         ],
         "xaxis": "x",
         "y": [
          1.277448,
          1.0888205,
          1.1412652,
          1.0793542,
          1.0300069,
          1.0647746,
          1.0797336,
          1.0351233,
          1.018255,
          1.0394036,
          0.9505954,
          0.9829964,
          0.9759376,
          0.9534191,
          0.9336841,
          0.92347676,
          0.9605946,
          0.9786262,
          0.93618584,
          0.9620096,
          0.9298172,
          0.9442479,
          0.9233645,
          0.91865855,
          0.9171124,
          0.91979975,
          0.910164,
          0.90782046,
          0.9356868,
          0.91251755,
          0.9011793,
          0.89704925,
          0.9144258,
          0.9101762,
          0.8967025,
          0.8979018,
          0.90051776,
          0.9135595,
          0.8962169,
          0.9027766,
          0.89745057,
          0.8981919,
          0.8991558,
          0.89583534,
          0.8998307,
          0.8981587,
          0.8984301,
          0.9035909,
          0.89655244,
          0.8993417
         ],
         "yaxis": "y"
        }
       ],
       "layout": {
        "autosize": true,
        "legend": {
         "title": {
          "text": "type"
         },
         "tracegroupgap": 0
        },
        "margin": {
         "t": 60
        },
        "template": {
         "data": {
          "bar": [
           {
            "error_x": {
             "color": "#2a3f5f"
            },
            "error_y": {
             "color": "#2a3f5f"
            },
            "marker": {
             "line": {
              "color": "#E5ECF6",
              "width": 0.5
             },
             "pattern": {
              "fillmode": "overlay",
              "size": 10,
              "solidity": 0.2
             }
            },
            "type": "bar"
           }
          ],
          "barpolar": [
           {
            "marker": {
             "line": {
              "color": "#E5ECF6",
              "width": 0.5
             },
             "pattern": {
              "fillmode": "overlay",
              "size": 10,
              "solidity": 0.2
             }
            },
            "type": "barpolar"
           }
          ],
          "carpet": [
           {
            "aaxis": {
             "endlinecolor": "#2a3f5f",
             "gridcolor": "white",
             "linecolor": "white",
             "minorgridcolor": "white",
             "startlinecolor": "#2a3f5f"
            },
            "baxis": {
             "endlinecolor": "#2a3f5f",
             "gridcolor": "white",
             "linecolor": "white",
             "minorgridcolor": "white",
             "startlinecolor": "#2a3f5f"
            },
            "type": "carpet"
           }
          ],
          "choropleth": [
           {
            "colorbar": {
             "outlinewidth": 0,
             "ticks": ""
            },
            "type": "choropleth"
           }
          ],
          "contour": [
           {
            "colorbar": {
             "outlinewidth": 0,
             "ticks": ""
            },
            "colorscale": [
             [
              0,
              "#0d0887"
             ],
             [
              0.1111111111111111,
              "#46039f"
             ],
             [
              0.2222222222222222,
              "#7201a8"
             ],
             [
              0.3333333333333333,
              "#9c179e"
             ],
             [
              0.4444444444444444,
              "#bd3786"
             ],
             [
              0.5555555555555556,
              "#d8576b"
             ],
             [
              0.6666666666666666,
              "#ed7953"
             ],
             [
              0.7777777777777778,
              "#fb9f3a"
             ],
             [
              0.8888888888888888,
              "#fdca26"
             ],
             [
              1,
              "#f0f921"
             ]
            ],
            "type": "contour"
           }
          ],
          "contourcarpet": [
           {
            "colorbar": {
             "outlinewidth": 0,
             "ticks": ""
            },
            "type": "contourcarpet"
           }
          ],
          "heatmap": [
           {
            "colorbar": {
             "outlinewidth": 0,
             "ticks": ""
            },
            "colorscale": [
             [
              0,
              "#0d0887"
             ],
             [
              0.1111111111111111,
              "#46039f"
             ],
             [
              0.2222222222222222,
              "#7201a8"
             ],
             [
              0.3333333333333333,
              "#9c179e"
             ],
             [
              0.4444444444444444,
              "#bd3786"
             ],
             [
              0.5555555555555556,
              "#d8576b"
             ],
             [
              0.6666666666666666,
              "#ed7953"
             ],
             [
              0.7777777777777778,
              "#fb9f3a"
             ],
             [
              0.8888888888888888,
              "#fdca26"
             ],
             [
              1,
              "#f0f921"
             ]
            ],
            "type": "heatmap"
           }
          ],
          "heatmapgl": [
           {
            "colorbar": {
             "outlinewidth": 0,
             "ticks": ""
            },
            "colorscale": [
             [
              0,
              "#0d0887"
             ],
             [
              0.1111111111111111,
              "#46039f"
             ],
             [
              0.2222222222222222,
              "#7201a8"
             ],
             [
              0.3333333333333333,
              "#9c179e"
             ],
             [
              0.4444444444444444,
              "#bd3786"
             ],
             [
              0.5555555555555556,
              "#d8576b"
             ],
             [
              0.6666666666666666,
              "#ed7953"
             ],
             [
              0.7777777777777778,
              "#fb9f3a"
             ],
             [
              0.8888888888888888,
              "#fdca26"
             ],
             [
              1,
              "#f0f921"
             ]
            ],
            "type": "heatmapgl"
           }
          ],
          "histogram": [
           {
            "marker": {
             "pattern": {
              "fillmode": "overlay",
              "size": 10,
              "solidity": 0.2
             }
            },
            "type": "histogram"
           }
          ],
          "histogram2d": [
           {
            "colorbar": {
             "outlinewidth": 0,
             "ticks": ""
            },
            "colorscale": [
             [
              0,
              "#0d0887"
             ],
             [
              0.1111111111111111,
              "#46039f"
             ],
             [
              0.2222222222222222,
              "#7201a8"
             ],
             [
              0.3333333333333333,
              "#9c179e"
             ],
             [
              0.4444444444444444,
              "#bd3786"
             ],
             [
              0.5555555555555556,
              "#d8576b"
             ],
             [
              0.6666666666666666,
              "#ed7953"
             ],
             [
              0.7777777777777778,
              "#fb9f3a"
             ],
             [
              0.8888888888888888,
              "#fdca26"
             ],
             [
              1,
              "#f0f921"
             ]
            ],
            "type": "histogram2d"
           }
          ],
          "histogram2dcontour": [
           {
            "colorbar": {
             "outlinewidth": 0,
             "ticks": ""
            },
            "colorscale": [
             [
              0,
              "#0d0887"
             ],
             [
              0.1111111111111111,
              "#46039f"
             ],
             [
              0.2222222222222222,
              "#7201a8"
             ],
             [
              0.3333333333333333,
              "#9c179e"
             ],
             [
              0.4444444444444444,
              "#bd3786"
             ],
             [
              0.5555555555555556,
              "#d8576b"
             ],
             [
              0.6666666666666666,
              "#ed7953"
             ],
             [
              0.7777777777777778,
              "#fb9f3a"
             ],
             [
              0.8888888888888888,
              "#fdca26"
             ],
             [
              1,
              "#f0f921"
             ]
            ],
            "type": "histogram2dcontour"
           }
          ],
          "mesh3d": [
           {
            "colorbar": {
             "outlinewidth": 0,
             "ticks": ""
            },
            "type": "mesh3d"
           }
          ],
          "parcoords": [
           {
            "line": {
             "colorbar": {
              "outlinewidth": 0,
              "ticks": ""
             }
            },
            "type": "parcoords"
           }
          ],
          "pie": [
           {
            "automargin": true,
            "type": "pie"
           }
          ],
          "scatter": [
           {
            "fillpattern": {
             "fillmode": "overlay",
             "size": 10,
             "solidity": 0.2
            },
            "type": "scatter"
           }
          ],
          "scatter3d": [
           {
            "line": {
             "colorbar": {
              "outlinewidth": 0,
              "ticks": ""
             }
            },
            "marker": {
             "colorbar": {
              "outlinewidth": 0,
              "ticks": ""
             }
            },
            "type": "scatter3d"
           }
          ],
          "scattercarpet": [
           {
            "marker": {
             "colorbar": {
              "outlinewidth": 0,
              "ticks": ""
             }
            },
            "type": "scattercarpet"
           }
          ],
          "scattergeo": [
           {
            "marker": {
             "colorbar": {
              "outlinewidth": 0,
              "ticks": ""
             }
            },
            "type": "scattergeo"
           }
          ],
          "scattergl": [
           {
            "marker": {
             "colorbar": {
              "outlinewidth": 0,
              "ticks": ""
             }
            },
            "type": "scattergl"
           }
          ],
          "scattermapbox": [
           {
            "marker": {
             "colorbar": {
              "outlinewidth": 0,
              "ticks": ""
             }
            },
            "type": "scattermapbox"
           }
          ],
          "scatterpolar": [
           {
            "marker": {
             "colorbar": {
              "outlinewidth": 0,
              "ticks": ""
             }
            },
            "type": "scatterpolar"
           }
          ],
          "scatterpolargl": [
           {
            "marker": {
             "colorbar": {
              "outlinewidth": 0,
              "ticks": ""
             }
            },
            "type": "scatterpolargl"
           }
          ],
          "scatterternary": [
           {
            "marker": {
             "colorbar": {
              "outlinewidth": 0,
              "ticks": ""
             }
            },
            "type": "scatterternary"
           }
          ],
          "surface": [
           {
            "colorbar": {
             "outlinewidth": 0,
             "ticks": ""
            },
            "colorscale": [
             [
              0,
              "#0d0887"
             ],
             [
              0.1111111111111111,
              "#46039f"
             ],
             [
              0.2222222222222222,
              "#7201a8"
             ],
             [
              0.3333333333333333,
              "#9c179e"
             ],
             [
              0.4444444444444444,
              "#bd3786"
             ],
             [
              0.5555555555555556,
              "#d8576b"
             ],
             [
              0.6666666666666666,
              "#ed7953"
             ],
             [
              0.7777777777777778,
              "#fb9f3a"
             ],
             [
              0.8888888888888888,
              "#fdca26"
             ],
             [
              1,
              "#f0f921"
             ]
            ],
            "type": "surface"
           }
          ],
          "table": [
           {
            "cells": {
             "fill": {
              "color": "#EBF0F8"
             },
             "line": {
              "color": "white"
             }
            },
            "header": {
             "fill": {
              "color": "#C8D4E3"
             },
             "line": {
              "color": "white"
             }
            },
            "type": "table"
           }
          ]
         },
         "layout": {
          "annotationdefaults": {
           "arrowcolor": "#2a3f5f",
           "arrowhead": 0,
           "arrowwidth": 1
          },
          "autotypenumbers": "strict",
          "coloraxis": {
           "colorbar": {
            "outlinewidth": 0,
            "ticks": ""
           }
          },
          "colorscale": {
           "diverging": [
            [
             0,
             "#8e0152"
            ],
            [
             0.1,
             "#c51b7d"
            ],
            [
             0.2,
             "#de77ae"
            ],
            [
             0.3,
             "#f1b6da"
            ],
            [
             0.4,
             "#fde0ef"
            ],
            [
             0.5,
             "#f7f7f7"
            ],
            [
             0.6,
             "#e6f5d0"
            ],
            [
             0.7,
             "#b8e186"
            ],
            [
             0.8,
             "#7fbc41"
            ],
            [
             0.9,
             "#4d9221"
            ],
            [
             1,
             "#276419"
            ]
           ],
           "sequential": [
            [
             0,
             "#0d0887"
            ],
            [
             0.1111111111111111,
             "#46039f"
            ],
            [
             0.2222222222222222,
             "#7201a8"
            ],
            [
             0.3333333333333333,
             "#9c179e"
            ],
            [
             0.4444444444444444,
             "#bd3786"
            ],
            [
             0.5555555555555556,
             "#d8576b"
            ],
            [
             0.6666666666666666,
             "#ed7953"
            ],
            [
             0.7777777777777778,
             "#fb9f3a"
            ],
            [
             0.8888888888888888,
             "#fdca26"
            ],
            [
             1,
             "#f0f921"
            ]
           ],
           "sequentialminus": [
            [
             0,
             "#0d0887"
            ],
            [
             0.1111111111111111,
             "#46039f"
            ],
            [
             0.2222222222222222,
             "#7201a8"
            ],
            [
             0.3333333333333333,
             "#9c179e"
            ],
            [
             0.4444444444444444,
             "#bd3786"
            ],
            [
             0.5555555555555556,
             "#d8576b"
            ],
            [
             0.6666666666666666,
             "#ed7953"
            ],
            [
             0.7777777777777778,
             "#fb9f3a"
            ],
            [
             0.8888888888888888,
             "#fdca26"
            ],
            [
             1,
             "#f0f921"
            ]
           ]
          },
          "colorway": [
           "#636efa",
           "#EF553B",
           "#00cc96",
           "#ab63fa",
           "#FFA15A",
           "#19d3f3",
           "#FF6692",
           "#B6E880",
           "#FF97FF",
           "#FECB52"
          ],
          "font": {
           "color": "#2a3f5f"
          },
          "geo": {
           "bgcolor": "white",
           "lakecolor": "white",
           "landcolor": "#E5ECF6",
           "showlakes": true,
           "showland": true,
           "subunitcolor": "white"
          },
          "hoverlabel": {
           "align": "left"
          },
          "hovermode": "closest",
          "mapbox": {
           "style": "light"
          },
          "paper_bgcolor": "white",
          "plot_bgcolor": "#E5ECF6",
          "polar": {
           "angularaxis": {
            "gridcolor": "white",
            "linecolor": "white",
            "ticks": ""
           },
           "bgcolor": "#E5ECF6",
           "radialaxis": {
            "gridcolor": "white",
            "linecolor": "white",
            "ticks": ""
           }
          },
          "scene": {
           "xaxis": {
            "backgroundcolor": "#E5ECF6",
            "gridcolor": "white",
            "gridwidth": 2,
            "linecolor": "white",
            "showbackground": true,
            "ticks": "",
            "zerolinecolor": "white"
           },
           "yaxis": {
            "backgroundcolor": "#E5ECF6",
            "gridcolor": "white",
            "gridwidth": 2,
            "linecolor": "white",
            "showbackground": true,
            "ticks": "",
            "zerolinecolor": "white"
           },
           "zaxis": {
            "backgroundcolor": "#E5ECF6",
            "gridcolor": "white",
            "gridwidth": 2,
            "linecolor": "white",
            "showbackground": true,
            "ticks": "",
            "zerolinecolor": "white"
           }
          },
          "shapedefaults": {
           "line": {
            "color": "#2a3f5f"
           }
          },
          "ternary": {
           "aaxis": {
            "gridcolor": "white",
            "linecolor": "white",
            "ticks": ""
           },
           "baxis": {
            "gridcolor": "white",
            "linecolor": "white",
            "ticks": ""
           },
           "bgcolor": "#E5ECF6",
           "caxis": {
            "gridcolor": "white",
            "linecolor": "white",
            "ticks": ""
           }
          },
          "title": {
           "x": 0.05
          },
          "xaxis": {
           "automargin": true,
           "gridcolor": "white",
           "linecolor": "white",
           "ticks": "",
           "title": {
            "standoff": 15
           },
           "zerolinecolor": "white",
           "zerolinewidth": 2
          },
          "yaxis": {
           "automargin": true,
           "gridcolor": "white",
           "linecolor": "white",
           "ticks": "",
           "title": {
            "standoff": 15
           },
           "zerolinecolor": "white",
           "zerolinewidth": 2
          }
         }
        },
        "xaxis": {
         "anchor": "y",
         "autorange": true,
         "domain": [
          0,
          1
         ],
         "range": [
          -19.718757642455373,
          529.7187576424553
         ],
         "title": {
          "text": "epoch"
         },
         "type": "linear"
        },
        "yaxis": {
         "anchor": "x",
         "autorange": true,
         "domain": [
          0,
          1
         ],
         "range": [
          -0.16112143834095644,
          0.13221726910332876
         ],
         "title": {
          "text": "error"
         },
         "type": "log"
        }
       }
      },
      "image/png": "[encoded data removed]",
      "text/html": [
       "<div>                            <div id=\"f44402bd-d7bb-4dd6-b8f6-7fe9bcd3dbf1\" class=\"plotly-graph-div\" style=\"height:525px; width:100%;\"></div>            <script type=\"text/javascript\">                require([\"plotly\"], function(Plotly) {                    window.PLOTLYENV=window.PLOTLYENV || {};                                    if (document.getElementById(\"f44402bd-d7bb-4dd6-b8f6-7fe9bcd3dbf1\")) {                    Plotly.newPlot(                        \"f44402bd-d7bb-4dd6-b8f6-7fe9bcd3dbf1\",                        [{\"hovertemplate\":\"type=loss_trn\\u003cbr\\u003eepoch=%{x}\\u003cbr\\u003eerror=%{y}\\u003cextra\\u003e\\u003c\\u002fextra\\u003e\",\"legendgroup\":\"loss_trn\",\"marker\":{\"color\":\"#636efa\",\"symbol\":\"circle\"},\"mode\":\"markers\",\"name\":\"loss_trn\",\"orientation\":\"v\",\"showlegend\":true,\"x\":[10,20,30,40,50,60,70,80,90,100,110,120,130,140,150,160,170,180,190,200,210,220,230,240,250,260,270,280,290,300,310,320,330,340,350,360,370,380,390,400,410,420,430,440,450,460,470,480,490,500],\"xaxis\":\"x\",\"y\":[1.2958366,1.1350435,1.0907166,1.0486084,1.0439116,1.0004536,0.9746683,0.97087204,0.9462346,0.9498038,0.8767207,0.88172346,0.8666919,0.8547833,0.8493388,0.8532994,0.8372576,0.8390335,0.83858687,0.8300562,0.793876,0.788847,0.7842498,0.7835326,0.78966296,0.78428745,0.775651,0.7766197,0.7706459,0.77571434,0.7534211,0.75153565,0.7507225,0.7471662,0.745058,0.7470611,0.74150205,0.7396697,0.74005455,0.7411565,0.7295043,0.7282747,0.7273533,0.7275116,0.72353905,0.7235069,0.7246391,0.7236473,0.72201395,0.7228954],\"yaxis\":\"y\",\"type\":\"scatter\"},{\"hovertemplate\":\"type=loss_val\\u003cbr\\u003eepoch=%{x}\\u003cbr\\u003eerror=%{y}\\u003cextra\\u003e\\u003c\\u002fextra\\u003e\",\"legendgroup\":\"loss_val\",\"marker\":{\"color\":\"#EF553B\",\"symbol\":\"circle\"},\"mode\":\"markers\",\"name\":\"loss_val\",\"orientation\":\"v\",\"showlegend\":true,\"x\":[10,20,30,40,50,60,70,80,90,100,110,120,130,140,150,160,170,180,190,200,210,220,230,240,250,260,270,280,290,300,310,320,330,340,350,360,370,380,390,400,410,420,430,440,450,460,470,480,490,500],\"xaxis\":\"x\",\"y\":[1.277448,1.0888205,1.1412652,1.0793542,1.0300069,1.0647746,1.0797336,1.0351233,1.018255,1.0394036,0.9505954,0.9829964,0.9759376,0.9534191,0.9336841,0.92347676,0.9605946,0.9786262,0.93618584,0.9620096,0.9298172,0.9442479,0.9233645,0.91865855,0.9171124,0.91979975,0.910164,0.90782046,0.9356868,0.91251755,0.9011793,0.89704925,0.9144258,0.9101762,0.8967025,0.8979018,0.90051776,0.9135595,0.8962169,0.9027766,0.89745057,0.8981919,0.8991558,0.89583534,0.8998307,0.8981587,0.8984301,0.9035909,0.89655244,0.8993417],\"yaxis\":\"y\",\"type\":\"scatter\"}],                        {\"template\":{\"data\":{\"histogram2dcontour\":[{\"type\":\"histogram2dcontour\",\"colorbar\":{\"outlinewidth\":0,\"ticks\":\"\"},\"colorscale\":[[0.0,\"#0d0887\"],[0.1111111111111111,\"#46039f\"],[0.2222222222222222,\"#7201a8\"],[0.3333333333333333,\"#9c179e\"],[0.4444444444444444,\"#bd3786\"],[0.5555555555555556,\"#d8576b\"],[0.6666666666666666,\"#ed7953\"],[0.7777777777777778,\"#fb9f3a\"],[0.8888888888888888,\"#fdca26\"],[1.0,\"#f0f921\"]]}],\"choropleth\":[{\"type\":\"choropleth\",\"colorbar\":{\"outlinewidth\":0,\"ticks\":\"\"}}],\"histogram2d\":[{\"type\":\"histogram2d\",\"colorbar\":{\"outlinewidth\":0,\"ticks\":\"\"},\"colorscale\":[[0.0,\"#0d0887\"],[0.1111111111111111,\"#46039f\"],[0.2222222222222222,\"#7201a8\"],[0.3333333333333333,\"#9c179e\"],[0.4444444444444444,\"#bd3786\"],[0.5555555555555556,\"#d8576b\"],[0.6666666666666666,\"#ed7953\"],[0.7777777777777778,\"#fb9f3a\"],[0.8888888888888888,\"#fdca26\"],[1.0,\"#f0f921\"]]}],\"heatmap\":[{\"type\":\"heatmap\",\"colorbar\":{\"outlinewidth\":0,\"ticks\":\"\"},\"colorscale\":[[0.0,\"#0d0887\"],[0.1111111111111111,\"#46039f\"],[0.2222222222222222,\"#7201a8\"],[0.3333333333333333,\"#9c179e\"],[0.4444444444444444,\"#bd3786\"],[0.5555555555555556,\"#d8576b\"],[0.6666666666666666,\"#ed7953\"],[0.7777777777777778,\"#fb9f3a\"],[0.8888888888888888,\"#fdca26\"],[1.0,\"#f0f921\"]]}],\"heatmapgl\":[{\"type\":\"heatmapgl\",\"colorbar\":{\"outlinewidth\":0,\"ticks\":\"\"},\"colorscale\":[[0.0,\"#0d0887\"],[0.1111111111111111,\"#46039f\"],[0.2222222222222222,\"#7201a8\"],[0.3333333333333333,\"#9c179e\"],[0.4444444444444444,\"#bd3786\"],[0.5555555555555556,\"#d8576b\"],[0.6666666666666666,\"#ed7953\"],[0.7777777777777778,\"#fb9f3a\"],[0.8888888888888888,\"#fdca26\"],[1.0,\"#f0f921\"]]}],\"contourcarpet\":[{\"type\":\"contourcarpet\",\"colorbar\":{\"outlinewidth\":0,\"ticks\":\"\"}}],\"contour\":[{\"type\":\"contour\",\"colorbar\":{\"outlinewidth\":0,\"ticks\":\"\"},\"colorscale\":[[0.0,\"#0d0887\"],[0.1111111111111111,\"#46039f\"],[0.2222222222222222,\"#7201a8\"],[0.3333333333333333,\"#9c179e\"],[0.4444444444444444,\"#bd3786\"],[0.5555555555555556,\"#d8576b\"],[0.6666666666666666,\"#ed7953\"],[0.7777777777777778,\"#fb9f3a\"],[0.8888888888888888,\"#fdca26\"],[1.0,\"#f0f921\"]]}],\"surface\":[{\"type\":\"surface\",\"colorbar\":{\"outlinewidth\":0,\"ticks\":\"\"},\"colorscale\":[[0.0,\"#0d0887\"],[0.1111111111111111,\"#46039f\"],[0.2222222222222222,\"#7201a8\"],[0.3333333333333333,\"#9c179e\"],[0.4444444444444444,\"#bd3786\"],[0.5555555555555556,\"#d8576b\"],[0.6666666666666666,\"#ed7953\"],[0.7777777777777778,\"#fb9f3a\"],[0.8888888888888888,\"#fdca26\"],[1.0,\"#f0f921\"]]}],\"mesh3d\":[{\"type\":\"mesh3d\",\"colorbar\":{\"outlinewidth\":0,\"ticks\":\"\"}}],\"scatter\":[{\"fillpattern\":{\"fillmode\":\"overlay\",\"size\":10,\"solidity\":0.2},\"type\":\"scatter\"}],\"parcoords\":[{\"type\":\"parcoords\",\"line\":{\"colorbar\":{\"outlinewidth\":0,\"ticks\":\"\"}}}],\"scatterpolargl\":[{\"type\":\"scatterpolargl\",\"marker\":{\"colorbar\":{\"outlinewidth\":0,\"ticks\":\"\"}}}],\"bar\":[{\"error_x\":{\"color\":\"#2a3f5f\"},\"error_y\":{\"color\":\"#2a3f5f\"},\"marker\":{\"line\":{\"color\":\"#E5ECF6\",\"width\":0.5},\"pattern\":{\"fillmode\":\"overlay\",\"size\":10,\"solidity\":0.2}},\"type\":\"bar\"}],\"scattergeo\":[{\"type\":\"scattergeo\",\"marker\":{\"colorbar\":{\"outlinewidth\":0,\"ticks\":\"\"}}}],\"scatterpolar\":[{\"type\":\"scatterpolar\",\"marker\":{\"colorbar\":{\"outlinewidth\":0,\"ticks\":\"\"}}}],\"histogram\":[{\"marker\":{\"pattern\":{\"fillmode\":\"overlay\",\"size\":10,\"solidity\":0.2}},\"type\":\"histogram\"}],\"scattergl\":[{\"type\":\"scattergl\",\"marker\":{\"colorbar\":{\"outlinewidth\":0,\"ticks\":\"\"}}}],\"scatter3d\":[{\"type\":\"scatter3d\",\"line\":{\"colorbar\":{\"outlinewidth\":0,\"ticks\":\"\"}},\"marker\":{\"colorbar\":{\"outlinewidth\":0,\"ticks\":\"\"}}}],\"scattermapbox\":[{\"type\":\"scattermapbox\",\"marker\":{\"colorbar\":{\"outlinewidth\":0,\"ticks\":\"\"}}}],\"scatterternary\":[{\"type\":\"scatterternary\",\"marker\":{\"colorbar\":{\"outlinewidth\":0,\"ticks\":\"\"}}}],\"scattercarpet\":[{\"type\":\"scattercarpet\",\"marker\":{\"colorbar\":{\"outlinewidth\":0,\"ticks\":\"\"}}}],\"carpet\":[{\"aaxis\":{\"endlinecolor\":\"#2a3f5f\",\"gridcolor\":\"white\",\"linecolor\":\"white\",\"minorgridcolor\":\"white\",\"startlinecolor\":\"#2a3f5f\"},\"baxis\":{\"endlinecolor\":\"#2a3f5f\",\"gridcolor\":\"white\",\"linecolor\":\"white\",\"minorgridcolor\":\"white\",\"startlinecolor\":\"#2a3f5f\"},\"type\":\"carpet\"}],\"table\":[{\"cells\":{\"fill\":{\"color\":\"#EBF0F8\"},\"line\":{\"color\":\"white\"}},\"header\":{\"fill\":{\"color\":\"#C8D4E3\"},\"line\":{\"color\":\"white\"}},\"type\":\"table\"}],\"barpolar\":[{\"marker\":{\"line\":{\"color\":\"#E5ECF6\",\"width\":0.5},\"pattern\":{\"fillmode\":\"overlay\",\"size\":10,\"solidity\":0.2}},\"type\":\"barpolar\"}],\"pie\":[{\"automargin\":true,\"type\":\"pie\"}]},\"layout\":{\"autotypenumbers\":\"strict\",\"colorway\":[\"#636efa\",\"#EF553B\",\"#00cc96\",\"#ab63fa\",\"#FFA15A\",\"#19d3f3\",\"#FF6692\",\"#B6E880\",\"#FF97FF\",\"#FECB52\"],\"font\":{\"color\":\"#2a3f5f\"},\"hovermode\":\"closest\",\"hoverlabel\":{\"align\":\"left\"},\"paper_bgcolor\":\"white\",\"plot_bgcolor\":\"#E5ECF6\",\"polar\":{\"bgcolor\":\"#E5ECF6\",\"angularaxis\":{\"gridcolor\":\"white\",\"linecolor\":\"white\",\"ticks\":\"\"},\"radialaxis\":{\"gridcolor\":\"white\",\"linecolor\":\"white\",\"ticks\":\"\"}},\"ternary\":{\"bgcolor\":\"#E5ECF6\",\"aaxis\":{\"gridcolor\":\"white\",\"linecolor\":\"white\",\"ticks\":\"\"},\"baxis\":{\"gridcolor\":\"white\",\"linecolor\":\"white\",\"ticks\":\"\"},\"caxis\":{\"gridcolor\":\"white\",\"linecolor\":\"white\",\"ticks\":\"\"}},\"coloraxis\":{\"colorbar\":{\"outlinewidth\":0,\"ticks\":\"\"}},\"colorscale\":{\"sequential\":[[0.0,\"#0d0887\"],[0.1111111111111111,\"#46039f\"],[0.2222222222222222,\"#7201a8\"],[0.3333333333333333,\"#9c179e\"],[0.4444444444444444,\"#bd3786\"],[0.5555555555555556,\"#d8576b\"],[0.6666666666666666,\"#ed7953\"],[0.7777777777777778,\"#fb9f3a\"],[0.8888888888888888,\"#fdca26\"],[1.0,\"#f0f921\"]],\"sequentialminus\":[[0.0,\"#0d0887\"],[0.1111111111111111,\"#46039f\"],[0.2222222222222222,\"#7201a8\"],[0.3333333333333333,\"#9c179e\"],[0.4444444444444444,\"#bd3786\"],[0.5555555555555556,\"#d8576b\"],[0.6666666666666666,\"#ed7953\"],[0.7777777777777778,\"#fb9f3a\"],[0.8888888888888888,\"#fdca26\"],[1.0,\"#f0f921\"]],\"diverging\":[[0,\"#8e0152\"],[0.1,\"#c51b7d\"],[0.2,\"#de77ae\"],[0.3,\"#f1b6da\"],[0.4,\"#fde0ef\"],[0.5,\"#f7f7f7\"],[0.6,\"#e6f5d0\"],[0.7,\"#b8e186\"],[0.8,\"#7fbc41\"],[0.9,\"#4d9221\"],[1,\"#276419\"]]},\"xaxis\":{\"gridcolor\":\"white\",\"linecolor\":\"white\",\"ticks\":\"\",\"title\":{\"standoff\":15},\"zerolinecolor\":\"white\",\"automargin\":true,\"zerolinewidth\":2},\"yaxis\":{\"gridcolor\":\"white\",\"linecolor\":\"white\",\"ticks\":\"\",\"title\":{\"standoff\":15},\"zerolinecolor\":\"white\",\"automargin\":true,\"zerolinewidth\":2},\"scene\":{\"xaxis\":{\"backgroundcolor\":\"#E5ECF6\",\"gridcolor\":\"white\",\"linecolor\":\"white\",\"showbackground\":true,\"ticks\":\"\",\"zerolinecolor\":\"white\",\"gridwidth\":2},\"yaxis\":{\"backgroundcolor\":\"#E5ECF6\",\"gridcolor\":\"white\",\"linecolor\":\"white\",\"showbackground\":true,\"ticks\":\"\",\"zerolinecolor\":\"white\",\"gridwidth\":2},\"zaxis\":{\"backgroundcolor\":\"#E5ECF6\",\"gridcolor\":\"white\",\"linecolor\":\"white\",\"showbackground\":true,\"ticks\":\"\",\"zerolinecolor\":\"white\",\"gridwidth\":2}},\"shapedefaults\":{\"line\":{\"color\":\"#2a3f5f\"}},\"annotationdefaults\":{\"arrowcolor\":\"#2a3f5f\",\"arrowhead\":0,\"arrowwidth\":1},\"geo\":{\"bgcolor\":\"white\",\"landcolor\":\"#E5ECF6\",\"subunitcolor\":\"white\",\"showland\":true,\"showlakes\":true,\"lakecolor\":\"white\"},\"title\":{\"x\":0.05},\"mapbox\":{\"style\":\"light\"}}},\"xaxis\":{\"anchor\":\"y\",\"domain\":[0.0,1.0],\"title\":{\"text\":\"epoch\"}},\"yaxis\":{\"anchor\":\"x\",\"domain\":[0.0,1.0],\"title\":{\"text\":\"error\"},\"type\":\"log\"},\"legend\":{\"title\":{\"text\":\"type\"},\"tracegroupgap\":0},\"margin\":{\"t\":60}},                        {\"responsive\": true}                    ).then(function(){\n",
       "                            \n",
       "var gd = document.getElementById('f44402bd-d7bb-4dd6-b8f6-7fe9bcd3dbf1');\n",
       "var x = new MutationObserver(function (mutations, observer) {{\n",
       "        var display = window.getComputedStyle(gd).display;\n",
       "        if (!display || display === 'none') {{\n",
       "            console.log([gd, 'removed!']);\n",
       "            Plotly.purge(gd);\n",
       "            observer.disconnect();\n",
       "        }}\n",
       "}});\n",
       "\n",
       "// Listen for the removal of the full notebook cells\n",
       "var notebookContainer = gd.closest('#notebook-container');\n",
       "if (notebookContainer) {{\n",
       "    x.observe(notebookContainer, {childList: true});\n",
       "}}\n",
       "\n",
       "// Listen for the clearing of the current output cell\n",
       "var outputEl = gd.closest('.output');\n",
       "if (outputEl) {{\n",
       "    x.observe(outputEl, {childList: true});\n",
       "}}\n",
       "\n",
       "                        })                };                });            </script>        </div>"
      ]
     },
     "metadata": {},
     "output_type": "display_data"
    }
   ],
   "source": [
    "def plot_progress(trn_path, params):\n",
    "    df = pd.read_csv(trn_path, index_col=0) # read the results\n",
    "    df = df[df[\"params\"] == params].set_index(\"epoch\")\n",
    "    display(df.iloc[-1])\n",
    "    df = df[[\"loss_trn\", \"loss_val\"]].stack(future_stack=True) # actually a Series, not a df\n",
    "    df.index.rename({None: \"type\"}, inplace=True)\n",
    "    df = df.rename(\"error\").to_frame().reset_index(drop=False)\n",
    "    # display(df)\n",
    "    fig = px.scatter(\n",
    "        df,\n",
    "        x = \"epoch\",\n",
    "        y = \"error\",\n",
    "        color = \"type\",\n",
    "        log_y = True,\n",
    "    )\n",
    "    fig.show()\n",
    "\n",
    "plot_progress(\n",
    "    \"results/trn_lequa2022_01.csv\",\n",
    "    \"{'classifier__n_features': (256,), 'classifier__lr_init': 0.01, 'classifier__batch_size': 128, 'classifier__activation': 'tanh'}\"\n",
    ")"
   ]
  },
  {
   "cell_type": "code",
   "execution_count": 94,
   "id": "9981aa60-7711-477d-9050-1a8a2e1c0c8b",
   "metadata": {},
   "outputs": [
    {
     "data": {
      "text/html": [
       "<div>\n",
       "<style scoped>\n",
       "    .dataframe tbody tr th:only-of-type {\n",
       "        vertical-align: middle;\n",
       "    }\n",
       "\n",
       "    .dataframe tbody tr th {\n",
       "        vertical-align: top;\n",
       "    }\n",
       "\n",
       "    .dataframe thead th {\n",
       "        text-align: right;\n",
       "    }\n",
       "</style>\n",
       "<table border=\"1\" class=\"dataframe\">\n",
       "  <thead>\n",
       "    <tr style=\"text-align: right;\">\n",
       "      <th></th>\n",
       "      <th>data</th>\n",
       "      <th>method</th>\n",
       "      <th>params</th>\n",
       "      <th>mrae</th>\n",
       "    </tr>\n",
       "  </thead>\n",
       "  <tbody>\n",
       "    <tr>\n",
       "      <th>1</th>\n",
       "      <td>lequa2024_val</td>\n",
       "      <td>PACC</td>\n",
       "      <td>{'transformer__classifier__estimator__n_features': (512,), 'transformer__classifier__estimator__lr_init': 0.01, 'transformer__classifier__estimator__batch_size': 128, 'transformer__classifier__estimator__activation': 'tanh'}</td>\n",
       "      <td>1.293866</td>\n",
       "    </tr>\n",
       "    <tr>\n",
       "      <th>2</th>\n",
       "      <td>lequa2024_val</td>\n",
       "      <td>PACC</td>\n",
       "      <td>{'transformer__classifier__estimator__n_features': (256,), 'transformer__classifier__estimator__lr_init': 0.01, 'transformer__classifier__estimator__batch_size': 128, 'transformer__classifier__estimator__activation': 'tanh'}</td>\n",
       "      <td>1.316190</td>\n",
       "    </tr>\n",
       "    <tr>\n",
       "      <th>0</th>\n",
       "      <td>lequa2024_val</td>\n",
       "      <td>PACC</td>\n",
       "      <td>{'transformer__classifier__estimator__n_features': (256, 256), 'transformer__classifier__estimator__lr_init': 0.01, 'transformer__classifier__estimator__batch_size': 128, 'transformer__classifier__estimator__activation': 'tanh'}</td>\n",
       "      <td>1.362024</td>\n",
       "    </tr>\n",
       "    <tr>\n",
       "      <th>3</th>\n",
       "      <td>lequa2024_val</td>\n",
       "      <td>PACC</td>\n",
       "      <td>{'transformer__classifier__estimator__n_features': (128,), 'transformer__classifier__estimator__lr_init': 0.01, 'transformer__classifier__estimator__batch_size': 128, 'transformer__classifier__estimator__activation': 'tanh'}</td>\n",
       "      <td>1.461997</td>\n",
       "    </tr>\n",
       "  </tbody>\n",
       "</table>\n",
       "</div>"
      ],
      "text/plain": [
       "            data method                                                                                                                                                                                                                                params      mrae\n",
       "1  lequa2024_val   PACC      {'transformer__classifier__estimator__n_features': (512,), 'transformer__classifier__estimator__lr_init': 0.01, 'transformer__classifier__estimator__batch_size': 128, 'transformer__classifier__estimator__activation': 'tanh'}  1.293866\n",
       "2  lequa2024_val   PACC      {'transformer__classifier__estimator__n_features': (256,), 'transformer__classifier__estimator__lr_init': 0.01, 'transformer__classifier__estimator__batch_size': 128, 'transformer__classifier__estimator__activation': 'tanh'}  1.316190\n",
       "0  lequa2024_val   PACC  {'transformer__classifier__estimator__n_features': (256, 256), 'transformer__classifier__estimator__lr_init': 0.01, 'transformer__classifier__estimator__batch_size': 128, 'transformer__classifier__estimator__activation': 'tanh'}  1.362024\n",
       "3  lequa2024_val   PACC      {'transformer__classifier__estimator__n_features': (128,), 'transformer__classifier__estimator__lr_init': 0.01, 'transformer__classifier__estimator__batch_size': 128, 'transformer__classifier__estimator__activation': 'tanh'}  1.461997"
      ]
     },
     "metadata": {},
     "output_type": "display_data"
    },
    {
     "data": {
      "application/vnd.plotly.v1+json": {
       "config": {
        "plotlyServerURL": "https://plot.ly"
       },
       "data": [
        {
         "customdata": [
          [
           "PACC",
           "{'transformer__classifier__estimator__n_features': (256, 256), 'transformer__classifier__estimator__lr_init': 0.01, 'transformer__classifier__estimator__batch_size': 128, 'transformer__classifier__estimator__activation': 'tanh'}"
          ],
          [
           "PACC",
           "{'transformer__classifier__estimator__n_features': (512,), 'transformer__classifier__estimator__lr_init': 0.01, 'transformer__classifier__estimator__batch_size': 128, 'transformer__classifier__estimator__activation': 'tanh'}"
          ],
          [
           "PACC",
           "{'transformer__classifier__estimator__n_features': (256,), 'transformer__classifier__estimator__lr_init': 0.01, 'transformer__classifier__estimator__batch_size': 128, 'transformer__classifier__estimator__activation': 'tanh'}"
          ],
          [
           "PACC",
           "{'transformer__classifier__estimator__n_features': (128,), 'transformer__classifier__estimator__lr_init': 0.01, 'transformer__classifier__estimator__batch_size': 128, 'transformer__classifier__estimator__activation': 'tanh'}"
          ]
         ],
         "hovertemplate": "data=lequa2024_val<br>mean_probability_uniformness_ratio_score=%{x}<br>mrae=%{y}<br>method=%{customdata[0]}<br>params=%{customdata[1]}<extra></extra>",
         "legendgroup": "lequa2024_val",
         "marker": {
          "color": "#636efa",
          "symbol": "circle"
         },
         "mode": "markers",
         "name": "lequa2024_val",
         "orientation": "v",
         "showlegend": true,
         "type": "scatter",
         "x": [
          1.26787654361697,
          1.2397182639362634,
          1.2393108513757325,
          1.267280955971768
         ],
         "xaxis": "x",
         "y": [
          1.3620235258701314,
          1.2938656740336212,
          1.31618952217282,
          1.4619965145354583
         ],
         "yaxis": "y"
        }
       ],
       "layout": {
        "autosize": true,
        "legend": {
         "title": {
          "text": "data"
         },
         "tracegroupgap": 0
        },
        "margin": {
         "t": 60
        },
        "template": {
         "data": {
          "bar": [
           {
            "error_x": {
             "color": "#2a3f5f"
            },
            "error_y": {
             "color": "#2a3f5f"
            },
            "marker": {
             "line": {
              "color": "#E5ECF6",
              "width": 0.5
             },
             "pattern": {
              "fillmode": "overlay",
              "size": 10,
              "solidity": 0.2
             }
            },
            "type": "bar"
           }
          ],
          "barpolar": [
           {
            "marker": {
             "line": {
              "color": "#E5ECF6",
              "width": 0.5
             },
             "pattern": {
              "fillmode": "overlay",
              "size": 10,
              "solidity": 0.2
             }
            },
            "type": "barpolar"
           }
          ],
          "carpet": [
           {
            "aaxis": {
             "endlinecolor": "#2a3f5f",
             "gridcolor": "white",
             "linecolor": "white",
             "minorgridcolor": "white",
             "startlinecolor": "#2a3f5f"
            },
            "baxis": {
             "endlinecolor": "#2a3f5f",
             "gridcolor": "white",
             "linecolor": "white",
             "minorgridcolor": "white",
             "startlinecolor": "#2a3f5f"
            },
            "type": "carpet"
           }
          ],
          "choropleth": [
           {
            "colorbar": {
             "outlinewidth": 0,
             "ticks": ""
            },
            "type": "choropleth"
           }
          ],
          "contour": [
           {
            "colorbar": {
             "outlinewidth": 0,
             "ticks": ""
            },
            "colorscale": [
             [
              0,
              "#0d0887"
             ],
             [
              0.1111111111111111,
              "#46039f"
             ],
             [
              0.2222222222222222,
              "#7201a8"
             ],
             [
              0.3333333333333333,
              "#9c179e"
             ],
             [
              0.4444444444444444,
              "#bd3786"
             ],
             [
              0.5555555555555556,
              "#d8576b"
             ],
             [
              0.6666666666666666,
              "#ed7953"
             ],
             [
              0.7777777777777778,
              "#fb9f3a"
             ],
             [
              0.8888888888888888,
              "#fdca26"
             ],
             [
              1,
              "#f0f921"
             ]
            ],
            "type": "contour"
           }
          ],
          "contourcarpet": [
           {
            "colorbar": {
             "outlinewidth": 0,
             "ticks": ""
            },
            "type": "contourcarpet"
           }
          ],
          "heatmap": [
           {
            "colorbar": {
             "outlinewidth": 0,
             "ticks": ""
            },
            "colorscale": [
             [
              0,
              "#0d0887"
             ],
             [
              0.1111111111111111,
              "#46039f"
             ],
             [
              0.2222222222222222,
              "#7201a8"
             ],
             [
              0.3333333333333333,
              "#9c179e"
             ],
             [
              0.4444444444444444,
              "#bd3786"
             ],
             [
              0.5555555555555556,
              "#d8576b"
             ],
             [
              0.6666666666666666,
              "#ed7953"
             ],
             [
              0.7777777777777778,
              "#fb9f3a"
             ],
             [
              0.8888888888888888,
              "#fdca26"
             ],
             [
              1,
              "#f0f921"
             ]
            ],
            "type": "heatmap"
           }
          ],
          "heatmapgl": [
           {
            "colorbar": {
             "outlinewidth": 0,
             "ticks": ""
            },
            "colorscale": [
             [
              0,
              "#0d0887"
             ],
             [
              0.1111111111111111,
              "#46039f"
             ],
             [
              0.2222222222222222,
              "#7201a8"
             ],
             [
              0.3333333333333333,
              "#9c179e"
             ],
             [
              0.4444444444444444,
              "#bd3786"
             ],
             [
              0.5555555555555556,
              "#d8576b"
             ],
             [
              0.6666666666666666,
              "#ed7953"
             ],
             [
              0.7777777777777778,
              "#fb9f3a"
             ],
             [
              0.8888888888888888,
              "#fdca26"
             ],
             [
              1,
              "#f0f921"
             ]
            ],
            "type": "heatmapgl"
           }
          ],
          "histogram": [
           {
            "marker": {
             "pattern": {
              "fillmode": "overlay",
              "size": 10,
              "solidity": 0.2
             }
            },
            "type": "histogram"
           }
          ],
          "histogram2d": [
           {
            "colorbar": {
             "outlinewidth": 0,
             "ticks": ""
            },
            "colorscale": [
             [
              0,
              "#0d0887"
             ],
             [
              0.1111111111111111,
              "#46039f"
             ],
             [
              0.2222222222222222,
              "#7201a8"
             ],
             [
              0.3333333333333333,
              "#9c179e"
             ],
             [
              0.4444444444444444,
              "#bd3786"
             ],
             [
              0.5555555555555556,
              "#d8576b"
             ],
             [
              0.6666666666666666,
              "#ed7953"
             ],
             [
              0.7777777777777778,
              "#fb9f3a"
             ],
             [
              0.8888888888888888,
              "#fdca26"
             ],
             [
              1,
              "#f0f921"
             ]
            ],
            "type": "histogram2d"
           }
          ],
          "histogram2dcontour": [
           {
            "colorbar": {
             "outlinewidth": 0,
             "ticks": ""
            },
            "colorscale": [
             [
              0,
              "#0d0887"
             ],
             [
              0.1111111111111111,
              "#46039f"
             ],
             [
              0.2222222222222222,
              "#7201a8"
             ],
             [
              0.3333333333333333,
              "#9c179e"
             ],
             [
              0.4444444444444444,
              "#bd3786"
             ],
             [
              0.5555555555555556,
              "#d8576b"
             ],
             [
              0.6666666666666666,
              "#ed7953"
             ],
             [
              0.7777777777777778,
              "#fb9f3a"
             ],
             [
              0.8888888888888888,
              "#fdca26"
             ],
             [
              1,
              "#f0f921"
             ]
            ],
            "type": "histogram2dcontour"
           }
          ],
          "mesh3d": [
           {
            "colorbar": {
             "outlinewidth": 0,
             "ticks": ""
            },
            "type": "mesh3d"
           }
          ],
          "parcoords": [
           {
            "line": {
             "colorbar": {
              "outlinewidth": 0,
              "ticks": ""
             }
            },
            "type": "parcoords"
           }
          ],
          "pie": [
           {
            "automargin": true,
            "type": "pie"
           }
          ],
          "scatter": [
           {
            "fillpattern": {
             "fillmode": "overlay",
             "size": 10,
             "solidity": 0.2
            },
            "type": "scatter"
           }
          ],
          "scatter3d": [
           {
            "line": {
             "colorbar": {
              "outlinewidth": 0,
              "ticks": ""
             }
            },
            "marker": {
             "colorbar": {
              "outlinewidth": 0,
              "ticks": ""
             }
            },
            "type": "scatter3d"
           }
          ],
          "scattercarpet": [
           {
            "marker": {
             "colorbar": {
              "outlinewidth": 0,
              "ticks": ""
             }
            },
            "type": "scattercarpet"
           }
          ],
          "scattergeo": [
           {
            "marker": {
             "colorbar": {
              "outlinewidth": 0,
              "ticks": ""
             }
            },
            "type": "scattergeo"
           }
          ],
          "scattergl": [
           {
            "marker": {
             "colorbar": {
              "outlinewidth": 0,
              "ticks": ""
             }
            },
            "type": "scattergl"
           }
          ],
          "scattermapbox": [
           {
            "marker": {
             "colorbar": {
              "outlinewidth": 0,
              "ticks": ""
             }
            },
            "type": "scattermapbox"
           }
          ],
          "scatterpolar": [
           {
            "marker": {
             "colorbar": {
              "outlinewidth": 0,
              "ticks": ""
             }
            },
            "type": "scatterpolar"
           }
          ],
          "scatterpolargl": [
           {
            "marker": {
             "colorbar": {
              "outlinewidth": 0,
              "ticks": ""
             }
            },
            "type": "scatterpolargl"
           }
          ],
          "scatterternary": [
           {
            "marker": {
             "colorbar": {
              "outlinewidth": 0,
              "ticks": ""
             }
            },
            "type": "scatterternary"
           }
          ],
          "surface": [
           {
            "colorbar": {
             "outlinewidth": 0,
             "ticks": ""
            },
            "colorscale": [
             [
              0,
              "#0d0887"
             ],
             [
              0.1111111111111111,
              "#46039f"
             ],
             [
              0.2222222222222222,
              "#7201a8"
             ],
             [
              0.3333333333333333,
              "#9c179e"
             ],
             [
              0.4444444444444444,
              "#bd3786"
             ],
             [
              0.5555555555555556,
              "#d8576b"
             ],
             [
              0.6666666666666666,
              "#ed7953"
             ],
             [
              0.7777777777777778,
              "#fb9f3a"
             ],
             [
              0.8888888888888888,
              "#fdca26"
             ],
             [
              1,
              "#f0f921"
             ]
            ],
            "type": "surface"
           }
          ],
          "table": [
           {
            "cells": {
             "fill": {
              "color": "#EBF0F8"
             },
             "line": {
              "color": "white"
             }
            },
            "header": {
             "fill": {
              "color": "#C8D4E3"
             },
             "line": {
              "color": "white"
             }
            },
            "type": "table"
           }
          ]
         },
         "layout": {
          "annotationdefaults": {
           "arrowcolor": "#2a3f5f",
           "arrowhead": 0,
           "arrowwidth": 1
          },
          "autotypenumbers": "strict",
          "coloraxis": {
           "colorbar": {
            "outlinewidth": 0,
            "ticks": ""
           }
          },
          "colorscale": {
           "diverging": [
            [
             0,
             "#8e0152"
            ],
            [
             0.1,
             "#c51b7d"
            ],
            [
             0.2,
             "#de77ae"
            ],
            [
             0.3,
             "#f1b6da"
            ],
            [
             0.4,
             "#fde0ef"
            ],
            [
             0.5,
             "#f7f7f7"
            ],
            [
             0.6,
             "#e6f5d0"
            ],
            [
             0.7,
             "#b8e186"
            ],
            [
             0.8,
             "#7fbc41"
            ],
            [
             0.9,
             "#4d9221"
            ],
            [
             1,
             "#276419"
            ]
           ],
           "sequential": [
            [
             0,
             "#0d0887"
            ],
            [
             0.1111111111111111,
             "#46039f"
            ],
            [
             0.2222222222222222,
             "#7201a8"
            ],
            [
             0.3333333333333333,
             "#9c179e"
            ],
            [
             0.4444444444444444,
             "#bd3786"
            ],
            [
             0.5555555555555556,
             "#d8576b"
            ],
            [
             0.6666666666666666,
             "#ed7953"
            ],
            [
             0.7777777777777778,
             "#fb9f3a"
            ],
            [
             0.8888888888888888,
             "#fdca26"
            ],
            [
             1,
             "#f0f921"
            ]
           ],
           "sequentialminus": [
            [
             0,
             "#0d0887"
            ],
            [
             0.1111111111111111,
             "#46039f"
            ],
            [
             0.2222222222222222,
             "#7201a8"
            ],
            [
             0.3333333333333333,
             "#9c179e"
            ],
            [
             0.4444444444444444,
             "#bd3786"
            ],
            [
             0.5555555555555556,
             "#d8576b"
            ],
            [
             0.6666666666666666,
             "#ed7953"
            ],
            [
             0.7777777777777778,
             "#fb9f3a"
            ],
            [
             0.8888888888888888,
             "#fdca26"
            ],
            [
             1,
             "#f0f921"
            ]
           ]
          },
          "colorway": [
           "#636efa",
           "#EF553B",
           "#00cc96",
           "#ab63fa",
           "#FFA15A",
           "#19d3f3",
           "#FF6692",
           "#B6E880",
           "#FF97FF",
           "#FECB52"
          ],
          "font": {
           "color": "#2a3f5f"
          },
          "geo": {
           "bgcolor": "white",
           "lakecolor": "white",
           "landcolor": "#E5ECF6",
           "showlakes": true,
           "showland": true,
           "subunitcolor": "white"
          },
          "hoverlabel": {
           "align": "left"
          },
          "hovermode": "closest",
          "mapbox": {
           "style": "light"
          },
          "paper_bgcolor": "white",
          "plot_bgcolor": "#E5ECF6",
          "polar": {
           "angularaxis": {
            "gridcolor": "white",
            "linecolor": "white",
            "ticks": ""
           },
           "bgcolor": "#E5ECF6",
           "radialaxis": {
            "gridcolor": "white",
            "linecolor": "white",
            "ticks": ""
           }
          },
          "scene": {
           "xaxis": {
            "backgroundcolor": "#E5ECF6",
            "gridcolor": "white",
            "gridwidth": 2,
            "linecolor": "white",
            "showbackground": true,
            "ticks": "",
            "zerolinecolor": "white"
           },
           "yaxis": {
            "backgroundcolor": "#E5ECF6",
            "gridcolor": "white",
            "gridwidth": 2,
            "linecolor": "white",
            "showbackground": true,
            "ticks": "",
            "zerolinecolor": "white"
           },
           "zaxis": {
            "backgroundcolor": "#E5ECF6",
            "gridcolor": "white",
            "gridwidth": 2,
            "linecolor": "white",
            "showbackground": true,
            "ticks": "",
            "zerolinecolor": "white"
           }
          },
          "shapedefaults": {
           "line": {
            "color": "#2a3f5f"
           }
          },
          "ternary": {
           "aaxis": {
            "gridcolor": "white",
            "linecolor": "white",
            "ticks": ""
           },
           "baxis": {
            "gridcolor": "white",
            "linecolor": "white",
            "ticks": ""
           },
           "bgcolor": "#E5ECF6",
           "caxis": {
            "gridcolor": "white",
            "linecolor": "white",
            "ticks": ""
           }
          },
          "title": {
           "x": 0.05
          },
          "xaxis": {
           "automargin": true,
           "gridcolor": "white",
           "linecolor": "white",
           "ticks": "",
           "title": {
            "standoff": 15
           },
           "zerolinecolor": "white",
           "zerolinewidth": 2
          },
          "yaxis": {
           "automargin": true,
           "gridcolor": "white",
           "linecolor": "white",
           "ticks": "",
           "title": {
            "standoff": 15
           },
           "zerolinecolor": "white",
           "zerolinewidth": 2
          }
         }
        },
        "xaxis": {
         "anchor": "y",
         "autorange": true,
         "domain": [
          0,
          1
         ],
         "range": [
          0.09257793131270249,
          0.10367928831169436
         ],
         "title": {
          "text": "mean_probability_uniformness_ratio_score"
         },
         "type": "log"
        },
        "yaxis": {
         "anchor": "x",
         "autorange": true,
         "domain": [
          0,
          1
         ],
         "range": [
          0.10778109205509036,
          0.16905443647384197
         ],
         "title": {
          "text": "mrae"
         },
         "type": "log"
        }
       }
      },
      "image/png": "[encoded data removed]",
      "text/html": [
       "<div>                            <div id=\"d5608a96-903c-4ca9-9170-dc156512fa68\" class=\"plotly-graph-div\" style=\"height:525px; width:100%;\"></div>            <script type=\"text/javascript\">                require([\"plotly\"], function(Plotly) {                    window.PLOTLYENV=window.PLOTLYENV || {};                                    if (document.getElementById(\"d5608a96-903c-4ca9-9170-dc156512fa68\")) {                    Plotly.newPlot(                        \"d5608a96-903c-4ca9-9170-dc156512fa68\",                        [{\"customdata\":[[\"PACC\",\"{'transformer__classifier__estimator__n_features': (256, 256), 'transformer__classifier__estimator__lr_init': 0.01, 'transformer__classifier__estimator__batch_size': 128, 'transformer__classifier__estimator__activation': 'tanh'}\"],[\"PACC\",\"{'transformer__classifier__estimator__n_features': (512,), 'transformer__classifier__estimator__lr_init': 0.01, 'transformer__classifier__estimator__batch_size': 128, 'transformer__classifier__estimator__activation': 'tanh'}\"],[\"PACC\",\"{'transformer__classifier__estimator__n_features': (256,), 'transformer__classifier__estimator__lr_init': 0.01, 'transformer__classifier__estimator__batch_size': 128, 'transformer__classifier__estimator__activation': 'tanh'}\"],[\"PACC\",\"{'transformer__classifier__estimator__n_features': (128,), 'transformer__classifier__estimator__lr_init': 0.01, 'transformer__classifier__estimator__batch_size': 128, 'transformer__classifier__estimator__activation': 'tanh'}\"]],\"hovertemplate\":\"data=lequa2024_val\\u003cbr\\u003emean_probability_uniformness_ratio_score=%{x}\\u003cbr\\u003emrae=%{y}\\u003cbr\\u003emethod=%{customdata[0]}\\u003cbr\\u003eparams=%{customdata[1]}\\u003cextra\\u003e\\u003c\\u002fextra\\u003e\",\"legendgroup\":\"lequa2024_val\",\"marker\":{\"color\":\"#636efa\",\"symbol\":\"circle\"},\"mode\":\"markers\",\"name\":\"lequa2024_val\",\"orientation\":\"v\",\"showlegend\":true,\"x\":[1.26787654361697,1.2397182639362634,1.2393108513757325,1.267280955971768],\"xaxis\":\"x\",\"y\":[1.3620235258701314,1.2938656740336212,1.31618952217282,1.4619965145354583],\"yaxis\":\"y\",\"type\":\"scatter\"}],                        {\"template\":{\"data\":{\"histogram2dcontour\":[{\"type\":\"histogram2dcontour\",\"colorbar\":{\"outlinewidth\":0,\"ticks\":\"\"},\"colorscale\":[[0.0,\"#0d0887\"],[0.1111111111111111,\"#46039f\"],[0.2222222222222222,\"#7201a8\"],[0.3333333333333333,\"#9c179e\"],[0.4444444444444444,\"#bd3786\"],[0.5555555555555556,\"#d8576b\"],[0.6666666666666666,\"#ed7953\"],[0.7777777777777778,\"#fb9f3a\"],[0.8888888888888888,\"#fdca26\"],[1.0,\"#f0f921\"]]}],\"choropleth\":[{\"type\":\"choropleth\",\"colorbar\":{\"outlinewidth\":0,\"ticks\":\"\"}}],\"histogram2d\":[{\"type\":\"histogram2d\",\"colorbar\":{\"outlinewidth\":0,\"ticks\":\"\"},\"colorscale\":[[0.0,\"#0d0887\"],[0.1111111111111111,\"#46039f\"],[0.2222222222222222,\"#7201a8\"],[0.3333333333333333,\"#9c179e\"],[0.4444444444444444,\"#bd3786\"],[0.5555555555555556,\"#d8576b\"],[0.6666666666666666,\"#ed7953\"],[0.7777777777777778,\"#fb9f3a\"],[0.8888888888888888,\"#fdca26\"],[1.0,\"#f0f921\"]]}],\"heatmap\":[{\"type\":\"heatmap\",\"colorbar\":{\"outlinewidth\":0,\"ticks\":\"\"},\"colorscale\":[[0.0,\"#0d0887\"],[0.1111111111111111,\"#46039f\"],[0.2222222222222222,\"#7201a8\"],[0.3333333333333333,\"#9c179e\"],[0.4444444444444444,\"#bd3786\"],[0.5555555555555556,\"#d8576b\"],[0.6666666666666666,\"#ed7953\"],[0.7777777777777778,\"#fb9f3a\"],[0.8888888888888888,\"#fdca26\"],[1.0,\"#f0f921\"]]}],\"heatmapgl\":[{\"type\":\"heatmapgl\",\"colorbar\":{\"outlinewidth\":0,\"ticks\":\"\"},\"colorscale\":[[0.0,\"#0d0887\"],[0.1111111111111111,\"#46039f\"],[0.2222222222222222,\"#7201a8\"],[0.3333333333333333,\"#9c179e\"],[0.4444444444444444,\"#bd3786\"],[0.5555555555555556,\"#d8576b\"],[0.6666666666666666,\"#ed7953\"],[0.7777777777777778,\"#fb9f3a\"],[0.8888888888888888,\"#fdca26\"],[1.0,\"#f0f921\"]]}],\"contourcarpet\":[{\"type\":\"contourcarpet\",\"colorbar\":{\"outlinewidth\":0,\"ticks\":\"\"}}],\"contour\":[{\"type\":\"contour\",\"colorbar\":{\"outlinewidth\":0,\"ticks\":\"\"},\"colorscale\":[[0.0,\"#0d0887\"],[0.1111111111111111,\"#46039f\"],[0.2222222222222222,\"#7201a8\"],[0.3333333333333333,\"#9c179e\"],[0.4444444444444444,\"#bd3786\"],[0.5555555555555556,\"#d8576b\"],[0.6666666666666666,\"#ed7953\"],[0.7777777777777778,\"#fb9f3a\"],[0.8888888888888888,\"#fdca26\"],[1.0,\"#f0f921\"]]}],\"surface\":[{\"type\":\"surface\",\"colorbar\":{\"outlinewidth\":0,\"ticks\":\"\"},\"colorscale\":[[0.0,\"#0d0887\"],[0.1111111111111111,\"#46039f\"],[0.2222222222222222,\"#7201a8\"],[0.3333333333333333,\"#9c179e\"],[0.4444444444444444,\"#bd3786\"],[0.5555555555555556,\"#d8576b\"],[0.6666666666666666,\"#ed7953\"],[0.7777777777777778,\"#fb9f3a\"],[0.8888888888888888,\"#fdca26\"],[1.0,\"#f0f921\"]]}],\"mesh3d\":[{\"type\":\"mesh3d\",\"colorbar\":{\"outlinewidth\":0,\"ticks\":\"\"}}],\"scatter\":[{\"fillpattern\":{\"fillmode\":\"overlay\",\"size\":10,\"solidity\":0.2},\"type\":\"scatter\"}],\"parcoords\":[{\"type\":\"parcoords\",\"line\":{\"colorbar\":{\"outlinewidth\":0,\"ticks\":\"\"}}}],\"scatterpolargl\":[{\"type\":\"scatterpolargl\",\"marker\":{\"colorbar\":{\"outlinewidth\":0,\"ticks\":\"\"}}}],\"bar\":[{\"error_x\":{\"color\":\"#2a3f5f\"},\"error_y\":{\"color\":\"#2a3f5f\"},\"marker\":{\"line\":{\"color\":\"#E5ECF6\",\"width\":0.5},\"pattern\":{\"fillmode\":\"overlay\",\"size\":10,\"solidity\":0.2}},\"type\":\"bar\"}],\"scattergeo\":[{\"type\":\"scattergeo\",\"marker\":{\"colorbar\":{\"outlinewidth\":0,\"ticks\":\"\"}}}],\"scatterpolar\":[{\"type\":\"scatterpolar\",\"marker\":{\"colorbar\":{\"outlinewidth\":0,\"ticks\":\"\"}}}],\"histogram\":[{\"marker\":{\"pattern\":{\"fillmode\":\"overlay\",\"size\":10,\"solidity\":0.2}},\"type\":\"histogram\"}],\"scattergl\":[{\"type\":\"scattergl\",\"marker\":{\"colorbar\":{\"outlinewidth\":0,\"ticks\":\"\"}}}],\"scatter3d\":[{\"type\":\"scatter3d\",\"line\":{\"colorbar\":{\"outlinewidth\":0,\"ticks\":\"\"}},\"marker\":{\"colorbar\":{\"outlinewidth\":0,\"ticks\":\"\"}}}],\"scattermapbox\":[{\"type\":\"scattermapbox\",\"marker\":{\"colorbar\":{\"outlinewidth\":0,\"ticks\":\"\"}}}],\"scatterternary\":[{\"type\":\"scatterternary\",\"marker\":{\"colorbar\":{\"outlinewidth\":0,\"ticks\":\"\"}}}],\"scattercarpet\":[{\"type\":\"scattercarpet\",\"marker\":{\"colorbar\":{\"outlinewidth\":0,\"ticks\":\"\"}}}],\"carpet\":[{\"aaxis\":{\"endlinecolor\":\"#2a3f5f\",\"gridcolor\":\"white\",\"linecolor\":\"white\",\"minorgridcolor\":\"white\",\"startlinecolor\":\"#2a3f5f\"},\"baxis\":{\"endlinecolor\":\"#2a3f5f\",\"gridcolor\":\"white\",\"linecolor\":\"white\",\"minorgridcolor\":\"white\",\"startlinecolor\":\"#2a3f5f\"},\"type\":\"carpet\"}],\"table\":[{\"cells\":{\"fill\":{\"color\":\"#EBF0F8\"},\"line\":{\"color\":\"white\"}},\"header\":{\"fill\":{\"color\":\"#C8D4E3\"},\"line\":{\"color\":\"white\"}},\"type\":\"table\"}],\"barpolar\":[{\"marker\":{\"line\":{\"color\":\"#E5ECF6\",\"width\":0.5},\"pattern\":{\"fillmode\":\"overlay\",\"size\":10,\"solidity\":0.2}},\"type\":\"barpolar\"}],\"pie\":[{\"automargin\":true,\"type\":\"pie\"}]},\"layout\":{\"autotypenumbers\":\"strict\",\"colorway\":[\"#636efa\",\"#EF553B\",\"#00cc96\",\"#ab63fa\",\"#FFA15A\",\"#19d3f3\",\"#FF6692\",\"#B6E880\",\"#FF97FF\",\"#FECB52\"],\"font\":{\"color\":\"#2a3f5f\"},\"hovermode\":\"closest\",\"hoverlabel\":{\"align\":\"left\"},\"paper_bgcolor\":\"white\",\"plot_bgcolor\":\"#E5ECF6\",\"polar\":{\"bgcolor\":\"#E5ECF6\",\"angularaxis\":{\"gridcolor\":\"white\",\"linecolor\":\"white\",\"ticks\":\"\"},\"radialaxis\":{\"gridcolor\":\"white\",\"linecolor\":\"white\",\"ticks\":\"\"}},\"ternary\":{\"bgcolor\":\"#E5ECF6\",\"aaxis\":{\"gridcolor\":\"white\",\"linecolor\":\"white\",\"ticks\":\"\"},\"baxis\":{\"gridcolor\":\"white\",\"linecolor\":\"white\",\"ticks\":\"\"},\"caxis\":{\"gridcolor\":\"white\",\"linecolor\":\"white\",\"ticks\":\"\"}},\"coloraxis\":{\"colorbar\":{\"outlinewidth\":0,\"ticks\":\"\"}},\"colorscale\":{\"sequential\":[[0.0,\"#0d0887\"],[0.1111111111111111,\"#46039f\"],[0.2222222222222222,\"#7201a8\"],[0.3333333333333333,\"#9c179e\"],[0.4444444444444444,\"#bd3786\"],[0.5555555555555556,\"#d8576b\"],[0.6666666666666666,\"#ed7953\"],[0.7777777777777778,\"#fb9f3a\"],[0.8888888888888888,\"#fdca26\"],[1.0,\"#f0f921\"]],\"sequentialminus\":[[0.0,\"#0d0887\"],[0.1111111111111111,\"#46039f\"],[0.2222222222222222,\"#7201a8\"],[0.3333333333333333,\"#9c179e\"],[0.4444444444444444,\"#bd3786\"],[0.5555555555555556,\"#d8576b\"],[0.6666666666666666,\"#ed7953\"],[0.7777777777777778,\"#fb9f3a\"],[0.8888888888888888,\"#fdca26\"],[1.0,\"#f0f921\"]],\"diverging\":[[0,\"#8e0152\"],[0.1,\"#c51b7d\"],[0.2,\"#de77ae\"],[0.3,\"#f1b6da\"],[0.4,\"#fde0ef\"],[0.5,\"#f7f7f7\"],[0.6,\"#e6f5d0\"],[0.7,\"#b8e186\"],[0.8,\"#7fbc41\"],[0.9,\"#4d9221\"],[1,\"#276419\"]]},\"xaxis\":{\"gridcolor\":\"white\",\"linecolor\":\"white\",\"ticks\":\"\",\"title\":{\"standoff\":15},\"zerolinecolor\":\"white\",\"automargin\":true,\"zerolinewidth\":2},\"yaxis\":{\"gridcolor\":\"white\",\"linecolor\":\"white\",\"ticks\":\"\",\"title\":{\"standoff\":15},\"zerolinecolor\":\"white\",\"automargin\":true,\"zerolinewidth\":2},\"scene\":{\"xaxis\":{\"backgroundcolor\":\"#E5ECF6\",\"gridcolor\":\"white\",\"linecolor\":\"white\",\"showbackground\":true,\"ticks\":\"\",\"zerolinecolor\":\"white\",\"gridwidth\":2},\"yaxis\":{\"backgroundcolor\":\"#E5ECF6\",\"gridcolor\":\"white\",\"linecolor\":\"white\",\"showbackground\":true,\"ticks\":\"\",\"zerolinecolor\":\"white\",\"gridwidth\":2},\"zaxis\":{\"backgroundcolor\":\"#E5ECF6\",\"gridcolor\":\"white\",\"linecolor\":\"white\",\"showbackground\":true,\"ticks\":\"\",\"zerolinecolor\":\"white\",\"gridwidth\":2}},\"shapedefaults\":{\"line\":{\"color\":\"#2a3f5f\"}},\"annotationdefaults\":{\"arrowcolor\":\"#2a3f5f\",\"arrowhead\":0,\"arrowwidth\":1},\"geo\":{\"bgcolor\":\"white\",\"landcolor\":\"#E5ECF6\",\"subunitcolor\":\"white\",\"showland\":true,\"showlakes\":true,\"lakecolor\":\"white\"},\"title\":{\"x\":0.05},\"mapbox\":{\"style\":\"light\"}}},\"xaxis\":{\"anchor\":\"y\",\"domain\":[0.0,1.0],\"title\":{\"text\":\"mean_probability_uniformness_ratio_score\"},\"type\":\"log\"},\"yaxis\":{\"anchor\":\"x\",\"domain\":[0.0,1.0],\"title\":{\"text\":\"mrae\"},\"type\":\"log\"},\"legend\":{\"title\":{\"text\":\"data\"},\"tracegroupgap\":0},\"margin\":{\"t\":60}},                        {\"responsive\": true}                    ).then(function(){\n",
       "                            \n",
       "var gd = document.getElementById('d5608a96-903c-4ca9-9170-dc156512fa68');\n",
       "var x = new MutationObserver(function (mutations, observer) {{\n",
       "        var display = window.getComputedStyle(gd).display;\n",
       "        if (!display || display === 'none') {{\n",
       "            console.log([gd, 'removed!']);\n",
       "            Plotly.purge(gd);\n",
       "            observer.disconnect();\n",
       "        }}\n",
       "}});\n",
       "\n",
       "// Listen for the removal of the full notebook cells\n",
       "var notebookContainer = gd.closest('#notebook-container');\n",
       "if (notebookContainer) {{\n",
       "    x.observe(notebookContainer, {childList: true});\n",
       "}}\n",
       "\n",
       "// Listen for the clearing of the current output cell\n",
       "var outputEl = gd.closest('.output');\n",
       "if (outputEl) {{\n",
       "    x.observe(outputEl, {childList: true});\n",
       "}}\n",
       "\n",
       "                        })                };                });            </script>        </div>"
      ]
     },
     "metadata": {},
     "output_type": "display_data"
    }
   ],
   "source": [
    "# a similar experiment for PACC instead of SLD\n",
    "plot_neural(\"results/val_lequa2022_02.csv\")"
   ]
  }
 ],
 "metadata": {
  "kernelspec": {
   "display_name": "Python 3 (ipykernel)",
   "language": "python",
   "name": "python3"
  },
  "language_info": {
   "codemirror_mode": {
    "name": "ipython",
    "version": 3
   },
   "file_extension": ".py",
   "mimetype": "text/x-python",
   "name": "python",
   "nbconvert_exporter": "python",
   "pygments_lexer": "ipython3",
   "version": "3.11.8"
  }
 },
 "nbformat": 4,
 "nbformat_minor": 5
}
